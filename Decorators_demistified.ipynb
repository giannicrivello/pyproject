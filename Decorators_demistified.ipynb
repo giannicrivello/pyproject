{
 "cells": [
  {
   "cell_type": "code",
   "execution_count": 98,
   "id": "bade1251",
   "metadata": {},
   "outputs": [],
   "source": [
    "\"\"\"\n",
    "Passing a funciton reference as an argument. \n",
    "Note that we do not use () when referenceing a function\n",
    "\"\"\"\n",
    "\n",
    "def say_hello(name):\n",
    "    return f\"hello {name}\"\n",
    "\n",
    "def be_awesome(name):\n",
    "    return f\"Yo {name}, together we are awesome\"\n",
    "\n",
    "def greet_bob(greeter_func):\n",
    "    return greeter_func('Bob')"
   ]
  },
  {
   "cell_type": "code",
   "execution_count": 99,
   "id": "141cee01",
   "metadata": {},
   "outputs": [
    {
     "data": {
      "text/plain": [
       "'hello Bob'"
      ]
     },
     "execution_count": 99,
     "metadata": {},
     "output_type": "execute_result"
    }
   ],
   "source": [
    "greet_bob(say_hello)"
   ]
  },
  {
   "cell_type": "code",
   "execution_count": 100,
   "id": "4314ed8b",
   "metadata": {},
   "outputs": [
    {
     "data": {
      "text/plain": [
       "'Yo Bob, together we are awesome'"
      ]
     },
     "execution_count": 100,
     "metadata": {},
     "output_type": "execute_result"
    }
   ],
   "source": [
    "greet_bob(be_awesome)"
   ]
  },
  {
   "cell_type": "code",
   "execution_count": 101,
   "id": "ec973a28",
   "metadata": {},
   "outputs": [],
   "source": [
    "\"\"\"\n",
    "Inner Functions\n",
    "\"\"\"\n",
    "def parent():\n",
    "    print(\"printing from the parent() function\")\n",
    "    \n",
    "    def first_child():\n",
    "        print(\"printing from the first child() function\")\n",
    "        \n",
    "    def second_child():\n",
    "        print(\"printing form the second child() function\")\n",
    "        \n",
    "    second_child()\n",
    "    first_child()\n",
    "    \n",
    "    \n",
    "\n",
    "        \n",
    "\n",
    "\n"
   ]
  },
  {
   "cell_type": "code",
   "execution_count": 102,
   "id": "8e17108b",
   "metadata": {},
   "outputs": [
    {
     "name": "stdout",
     "output_type": "stream",
     "text": [
      "printing from the parent() function\n",
      "printing form the second child() function\n",
      "printing from the first child() function\n"
     ]
    }
   ],
   "source": [
    "parent()"
   ]
  },
  {
   "cell_type": "code",
   "execution_count": 103,
   "id": "4579a4bd",
   "metadata": {},
   "outputs": [],
   "source": [
    "\"\"\"\n",
    "return functions from funcitons\n",
    "\"\"\"\n",
    "def parent(num):\n",
    "    def first_child():\n",
    "        return \"Hi, i am gianni\"\n",
    "    def second_child():\n",
    "        return \"Hi i am mazi\"\n",
    "    if num == 1:\n",
    "        return first_child\n",
    "    else:\n",
    "        return second_child"
   ]
  },
  {
   "cell_type": "code",
   "execution_count": 104,
   "id": "32bbdbc9",
   "metadata": {},
   "outputs": [],
   "source": [
    "first = parent(1)\n",
    "second = parent(2)"
   ]
  },
  {
   "cell_type": "code",
   "execution_count": 105,
   "id": "e7d3c03e",
   "metadata": {},
   "outputs": [
    {
     "data": {
      "text/plain": [
       "<function __main__.parent.<locals>.first_child()>"
      ]
     },
     "execution_count": 105,
     "metadata": {},
     "output_type": "execute_result"
    }
   ],
   "source": [
    "first"
   ]
  },
  {
   "cell_type": "code",
   "execution_count": 106,
   "id": "74c9e9ad",
   "metadata": {},
   "outputs": [
    {
     "data": {
      "text/plain": [
       "<function __main__.parent.<locals>.second_child()>"
      ]
     },
     "execution_count": 106,
     "metadata": {},
     "output_type": "execute_result"
    }
   ],
   "source": [
    "second"
   ]
  },
  {
   "cell_type": "code",
   "execution_count": 107,
   "id": "93fec7ad",
   "metadata": {},
   "outputs": [
    {
     "data": {
      "text/plain": [
       "'Hi, i am gianni'"
      ]
     },
     "execution_count": 107,
     "metadata": {},
     "output_type": "execute_result"
    }
   ],
   "source": [
    "first()"
   ]
  },
  {
   "cell_type": "code",
   "execution_count": 108,
   "id": "12ba3c42",
   "metadata": {},
   "outputs": [
    {
     "data": {
      "text/plain": [
       "'Hi i am mazi'"
      ]
     },
     "execution_count": 108,
     "metadata": {},
     "output_type": "execute_result"
    }
   ],
   "source": [
    "second()"
   ]
  },
  {
   "cell_type": "code",
   "execution_count": 109,
   "id": "1c81315f",
   "metadata": {},
   "outputs": [],
   "source": [
    "\"\"\"\n",
    "simple decorator\n",
    "\"\"\"\n",
    "def my_decorator(func):\n",
    "    def wrapper():\n",
    "        print(\"this is before\")\n",
    "        func()\n",
    "        print('this is after')\n",
    "    return wrapper\n",
    "def say_whee():\n",
    "    print(\"yehaaa\")\n",
    "\n",
    "say_whee = my_decorator(say_whee)"
   ]
  },
  {
   "cell_type": "code",
   "execution_count": 110,
   "id": "fd62bec2",
   "metadata": {},
   "outputs": [
    {
     "data": {
      "text/plain": [
       "<function __main__.my_decorator.<locals>.wrapper()>"
      ]
     },
     "execution_count": 110,
     "metadata": {},
     "output_type": "execute_result"
    }
   ],
   "source": [
    "say_whee"
   ]
  },
  {
   "cell_type": "code",
   "execution_count": 111,
   "id": "e3eb70c2",
   "metadata": {},
   "outputs": [
    {
     "name": "stdout",
     "output_type": "stream",
     "text": [
      "this is before\n",
      "yehaaa\n",
      "this is after\n"
     ]
    }
   ],
   "source": [
    "say_whee()"
   ]
  },
  {
   "cell_type": "code",
   "execution_count": 112,
   "id": "a6946c71",
   "metadata": {},
   "outputs": [],
   "source": [
    "\"\"\"\n",
    "using syntactic sugar with the \"pie\" syntax\n",
    "\"\"\"\n",
    "def new_decorator(func):\n",
    "    def wrapper():\n",
    "        print(\"before\")\n",
    "        func()\n",
    "        print(\"after\")\n",
    "    return wrapper\n",
    "\n",
    "@new_decorator\n",
    "def say_yeehaa():\n",
    "    print(\"yeehaa\")\n",
    "    \n",
    "#much like the above example the @new_decorator takes the place of \n",
    "#say_whee = my_decorator(say_whee) from the above example"
   ]
  },
  {
   "cell_type": "code",
   "execution_count": 113,
   "id": "6a9b16f9",
   "metadata": {},
   "outputs": [
    {
     "name": "stdout",
     "output_type": "stream",
     "text": [
      "before\n",
      "yeehaa\n",
      "after\n"
     ]
    }
   ],
   "source": [
    "say_yeehaa() #calling the decorated funciton"
   ]
  },
  {
   "cell_type": "code",
   "execution_count": 160,
   "id": "2f608f7e",
   "metadata": {},
   "outputs": [],
   "source": [
    "\"\"\"\n",
    "reusing a decorator across py projects. decorator is located in \n",
    "decorators.py\n",
    "\"\"\"\n",
    "import functools\n",
    "\n",
    "def do_twice(func):\n",
    "    @functools.wraps(func)\n",
    "    def wrapper_do_twice(*args, **kwargs):\n",
    "        func(*args, **kwargs)\n",
    "        return func(*args, **kwargs)\n",
    "    return wrapper_do_twice\n",
    "\n",
    "@do_twice\n",
    "def say_whee_with_outside_decorator(name):\n",
    "    print(f\"hello {name}\")"
   ]
  },
  {
   "cell_type": "code",
   "execution_count": 161,
   "id": "3ba93a68",
   "metadata": {},
   "outputs": [
    {
     "data": {
      "text/plain": [
       "<function __main__.say_whee_with_outside_decorator(name)>"
      ]
     },
     "execution_count": 161,
     "metadata": {},
     "output_type": "execute_result"
    }
   ],
   "source": [
    "say_whee_with_outside_decorator"
   ]
  },
  {
   "cell_type": "code",
   "execution_count": 162,
   "id": "949110dd",
   "metadata": {},
   "outputs": [
    {
     "name": "stdout",
     "output_type": "stream",
     "text": [
      "hello Bob\n",
      "hello Bob\n"
     ]
    }
   ],
   "source": [
    "say_whee_with_outside_decorator(\"Bob\")"
   ]
  },
  {
   "cell_type": "code",
   "execution_count": 163,
   "id": "5da2d2ca",
   "metadata": {},
   "outputs": [],
   "source": [
    "\"\"\"\n",
    "decorating funcitons with arguments. \n",
    "to do this you must use *args and **kwargs\n",
    "\"\"\"\n",
    "@do_twice\n",
    "def return_greeting(name):\n",
    "    print(\"creating greeting\")\n",
    "    return f\"Hello {name}\""
   ]
  },
  {
   "cell_type": "code",
   "execution_count": 164,
   "id": "d81d027e",
   "metadata": {},
   "outputs": [
    {
     "name": "stdout",
     "output_type": "stream",
     "text": [
      "creating greeting\n",
      "creating greeting\n"
     ]
    }
   ],
   "source": [
    "hi_adam = return_greeting(\"adam\")"
   ]
  },
  {
   "cell_type": "code",
   "execution_count": 165,
   "id": "6a2f13a9",
   "metadata": {},
   "outputs": [
    {
     "name": "stdout",
     "output_type": "stream",
     "text": [
      "Hello adam\n"
     ]
    }
   ],
   "source": [
    "\"\"\"\n",
    "we can now see that the decorator ate the return value\n",
    "to fix this make sure the wrapper function returns the return value of the decorated function\n",
    "\"\"\"\n",
    "print(hi_adam) \n"
   ]
  },
  {
   "cell_type": "code",
   "execution_count": 168,
   "id": "ba535bed",
   "metadata": {},
   "outputs": [
    {
     "data": {
      "text/plain": [
       "<function __main__.return_greeting(name)>"
      ]
     },
     "execution_count": 168,
     "metadata": {},
     "output_type": "execute_result"
    }
   ],
   "source": [
    "\"\"\"\n",
    "using func tools we can now have some nice introspection of our funciton\n",
    "\"\"\"\n",
    "return_greeting"
   ]
  },
  {
   "cell_type": "code",
   "execution_count": 169,
   "id": "20610026",
   "metadata": {},
   "outputs": [
    {
     "name": "stdout",
     "output_type": "stream",
     "text": [
      "Help on function return_greeting in module __main__:\n",
      "\n",
      "return_greeting(name)\n",
      "\n"
     ]
    }
   ],
   "source": [
    "help(return_greeting)\n"
   ]
  },
  {
   "cell_type": "code",
   "execution_count": 170,
   "id": "13b3fdaf",
   "metadata": {},
   "outputs": [
    {
     "data": {
      "text/plain": [
       "'return_greeting'"
      ]
     },
     "execution_count": 170,
     "metadata": {},
     "output_type": "execute_result"
    }
   ],
   "source": [
    "return_greeting.__name__"
   ]
  },
  {
   "cell_type": "code",
   "execution_count": 273,
   "id": "4c33b252",
   "metadata": {},
   "outputs": [],
   "source": [
    "\"\"\"\n",
    "Real world example of decorators\n",
    "\n",
    "\n",
    "\n",
    "BOILER PLATE:\n",
    "\n",
    "def decorator(func):\n",
    "    @functools.wraps(func)\n",
    "    def wrapper(*args, **kwargs):\n",
    "    \n",
    "        #do something\n",
    "        value = func(*args, **kwargs)\n",
    "        #do something after\n",
    "        return value\n",
    "    return wrapper\n",
    "\n",
    "\n",
    "\n",
    "TIMER DECORATOR: Measurs the time a funcniton takes to execute\n",
    "\"\"\"\n",
    "import time\n",
    "\n",
    "def timer(func):\n",
    "    @functools.wraps(func)\n",
    "    def wrapper_timer(*args, **kwargs):\n",
    "        start_time = time.perf_counter()\n",
    "        value = func(*args, **kwargs)\n",
    "        stop_time = time.perf_counter()\n",
    "        run_time = stop_time - start_time\n",
    "        print(f\"Finished {func.__name__} in {run_time:4f} secs\")\n",
    "        return value\n",
    "    return wrapper_timer"
   ]
  },
  {
   "cell_type": "code",
   "execution_count": 277,
   "id": "0e1a6038",
   "metadata": {},
   "outputs": [],
   "source": [
    "@timer\n",
    "def waste_time(num):\n",
    "    return time.sleep(num)"
   ]
  },
  {
   "cell_type": "code",
   "execution_count": 278,
   "id": "4dda39ae",
   "metadata": {},
   "outputs": [
    {
     "name": "stdout",
     "output_type": "stream",
     "text": [
      "Finished waste_time in 1.005049 secs\n"
     ]
    }
   ],
   "source": [
    "waste_time(1)"
   ]
  },
  {
   "cell_type": "code",
   "execution_count": 280,
   "id": "6c42368e",
   "metadata": {},
   "outputs": [
    {
     "name": "stdout",
     "output_type": "stream",
     "text": [
      "Finished waste_time in 10.000931 secs\n"
     ]
    }
   ],
   "source": [
    "waste_time(10)"
   ]
  },
  {
   "cell_type": "code",
   "execution_count": null,
   "id": "3c778333",
   "metadata": {},
   "outputs": [],
   "source": []
  },
  {
   "cell_type": "code",
   "execution_count": null,
   "id": "97c70cf4",
   "metadata": {},
   "outputs": [],
   "source": []
  },
  {
   "cell_type": "code",
   "execution_count": null,
   "id": "bfca43e2",
   "metadata": {},
   "outputs": [],
   "source": []
  },
  {
   "cell_type": "code",
   "execution_count": null,
   "id": "ad7adecd",
   "metadata": {},
   "outputs": [],
   "source": []
  }
 ],
 "metadata": {
  "kernelspec": {
   "display_name": "Python 3 (ipykernel)",
   "language": "python",
   "name": "python3"
  },
  "language_info": {
   "codemirror_mode": {
    "name": "ipython",
    "version": 3
   },
   "file_extension": ".py",
   "mimetype": "text/x-python",
   "name": "python",
   "nbconvert_exporter": "python",
   "pygments_lexer": "ipython3",
   "version": "3.9.7"
  }
 },
 "nbformat": 4,
 "nbformat_minor": 5
}
