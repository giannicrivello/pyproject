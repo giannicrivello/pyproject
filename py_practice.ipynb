{
 "cells": [
  {
   "cell_type": "code",
   "execution_count": 2,
   "id": "bd962e2f",
   "metadata": {},
   "outputs": [],
   "source": [
    "def lazy_return_attacks():\n",
    "    import random\n",
    "    attacks = {\n",
    "        \"kimura\":\"upper_body\",\n",
    "        \"footlock\":\"lower_body\",\n",
    "        \"arm_triagle\":\"upper_body\",\n",
    "        \"knee_bar\":\"lower_body\"\n",
    "    }\n",
    "    while True:\n",
    "        random_attack = random.choices(list(attacks.keys()))\n",
    "        yield random_attack"
   ]
  },
  {
   "cell_type": "code",
   "execution_count": 3,
   "id": "f2ec58cd",
   "metadata": {},
   "outputs": [],
   "source": [
    "attack = lazy_return_attacks()"
   ]
  },
  {
   "cell_type": "code",
   "execution_count": 4,
   "id": "1bde339c",
   "metadata": {},
   "outputs": [
    {
     "data": {
      "text/plain": [
       "['knee_bar']"
      ]
     },
     "execution_count": 4,
     "metadata": {},
     "output_type": "execute_result"
    }
   ],
   "source": [
    "next(attack)"
   ]
  },
  {
   "cell_type": "code",
   "execution_count": 5,
   "id": "15585e0b",
   "metadata": {},
   "outputs": [
    {
     "data": {
      "text/plain": [
       "['footlock']"
      ]
     },
     "execution_count": 5,
     "metadata": {},
     "output_type": "execute_result"
    }
   ],
   "source": [
    "next(attack)"
   ]
  },
  {
   "cell_type": "code",
   "execution_count": 10,
   "id": "b7dee1bc",
   "metadata": {},
   "outputs": [
    {
     "name": "stdout",
     "output_type": "stream",
     "text": [
      "['kimura']\n",
      "['knee_bar']\n",
      "['kimura']\n",
      "['knee_bar']\n",
      "['footlock']\n",
      "['arm_triagle']\n",
      "['footlock']\n",
      "['kimura']\n",
      "['knee_bar']\n",
      "['footlock']\n"
     ]
    }
   ],
   "source": [
    "for _ in range(10):\n",
    "    print(next(attack))"
   ]
  },
  {
   "cell_type": "code",
   "execution_count": 9,
   "id": "a3ff2886",
   "metadata": {},
   "outputs": [
    {
     "data": {
      "text/plain": [
       "generator"
      ]
     },
     "execution_count": 9,
     "metadata": {},
     "output_type": "execute_result"
    }
   ],
   "source": [
    "type(attack)"
   ]
  },
  {
   "cell_type": "code",
   "execution_count": 17,
   "id": "36b862ee",
   "metadata": {},
   "outputs": [],
   "source": [
    "def random_speed_attack(func):\n",
    "    import time\n",
    "    import random\n",
    "    def wrapper_speed(*args, **kwargs):\n",
    "        sleep_time = random.randint(0,3)\n",
    "        print(f\"Attacking after {sleep_time} seconds\")\n",
    "        return func(*args, **kwargs)\n",
    "    return wrapper_speed"
   ]
  },
  {
   "cell_type": "code",
   "execution_count": 26,
   "id": "c0138186",
   "metadata": {},
   "outputs": [],
   "source": [
    "@random_speed_attack\n",
    "def lazy_return_attacks():\n",
    "    import random\n",
    "    attacks = {\n",
    "        \"kimura\":\"upper_body\",\n",
    "        \"footlock\":\"lower_body\",\n",
    "        \"arm_triagle\":\"upper_body\",\n",
    "        \"knee_bar\":\"lower_body\"\n",
    "    }\n",
    "    while True:\n",
    "        random_attack = random.choices(list(attacks.keys()))\n",
    "        yield random_attack"
   ]
  },
  {
   "cell_type": "code",
   "execution_count": 27,
   "id": "97352db7",
   "metadata": {},
   "outputs": [
    {
     "name": "stdout",
     "output_type": "stream",
     "text": [
      "Attacking after 0 seconds\n",
      "['knee_bar']\n",
      "Attacking after 2 seconds\n",
      "['footlock']\n",
      "Attacking after 1 seconds\n",
      "['arm_triagle']\n",
      "Attacking after 1 seconds\n",
      "['arm_triagle']\n",
      "Attacking after 2 seconds\n",
      "['arm_triagle']\n"
     ]
    }
   ],
   "source": [
    "for _ in range(5):\n",
    "    print(next(lazy_return_attacks()))"
   ]
  },
  {
   "cell_type": "code",
   "execution_count": null,
   "id": "8a315e1f",
   "metadata": {},
   "outputs": [],
   "source": []
  },
  {
   "cell_type": "code",
   "execution_count": null,
   "id": "6f0a0a8a",
   "metadata": {},
   "outputs": [],
   "source": []
  },
  {
   "cell_type": "code",
   "execution_count": null,
   "id": "4a1c7e76",
   "metadata": {},
   "outputs": [],
   "source": []
  }
 ],
 "metadata": {
  "kernelspec": {
   "display_name": "Python 3 (ipykernel)",
   "language": "python",
   "name": "python3"
  },
  "language_info": {
   "codemirror_mode": {
    "name": "ipython",
    "version": 3
   },
   "file_extension": ".py",
   "mimetype": "text/x-python",
   "name": "python",
   "nbconvert_exporter": "python",
   "pygments_lexer": "ipython3",
   "version": "3.9.7"
  }
 },
 "nbformat": 4,
 "nbformat_minor": 5
}
