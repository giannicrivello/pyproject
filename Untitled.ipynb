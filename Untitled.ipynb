{
 "cells": [
  {
   "cell_type": "code",
   "execution_count": 1,
   "id": "d1dcb0a1",
   "metadata": {},
   "outputs": [],
   "source": [
    "import collections"
   ]
  },
  {
   "cell_type": "code",
   "execution_count": 2,
   "id": "44a9d91d",
   "metadata": {},
   "outputs": [],
   "source": [
    "Card = collections.namedtuple('Card',['rank','suit'])"
   ]
  },
  {
   "cell_type": "code",
   "execution_count": 3,
   "id": "b39893ad",
   "metadata": {},
   "outputs": [
    {
     "data": {
      "text/plain": [
       "__main__.Card"
      ]
     },
     "execution_count": 3,
     "metadata": {},
     "output_type": "execute_result"
    }
   ],
   "source": [
    "Card"
   ]
  },
  {
   "cell_type": "code",
   "execution_count": 20,
   "id": "c08d91bf",
   "metadata": {},
   "outputs": [],
   "source": [
    "class FrenchDeck:\n",
    "    ranks = [str(n) for n in range(2,11)] + list('KQJA')\n",
    "    suits = 'diamond,spades,clubs,hearts'.split(',')\n",
    "    \n",
    "    def __init__(self):\n",
    "        self._cards = [Card(rank, suit) for rank in self.ranks for suit in self.suits]\n",
    "        \n",
    "    def __len__(self):\n",
    "        return len(self._cards)\n",
    "    \n",
    "    def __getitem__(self, position):\n",
    "        return self._cards[position]\n",
    "    \n",
    "    def __call__(self):\n",
    "        print('this is a card deck')\n",
    "        \n",
    "        \n",
    "        "
   ]
  },
  {
   "cell_type": "code",
   "execution_count": 21,
   "id": "c97eaf41",
   "metadata": {},
   "outputs": [],
   "source": [
    "deck = FrenchDeck()"
   ]
  },
  {
   "cell_type": "code",
   "execution_count": 22,
   "id": "bd786f9c",
   "metadata": {},
   "outputs": [
    {
     "data": {
      "text/plain": [
       "52"
      ]
     },
     "execution_count": 22,
     "metadata": {},
     "output_type": "execute_result"
    }
   ],
   "source": [
    "len(deck)"
   ]
  },
  {
   "cell_type": "code",
   "execution_count": 23,
   "id": "7bcdc370",
   "metadata": {},
   "outputs": [
    {
     "data": {
      "text/plain": [
       "Card(rank='2', suit='spades')"
      ]
     },
     "execution_count": 23,
     "metadata": {},
     "output_type": "execute_result"
    }
   ],
   "source": [
    "deck[1]"
   ]
  },
  {
   "cell_type": "code",
   "execution_count": 24,
   "id": "176d57d5",
   "metadata": {},
   "outputs": [],
   "source": [
    "from random import choice"
   ]
  },
  {
   "cell_type": "code",
   "execution_count": 25,
   "id": "7d33a3c7",
   "metadata": {},
   "outputs": [
    {
     "data": {
      "text/plain": [
       "Card(rank='J', suit='diamond')"
      ]
     },
     "execution_count": 25,
     "metadata": {},
     "output_type": "execute_result"
    }
   ],
   "source": [
    "choice(deck)"
   ]
  },
  {
   "cell_type": "code",
   "execution_count": 29,
   "id": "1a898a0d",
   "metadata": {},
   "outputs": [],
   "source": [
    "def dealer():\n",
    "    count = 0\n",
    "    while True:\n",
    "        x = [choice(deck) for _ in range(10)]\n",
    "        yield x\n",
    "        "
   ]
  },
  {
   "cell_type": "code",
   "execution_count": 30,
   "id": "9fbad102",
   "metadata": {},
   "outputs": [],
   "source": [
    "dealer = dealer()"
   ]
  },
  {
   "cell_type": "code",
   "execution_count": 33,
   "id": "620edc39",
   "metadata": {},
   "outputs": [
    {
     "data": {
      "text/plain": [
       "[Card(rank='A', suit='spades'),\n",
       " Card(rank='6', suit='clubs'),\n",
       " Card(rank='J', suit='spades'),\n",
       " Card(rank='K', suit='diamond'),\n",
       " Card(rank='7', suit='spades'),\n",
       " Card(rank='J', suit='spades'),\n",
       " Card(rank='K', suit='diamond'),\n",
       " Card(rank='5', suit='clubs'),\n",
       " Card(rank='2', suit='hearts'),\n",
       " Card(rank='8', suit='diamond')]"
      ]
     },
     "execution_count": 33,
     "metadata": {},
     "output_type": "execute_result"
    }
   ],
   "source": [
    "next(dealer)"
   ]
  },
  {
   "cell_type": "code",
   "execution_count": 40,
   "id": "c68eb2af",
   "metadata": {},
   "outputs": [],
   "source": [
    "Technique = collections.namedtuple('Technique',['tech_type', 'name'])"
   ]
  },
  {
   "cell_type": "code",
   "execution_count": 49,
   "id": "80008dd2",
   "metadata": {},
   "outputs": [],
   "source": [
    "class TechniqueClass:\n",
    "    tech_types = 'upper body', 'lower body', 'choke'\n",
    "    names = 'footlock', 'triangle', 'legdrag'\n",
    "    \n",
    "    def __init__(self):\n",
    "        self._technique = [Technique(tech_type, name) for tech_type in self.tech_types for name in self.names]\n",
    "        \n",
    "    def __len__(self):\n",
    "        return len(self._technique)\n",
    "    \n",
    "    def __getitem__(self, position):\n",
    "        return self._technique[position]\n",
    "    \n",
    "    def __call__(self):\n",
    "        print('I am a group of techniques')"
   ]
  },
  {
   "cell_type": "code",
   "execution_count": 50,
   "id": "106ac37c",
   "metadata": {},
   "outputs": [],
   "source": [
    "tonights_curriculum = TechniqueClass()"
   ]
  },
  {
   "cell_type": "code",
   "execution_count": 51,
   "id": "f17a316b",
   "metadata": {},
   "outputs": [
    {
     "name": "stdout",
     "output_type": "stream",
     "text": [
      "I am a group of techniques\n"
     ]
    }
   ],
   "source": [
    "tonights_curriculum()"
   ]
  },
  {
   "cell_type": "code",
   "execution_count": 52,
   "id": "ffe2d7aa",
   "metadata": {},
   "outputs": [
    {
     "data": {
      "text/plain": [
       "9"
      ]
     },
     "execution_count": 52,
     "metadata": {},
     "output_type": "execute_result"
    }
   ],
   "source": [
    "len(tonights_curriculum)"
   ]
  },
  {
   "cell_type": "code",
   "execution_count": 53,
   "id": "e935055a",
   "metadata": {},
   "outputs": [
    {
     "data": {
      "text/plain": [
       "Technique(tech_type='upper body', name='triangle')"
      ]
     },
     "execution_count": 53,
     "metadata": {},
     "output_type": "execute_result"
    }
   ],
   "source": [
    "tonights_curriculum[1]"
   ]
  },
  {
   "cell_type": "code",
   "execution_count": 54,
   "id": "4d000e00",
   "metadata": {},
   "outputs": [],
   "source": [
    "from random import choice"
   ]
  },
  {
   "cell_type": "code",
   "execution_count": 58,
   "id": "94578ea5",
   "metadata": {},
   "outputs": [
    {
     "data": {
      "text/plain": [
       "Technique(tech_type='choke', name='legdrag')"
      ]
     },
     "execution_count": 58,
     "metadata": {},
     "output_type": "execute_result"
    }
   ],
   "source": [
    "choice(tonights_curriculum)"
   ]
  },
  {
   "cell_type": "code",
   "execution_count": 107,
   "id": "f3ee3077",
   "metadata": {},
   "outputs": [],
   "source": [
    "import time\n",
    "import functools"
   ]
  },
  {
   "cell_type": "code",
   "execution_count": 218,
   "id": "c5bd1c0a",
   "metadata": {},
   "outputs": [],
   "source": [
    "def timer(func):\n",
    "    @functools.wraps(func)\n",
    "    def wrapper(*args, **kwargs):\n",
    "        start_timer = time.perf_counter()\n",
    "        value = func(*args, **kwargs)\n",
    "        stop_timer = time.perf_counter()\n",
    "        runtime = stop_timer - start_timer\n",
    "        print(f'Finished function {func.__name__} in {runtime:4f} secs')\n",
    "        return value\n",
    "    return wrapper"
   ]
  },
  {
   "cell_type": "code",
   "execution_count": null,
   "id": "8b8a7c60",
   "metadata": {},
   "outputs": [],
   "source": []
  },
  {
   "cell_type": "code",
   "execution_count": 219,
   "id": "4f93ba37",
   "metadata": {},
   "outputs": [],
   "source": [
    "@timer\n",
    "def dealer():\n",
    "    class_num = 0\n",
    "    while True:\n",
    "        x = [tonights_curriculum[i] for i in range(9)]\n",
    "        class_num += 1\n",
    "        print(f'Class number: {class_num}')\n",
    "        yield x * 3"
   ]
  },
  {
   "cell_type": "code",
   "execution_count": 220,
   "id": "d4df5c5f",
   "metadata": {},
   "outputs": [
    {
     "name": "stdout",
     "output_type": "stream",
     "text": [
      "Finished function dealer in 0.000001 secs\n"
     ]
    }
   ],
   "source": [
    "dealer = dealer()"
   ]
  },
  {
   "cell_type": "code",
   "execution_count": 221,
   "id": "33bdb016",
   "metadata": {},
   "outputs": [
    {
     "name": "stdout",
     "output_type": "stream",
     "text": [
      "Class number: 1\n",
      "Class number: 2\n",
      "Class number: 3\n",
      "Class number: 4\n",
      "Class number: 5\n",
      "Class number: 6\n",
      "Class number: 7\n",
      "Class number: 8\n",
      "Class number: 9\n",
      "Class number: 10\n"
     ]
    }
   ],
   "source": [
    "class_num= [next(dealer) for _ in range(10)]"
   ]
  },
  {
   "cell_type": "code",
   "execution_count": 225,
   "id": "a3b0f101",
   "metadata": {},
   "outputs": [
    {
     "data": {
      "text/plain": [
       "[Technique(tech_type='upper body', name='footlock'),\n",
       " Technique(tech_type='upper body', name='triangle'),\n",
       " Technique(tech_type='upper body', name='legdrag'),\n",
       " Technique(tech_type='lower body', name='footlock'),\n",
       " Technique(tech_type='lower body', name='triangle'),\n",
       " Technique(tech_type='lower body', name='legdrag'),\n",
       " Technique(tech_type='choke', name='footlock'),\n",
       " Technique(tech_type='choke', name='triangle'),\n",
       " Technique(tech_type='choke', name='legdrag'),\n",
       " Technique(tech_type='upper body', name='footlock'),\n",
       " Technique(tech_type='upper body', name='triangle'),\n",
       " Technique(tech_type='upper body', name='legdrag'),\n",
       " Technique(tech_type='lower body', name='footlock'),\n",
       " Technique(tech_type='lower body', name='triangle'),\n",
       " Technique(tech_type='lower body', name='legdrag'),\n",
       " Technique(tech_type='choke', name='footlock'),\n",
       " Technique(tech_type='choke', name='triangle'),\n",
       " Technique(tech_type='choke', name='legdrag'),\n",
       " Technique(tech_type='upper body', name='footlock'),\n",
       " Technique(tech_type='upper body', name='triangle'),\n",
       " Technique(tech_type='upper body', name='legdrag'),\n",
       " Technique(tech_type='lower body', name='footlock'),\n",
       " Technique(tech_type='lower body', name='triangle'),\n",
       " Technique(tech_type='lower body', name='legdrag'),\n",
       " Technique(tech_type='choke', name='footlock'),\n",
       " Technique(tech_type='choke', name='triangle'),\n",
       " Technique(tech_type='choke', name='legdrag')]"
      ]
     },
     "execution_count": 225,
     "metadata": {},
     "output_type": "execute_result"
    }
   ],
   "source": [
    "class_num[6]"
   ]
  },
  {
   "cell_type": "code",
   "execution_count": null,
   "id": "67786552",
   "metadata": {},
   "outputs": [],
   "source": []
  },
  {
   "cell_type": "code",
   "execution_count": null,
   "id": "78bf2fe0",
   "metadata": {},
   "outputs": [],
   "source": []
  },
  {
   "cell_type": "code",
   "execution_count": null,
   "id": "86c2a6b2",
   "metadata": {},
   "outputs": [],
   "source": []
  },
  {
   "cell_type": "code",
   "execution_count": null,
   "id": "13b6064b",
   "metadata": {},
   "outputs": [],
   "source": []
  }
 ],
 "metadata": {
  "kernelspec": {
   "display_name": "Python 3 (ipykernel)",
   "language": "python",
   "name": "python3"
  },
  "language_info": {
   "codemirror_mode": {
    "name": "ipython",
    "version": 3
   },
   "file_extension": ".py",
   "mimetype": "text/x-python",
   "name": "python",
   "nbconvert_exporter": "python",
   "pygments_lexer": "ipython3",
   "version": "3.9.7"
  }
 },
 "nbformat": 4,
 "nbformat_minor": 5
}
