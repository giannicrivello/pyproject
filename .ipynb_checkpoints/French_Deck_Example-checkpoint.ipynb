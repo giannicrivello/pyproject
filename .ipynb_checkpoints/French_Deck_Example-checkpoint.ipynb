{
 "cells": [
  {
   "cell_type": "code",
   "execution_count": 4,
   "id": "a3976ffe",
   "metadata": {},
   "outputs": [],
   "source": [
    "import collections"
   ]
  },
  {
   "cell_type": "code",
   "execution_count": 5,
   "id": "7035d69d",
   "metadata": {},
   "outputs": [],
   "source": [
    "Card = collections.namedtuple('Card', ['rank', 'suit'])"
   ]
  },
  {
   "cell_type": "code",
   "execution_count": 11,
   "id": "154acdbe",
   "metadata": {},
   "outputs": [],
   "source": [
    "class FrenchDeck:\n",
    "    ranks = [str(n) for n in range(2,11)] + list('KQJA')\n",
    "    suits = 'diamonds spades hearts clubs'.split()\n",
    "    \n",
    "    def __init__(self):\n",
    "        self._cards = [Card(rank,suit) for rank in self.ranks for suit in self.suits]\n",
    "    \n",
    "    def __len__(self):\n",
    "        return len(self._cards)\n",
    "    \n",
    "    def __getitem__(self, position):\n",
    "        return self._cards[position]"
   ]
  },
  {
   "cell_type": "code",
   "execution_count": 12,
   "id": "6a5cfc41",
   "metadata": {},
   "outputs": [],
   "source": [
    "card = Card('7', 'diamonds')"
   ]
  },
  {
   "cell_type": "code",
   "execution_count": 13,
   "id": "7ec49089",
   "metadata": {},
   "outputs": [
    {
     "data": {
      "text/plain": [
       "Card(rank='7', suit='diamonds')"
      ]
     },
     "execution_count": 13,
     "metadata": {},
     "output_type": "execute_result"
    }
   ],
   "source": [
    "card"
   ]
  },
  {
   "cell_type": "code",
   "execution_count": 14,
   "id": "9d16a33b",
   "metadata": {},
   "outputs": [],
   "source": [
    "deck = FrenchDeck()"
   ]
  },
  {
   "cell_type": "code",
   "execution_count": 15,
   "id": "526bb341",
   "metadata": {},
   "outputs": [
    {
     "data": {
      "text/plain": [
       "52"
      ]
     },
     "execution_count": 15,
     "metadata": {},
     "output_type": "execute_result"
    }
   ],
   "source": [
    "len(deck)"
   ]
  },
  {
   "cell_type": "code",
   "execution_count": 263,
   "id": "25477942",
   "metadata": {},
   "outputs": [],
   "source": [
    "from random import choice"
   ]
  },
  {
   "cell_type": "code",
   "execution_count": 264,
   "id": "3c7a79b8",
   "metadata": {},
   "outputs": [
    {
     "data": {
      "text/plain": [
       "Card(rank='A', suit='diamonds')"
      ]
     },
     "execution_count": 264,
     "metadata": {},
     "output_type": "execute_result"
    }
   ],
   "source": [
    "choice(deck)"
   ]
  },
  {
   "cell_type": "code",
   "execution_count": 290,
   "id": "b6980757",
   "metadata": {},
   "outputs": [],
   "source": [
    "def dealer():\n",
    "    \"\"\"\n",
    "    this generator will act as the 'dealer' for our deck of cards.\n",
    "    The function will randomly choose 10 cards out of our virtual deck.\n",
    "    The function also keeps track of the epoch of every deal with \"count\".\n",
    "    \"\"\"\n",
    "    count = 0\n",
    "    while True:\n",
    "        x = [choice(deck) for _ in range(11)]\n",
    "        count += 1\n",
    "        print(count)\n",
    "        yield x"
   ]
  },
  {
   "cell_type": "code",
   "execution_count": 291,
   "id": "6a7cfcd4",
   "metadata": {},
   "outputs": [],
   "source": [
    "dealer = dealer()"
   ]
  },
  {
   "cell_type": "code",
   "execution_count": 292,
   "id": "c36dd5bc",
   "metadata": {},
   "outputs": [
    {
     "data": {
      "text/plain": [
       "<generator object dealer at 0x10739f9e0>"
      ]
     },
     "execution_count": 292,
     "metadata": {},
     "output_type": "execute_result"
    }
   ],
   "source": [
    "dealer"
   ]
  },
  {
   "cell_type": "code",
   "execution_count": 293,
   "id": "9214dc83",
   "metadata": {},
   "outputs": [
    {
     "name": "stdout",
     "output_type": "stream",
     "text": [
      "1\n"
     ]
    },
    {
     "data": {
      "text/plain": [
       "[Card(rank='J', suit='hearts'),\n",
       " Card(rank='9', suit='clubs'),\n",
       " Card(rank='2', suit='clubs'),\n",
       " Card(rank='K', suit='hearts'),\n",
       " Card(rank='A', suit='hearts'),\n",
       " Card(rank='9', suit='clubs'),\n",
       " Card(rank='9', suit='clubs'),\n",
       " Card(rank='2', suit='spades'),\n",
       " Card(rank='Q', suit='clubs'),\n",
       " Card(rank='4', suit='diamonds'),\n",
       " Card(rank='J', suit='hearts')]"
      ]
     },
     "execution_count": 293,
     "metadata": {},
     "output_type": "execute_result"
    }
   ],
   "source": [
    "next(dealer)"
   ]
  },
  {
   "cell_type": "code",
   "execution_count": 294,
   "id": "325a9693",
   "metadata": {},
   "outputs": [
    {
     "name": "stdout",
     "output_type": "stream",
     "text": [
      "2\n"
     ]
    },
    {
     "data": {
      "text/plain": [
       "[Card(rank='3', suit='spades'),\n",
       " Card(rank='6', suit='spades'),\n",
       " Card(rank='Q', suit='spades'),\n",
       " Card(rank='5', suit='clubs'),\n",
       " Card(rank='Q', suit='spades'),\n",
       " Card(rank='9', suit='clubs'),\n",
       " Card(rank='7', suit='spades'),\n",
       " Card(rank='A', suit='diamonds'),\n",
       " Card(rank='A', suit='hearts'),\n",
       " Card(rank='10', suit='clubs'),\n",
       " Card(rank='3', suit='diamonds')]"
      ]
     },
     "execution_count": 294,
     "metadata": {},
     "output_type": "execute_result"
    }
   ],
   "source": [
    "next(dealer)"
   ]
  },
  {
   "cell_type": "code",
   "execution_count": 295,
   "id": "3573d01e",
   "metadata": {},
   "outputs": [
    {
     "name": "stdout",
     "output_type": "stream",
     "text": [
      "3\n"
     ]
    },
    {
     "data": {
      "text/plain": [
       "[Card(rank='9', suit='diamonds'),\n",
       " Card(rank='3', suit='diamonds'),\n",
       " Card(rank='10', suit='diamonds'),\n",
       " Card(rank='3', suit='hearts'),\n",
       " Card(rank='8', suit='spades'),\n",
       " Card(rank='7', suit='clubs'),\n",
       " Card(rank='K', suit='clubs'),\n",
       " Card(rank='2', suit='spades'),\n",
       " Card(rank='Q', suit='hearts'),\n",
       " Card(rank='2', suit='clubs'),\n",
       " Card(rank='7', suit='clubs')]"
      ]
     },
     "execution_count": 295,
     "metadata": {},
     "output_type": "execute_result"
    }
   ],
   "source": [
    "next(dealer)"
   ]
  },
  {
   "cell_type": "code",
   "execution_count": 296,
   "id": "7f1033f5",
   "metadata": {},
   "outputs": [
    {
     "name": "stdout",
     "output_type": "stream",
     "text": [
      "4\n"
     ]
    },
    {
     "data": {
      "text/plain": [
       "[Card(rank='4', suit='clubs'),\n",
       " Card(rank='A', suit='spades'),\n",
       " Card(rank='3', suit='spades'),\n",
       " Card(rank='K', suit='diamonds'),\n",
       " Card(rank='A', suit='diamonds'),\n",
       " Card(rank='10', suit='hearts'),\n",
       " Card(rank='Q', suit='diamonds'),\n",
       " Card(rank='3', suit='spades'),\n",
       " Card(rank='7', suit='spades'),\n",
       " Card(rank='7', suit='spades'),\n",
       " Card(rank='K', suit='diamonds')]"
      ]
     },
     "execution_count": 296,
     "metadata": {},
     "output_type": "execute_result"
    }
   ],
   "source": [
    "next(dealer)"
   ]
  },
  {
   "cell_type": "code",
   "execution_count": null,
   "id": "8ff131d2",
   "metadata": {},
   "outputs": [],
   "source": []
  },
  {
   "cell_type": "code",
   "execution_count": null,
   "id": "92e25621",
   "metadata": {},
   "outputs": [],
   "source": []
  },
  {
   "cell_type": "code",
   "execution_count": null,
   "id": "969aa63a",
   "metadata": {},
   "outputs": [],
   "source": []
  },
  {
   "cell_type": "code",
   "execution_count": null,
   "id": "e2d160f5",
   "metadata": {},
   "outputs": [],
   "source": []
  },
  {
   "cell_type": "code",
   "execution_count": null,
   "id": "5653a3a4",
   "metadata": {},
   "outputs": [],
   "source": []
  },
  {
   "cell_type": "code",
   "execution_count": null,
   "id": "48f56a0a",
   "metadata": {},
   "outputs": [],
   "source": []
  }
 ],
 "metadata": {
  "kernelspec": {
   "display_name": "Python 3 (ipykernel)",
   "language": "python",
   "name": "python3"
  },
  "language_info": {
   "codemirror_mode": {
    "name": "ipython",
    "version": 3
   },
   "file_extension": ".py",
   "mimetype": "text/x-python",
   "name": "python",
   "nbconvert_exporter": "python",
   "pygments_lexer": "ipython3",
   "version": "3.9.7"
  }
 },
 "nbformat": 4,
 "nbformat_minor": 5
}
