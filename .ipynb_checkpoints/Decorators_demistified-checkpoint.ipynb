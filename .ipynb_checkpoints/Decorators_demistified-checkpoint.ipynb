{
 "cells": [
  {
   "cell_type": "code",
   "execution_count": 75,
   "id": "bade1251",
   "metadata": {},
   "outputs": [],
   "source": [
    "\"\"\"\n",
    "Passing a funciton reference as an argument. \n",
    "Note that we do not use () when referenceing a function\n",
    "\"\"\"\n",
    "\n",
    "def say_hello(name):\n",
    "    return f\"hello {name}\"\n",
    "\n",
    "def be_awesome(name):\n",
    "    return f\"Yo {name}, together we are awesome\"\n",
    "\n",
    "def greet_bob(greeter_func):\n",
    "    return greeter_func('Bob')"
   ]
  },
  {
   "cell_type": "code",
   "execution_count": 76,
   "id": "141cee01",
   "metadata": {},
   "outputs": [
    {
     "data": {
      "text/plain": [
       "'hello Bob'"
      ]
     },
     "execution_count": 76,
     "metadata": {},
     "output_type": "execute_result"
    }
   ],
   "source": [
    "greet_bob(say_hello)"
   ]
  },
  {
   "cell_type": "code",
   "execution_count": 77,
   "id": "4314ed8b",
   "metadata": {},
   "outputs": [
    {
     "data": {
      "text/plain": [
       "'Yo Bob, together we are awesome'"
      ]
     },
     "execution_count": 77,
     "metadata": {},
     "output_type": "execute_result"
    }
   ],
   "source": [
    "greet_bob(be_awesome)"
   ]
  },
  {
   "cell_type": "code",
   "execution_count": 78,
   "id": "ec973a28",
   "metadata": {},
   "outputs": [],
   "source": [
    "\"\"\"\n",
    "Inner Functions\n",
    "\"\"\"\n",
    "def parent():\n",
    "    print(\"printing from the parent() function\")\n",
    "    \n",
    "    def first_child():\n",
    "        print(\"printing from the first child() function\")\n",
    "        \n",
    "    def second_child():\n",
    "        print(\"printing form the second child() function\")\n",
    "        \n",
    "    second_child()\n",
    "    first_child()\n",
    "    \n",
    "    \n",
    "\n",
    "        \n",
    "\n",
    "\n"
   ]
  },
  {
   "cell_type": "code",
   "execution_count": 79,
   "id": "8e17108b",
   "metadata": {},
   "outputs": [
    {
     "name": "stdout",
     "output_type": "stream",
     "text": [
      "printing from the parent() function\n",
      "printing form the second child() function\n",
      "printing from the first child() function\n"
     ]
    }
   ],
   "source": [
    "parent()"
   ]
  },
  {
   "cell_type": "code",
   "execution_count": 80,
   "id": "4579a4bd",
   "metadata": {},
   "outputs": [],
   "source": [
    "\"\"\"\n",
    "return functions from funcitons\n",
    "\"\"\"\n",
    "def parent(num):\n",
    "    def first_child():\n",
    "        return \"Hi, i am gianni\"\n",
    "    def second_child():\n",
    "        return \"Hi i am mazi\"\n",
    "    if num == 1:\n",
    "        return first_child\n",
    "    else:\n",
    "        return second_child"
   ]
  },
  {
   "cell_type": "code",
   "execution_count": 81,
   "id": "32bbdbc9",
   "metadata": {},
   "outputs": [],
   "source": [
    "first = parent(1)\n",
    "second = parent(2)"
   ]
  },
  {
   "cell_type": "code",
   "execution_count": 82,
   "id": "e7d3c03e",
   "metadata": {},
   "outputs": [
    {
     "data": {
      "text/plain": [
       "<function __main__.parent.<locals>.first_child()>"
      ]
     },
     "execution_count": 82,
     "metadata": {},
     "output_type": "execute_result"
    }
   ],
   "source": [
    "first"
   ]
  },
  {
   "cell_type": "code",
   "execution_count": 83,
   "id": "74c9e9ad",
   "metadata": {},
   "outputs": [
    {
     "data": {
      "text/plain": [
       "<function __main__.parent.<locals>.second_child()>"
      ]
     },
     "execution_count": 83,
     "metadata": {},
     "output_type": "execute_result"
    }
   ],
   "source": [
    "second"
   ]
  },
  {
   "cell_type": "code",
   "execution_count": 84,
   "id": "93fec7ad",
   "metadata": {},
   "outputs": [
    {
     "data": {
      "text/plain": [
       "'Hi, i am gianni'"
      ]
     },
     "execution_count": 84,
     "metadata": {},
     "output_type": "execute_result"
    }
   ],
   "source": [
    "first()"
   ]
  },
  {
   "cell_type": "code",
   "execution_count": 85,
   "id": "12ba3c42",
   "metadata": {},
   "outputs": [
    {
     "data": {
      "text/plain": [
       "'Hi i am mazi'"
      ]
     },
     "execution_count": 85,
     "metadata": {},
     "output_type": "execute_result"
    }
   ],
   "source": [
    "second()"
   ]
  },
  {
   "cell_type": "code",
   "execution_count": 86,
   "id": "1c81315f",
   "metadata": {},
   "outputs": [],
   "source": [
    "\"\"\"\n",
    "simple decorator\n",
    "\"\"\"\n",
    "def my_decorator(func):\n",
    "    def wrapper():\n",
    "        print(\"this is before\")\n",
    "        func()\n",
    "        print('this is after')\n",
    "    return wrapper\n",
    "def say_whee():\n",
    "    print(\"yehaaa\")\n",
    "\n",
    "say_whee = my_decorator(say_whee)"
   ]
  },
  {
   "cell_type": "code",
   "execution_count": 87,
   "id": "fd62bec2",
   "metadata": {},
   "outputs": [
    {
     "data": {
      "text/plain": [
       "<function __main__.my_decorator.<locals>.wrapper()>"
      ]
     },
     "execution_count": 87,
     "metadata": {},
     "output_type": "execute_result"
    }
   ],
   "source": [
    "say_whee"
   ]
  },
  {
   "cell_type": "code",
   "execution_count": 88,
   "id": "e3eb70c2",
   "metadata": {},
   "outputs": [
    {
     "name": "stdout",
     "output_type": "stream",
     "text": [
      "this is before\n",
      "yehaaa\n",
      "this is after\n"
     ]
    }
   ],
   "source": [
    "say_whee()"
   ]
  },
  {
   "cell_type": "code",
   "execution_count": 89,
   "id": "a6946c71",
   "metadata": {},
   "outputs": [],
   "source": [
    "\"\"\"\n",
    "using syntactic sugar with the \"pie\" syntax\n",
    "\"\"\"\n",
    "def new_decorator(func):\n",
    "    def wrapper():\n",
    "        print(\"before\")\n",
    "        func()\n",
    "        print(\"after\")\n",
    "    return wrapper\n",
    "\n",
    "@new_decorator\n",
    "def say_yeehaa():\n",
    "    print(\"yeehaa\")\n",
    "    \n",
    "#much like the above example the @new_decorator takes the place of \n",
    "#say_whee = my_decorator(say_whee) from the above example"
   ]
  },
  {
   "cell_type": "code",
   "execution_count": 90,
   "id": "6a9b16f9",
   "metadata": {},
   "outputs": [
    {
     "name": "stdout",
     "output_type": "stream",
     "text": [
      "before\n",
      "yeehaa\n",
      "after\n"
     ]
    }
   ],
   "source": [
    "say_yeehaa() #calling the decorated funciton"
   ]
  },
  {
   "cell_type": "code",
   "execution_count": 94,
   "id": "2f608f7e",
   "metadata": {},
   "outputs": [],
   "source": [
    "\"\"\"\n",
    "reusing a decorator across py projects. decorator is located in \n",
    "decorators.py\n",
    "\"\"\"\n",
    "from decorators import do_twice\n",
    "\n",
    "@do_twice\n",
    "def say_whee_with_outside_decorator(name):\n",
    "    return f\"hello {name}\""
   ]
  },
  {
   "cell_type": "code",
   "execution_count": 95,
   "id": "3ba93a68",
   "metadata": {},
   "outputs": [
    {
     "data": {
      "text/plain": [
       "<function decorators.do_twice.<locals>.wrapper_do_twice()>"
      ]
     },
     "execution_count": 95,
     "metadata": {},
     "output_type": "execute_result"
    }
   ],
   "source": [
    "say_whee_with_outside_decorator"
   ]
  },
  {
   "cell_type": "code",
   "execution_count": 96,
   "id": "949110dd",
   "metadata": {},
   "outputs": [
    {
     "ename": "TypeError",
     "evalue": "wrapper_do_twice() takes 0 positional arguments but 1 was given",
     "output_type": "error",
     "traceback": [
      "\u001b[0;31m---------------------------------------------------------------------------\u001b[0m",
      "\u001b[0;31mTypeError\u001b[0m                                 Traceback (most recent call last)",
      "\u001b[0;32m/var/folders/2w/b5pcll7s7wl1dcwv2ccr3rqc0000gn/T/ipykernel_9844/4199458610.py\u001b[0m in \u001b[0;36m<module>\u001b[0;34m\u001b[0m\n\u001b[0;32m----> 1\u001b[0;31m \u001b[0msay_whee_with_outside_decorator\u001b[0m\u001b[0;34m(\u001b[0m\u001b[0;34m\"world\"\u001b[0m\u001b[0;34m)\u001b[0m\u001b[0;34m\u001b[0m\u001b[0;34m\u001b[0m\u001b[0m\n\u001b[0m",
      "\u001b[0;31mTypeError\u001b[0m: wrapper_do_twice() takes 0 positional arguments but 1 was given"
     ]
    }
   ],
   "source": [
    "say_whee_with_outside_decorator(\"world\")"
   ]
  },
  {
   "cell_type": "code",
   "execution_count": 97,
   "id": "5da2d2ca",
   "metadata": {},
   "outputs": [
    {
     "ename": "TypeError",
     "evalue": "wrapper_do_twice() takes 0 positional arguments but 1 was given",
     "output_type": "error",
     "traceback": [
      "\u001b[0;31m---------------------------------------------------------------------------\u001b[0m",
      "\u001b[0;31mTypeError\u001b[0m                                 Traceback (most recent call last)",
      "\u001b[0;32m/var/folders/2w/b5pcll7s7wl1dcwv2ccr3rqc0000gn/T/ipykernel_9844/1305408470.py\u001b[0m in \u001b[0;36m<module>\u001b[0;34m\u001b[0m\n\u001b[1;32m      3\u001b[0m \u001b[0mto\u001b[0m \u001b[0mdo\u001b[0m \u001b[0mthis\u001b[0m \u001b[0myou\u001b[0m \u001b[0mmust\u001b[0m \u001b[0muse\u001b[0m \u001b[0;34m*\u001b[0m\u001b[0margs\u001b[0m \u001b[0;32mand\u001b[0m \u001b[0;34m**\u001b[0m\u001b[0mkwargs\u001b[0m\u001b[0;34m\u001b[0m\u001b[0;34m\u001b[0m\u001b[0m\n\u001b[1;32m      4\u001b[0m \"\"\"\n\u001b[0;32m----> 5\u001b[0;31m \u001b[0msay_whee_with_outside_decorator\u001b[0m\u001b[0;34m(\u001b[0m\u001b[0;34m\"world\"\u001b[0m\u001b[0;34m)\u001b[0m\u001b[0;34m\u001b[0m\u001b[0;34m\u001b[0m\u001b[0m\n\u001b[0m",
      "\u001b[0;31mTypeError\u001b[0m: wrapper_do_twice() takes 0 positional arguments but 1 was given"
     ]
    }
   ],
   "source": [
    "\"\"\"\n",
    "decorating funcitons with arguments. \n",
    "to do this you must use *args and **kwargs\n",
    "\"\"\"\n",
    "say_whee_with_outside_decorator(\"world\")"
   ]
  },
  {
   "cell_type": "code",
   "execution_count": null,
   "id": "d81d027e",
   "metadata": {},
   "outputs": [],
   "source": []
  }
 ],
 "metadata": {
  "kernelspec": {
   "display_name": "Python 3 (ipykernel)",
   "language": "python",
   "name": "python3"
  },
  "language_info": {
   "codemirror_mode": {
    "name": "ipython",
    "version": 3
   },
   "file_extension": ".py",
   "mimetype": "text/x-python",
   "name": "python",
   "nbconvert_exporter": "python",
   "pygments_lexer": "ipython3",
   "version": "3.9.7"
  }
 },
 "nbformat": 4,
 "nbformat_minor": 5
}
