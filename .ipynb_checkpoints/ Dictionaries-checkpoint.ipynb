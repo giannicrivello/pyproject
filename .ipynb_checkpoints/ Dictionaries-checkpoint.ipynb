{
 "cells": [
  {
   "cell_type": "code",
   "execution_count": 3,
   "id": "888cbaad",
   "metadata": {},
   "outputs": [],
   "source": [
    "MLB_team = {\n",
    "...     'Colorado' : 'Rockies',\n",
    "...     'Boston'   : 'Red Sox',\n",
    "...     'Minnesota': 'Twins',\n",
    "...     'Milwaukee': 'Brewers',\n",
    "...     'Seattle'  : 'Mariners'\n",
    "... }"
   ]
  },
  {
   "cell_type": "code",
   "execution_count": 4,
   "id": "c2039fbe",
   "metadata": {},
   "outputs": [
    {
     "data": {
      "text/plain": [
       "{'Colorado': 'Rockies',\n",
       " 'Boston': 'Red Sox',\n",
       " 'Minnesota': 'Twins',\n",
       " 'Milwaukee': 'Brewers',\n",
       " 'Seattle': 'Mariners'}"
      ]
     },
     "execution_count": 4,
     "metadata": {},
     "output_type": "execute_result"
    }
   ],
   "source": [
    "MLB_team"
   ]
  },
  {
   "cell_type": "code",
   "execution_count": 6,
   "id": "9aaff147",
   "metadata": {},
   "outputs": [],
   "source": [
    "#using the built in dict function pass in a list of tuples\n",
    "MLB_team = dict([\n",
    "    ('Colorado', 'Rockies'),\n",
    "    ('Boston', 'Red Sox'),\n",
    "    ('Minnesota', 'Twins'),\n",
    "    ('Milwaukee', 'Brewers'),\n",
    "    ('Seattle', 'Mariners')])"
   ]
  },
  {
   "cell_type": "code",
   "execution_count": 7,
   "id": "3de4fb6a",
   "metadata": {},
   "outputs": [
    {
     "data": {
      "text/plain": [
       "{'Colorado': 'Rockies',\n",
       " 'Boston': 'Red Sox',\n",
       " 'Minnesota': 'Twins',\n",
       " 'Milwaukee': 'Brewers',\n",
       " 'Seattle': 'Mariners'}"
      ]
     },
     "execution_count": 7,
     "metadata": {},
     "output_type": "execute_result"
    }
   ],
   "source": [
    "MLB_team"
   ]
  },
  {
   "cell_type": "code",
   "execution_count": 8,
   "id": "61230d1e",
   "metadata": {},
   "outputs": [
    {
     "data": {
      "text/plain": [
       "dict"
      ]
     },
     "execution_count": 8,
     "metadata": {},
     "output_type": "execute_result"
    }
   ],
   "source": [
    "type(MLB_team)"
   ]
  },
  {
   "cell_type": "code",
   "execution_count": 12,
   "id": "2dc54e11",
   "metadata": {},
   "outputs": [
    {
     "data": {
      "text/plain": [
       "'Brewers'"
      ]
     },
     "execution_count": 12,
     "metadata": {},
     "output_type": "execute_result"
    }
   ],
   "source": [
    "MLB_team[\"Milwaukee\"] #accessing the dict with [<key>]"
   ]
  },
  {
   "cell_type": "code",
   "execution_count": 13,
   "id": "be58d7e4",
   "metadata": {},
   "outputs": [],
   "source": [
    "#adding an entry\n",
    "MLB_team['Kansas City'] = \"Royals\""
   ]
  },
  {
   "cell_type": "code",
   "execution_count": 14,
   "id": "6116e627",
   "metadata": {},
   "outputs": [
    {
     "data": {
      "text/plain": [
       "{'Colorado': 'Rockies',\n",
       " 'Boston': 'Red Sox',\n",
       " 'Minnesota': 'Twins',\n",
       " 'Milwaukee': 'Brewers',\n",
       " 'Seattle': 'Mariners',\n",
       " 'Kansas City': 'Royals'}"
      ]
     },
     "execution_count": 14,
     "metadata": {},
     "output_type": "execute_result"
    }
   ],
   "source": [
    "MLB_team"
   ]
  },
  {
   "cell_type": "code",
   "execution_count": 15,
   "id": "9cac952b",
   "metadata": {},
   "outputs": [],
   "source": [
    "#Updating an entry assigning a new value to an existing key\n",
    "MLB_team['Seattle'] = \"Seahawks\""
   ]
  },
  {
   "cell_type": "code",
   "execution_count": 16,
   "id": "177a7b51",
   "metadata": {},
   "outputs": [
    {
     "data": {
      "text/plain": [
       "{'Colorado': 'Rockies',\n",
       " 'Boston': 'Red Sox',\n",
       " 'Minnesota': 'Twins',\n",
       " 'Milwaukee': 'Brewers',\n",
       " 'Seattle': 'Seahawks',\n",
       " 'Kansas City': 'Royals'}"
      ]
     },
     "execution_count": 16,
     "metadata": {},
     "output_type": "execute_result"
    }
   ],
   "source": [
    "MLB_team"
   ]
  },
  {
   "cell_type": "code",
   "execution_count": 17,
   "id": "c6b8d9ed",
   "metadata": {},
   "outputs": [],
   "source": [
    "#deleting an entry with the del key word\n",
    "del MLB_team['Seattle']"
   ]
  },
  {
   "cell_type": "code",
   "execution_count": 18,
   "id": "86c93e9b",
   "metadata": {},
   "outputs": [
    {
     "data": {
      "text/plain": [
       "{'Colorado': 'Rockies',\n",
       " 'Boston': 'Red Sox',\n",
       " 'Minnesota': 'Twins',\n",
       " 'Milwaukee': 'Brewers',\n",
       " 'Kansas City': 'Royals'}"
      ]
     },
     "execution_count": 18,
     "metadata": {},
     "output_type": "execute_result"
    }
   ],
   "source": [
    "MLB_team"
   ]
  },
  {
   "cell_type": "code",
   "execution_count": 19,
   "id": "01af5358",
   "metadata": {},
   "outputs": [
    {
     "data": {
      "text/plain": [
       "5"
      ]
     },
     "execution_count": 19,
     "metadata": {},
     "output_type": "execute_result"
    }
   ],
   "source": [
    "len(MLB_team) #returns the length of the key value pairs"
   ]
  },
  {
   "cell_type": "code",
   "execution_count": 20,
   "id": "740d8aff",
   "metadata": {},
   "outputs": [
    {
     "data": {
      "text/plain": [
       "'Rockies'"
      ]
     },
     "execution_count": 20,
     "metadata": {},
     "output_type": "execute_result"
    }
   ],
   "source": [
    "#.clear() clears a dictionary\n",
    "#.get() provides a conveinent way of getting the value of a key...\n",
    "## from a dictionary without checking ahead of time whether the key...\n",
    "### exist without raising an error\n",
    "MLB_team.get('Colorado')"
   ]
  },
  {
   "cell_type": "code",
   "execution_count": 24,
   "id": "26b464aa",
   "metadata": {},
   "outputs": [
    {
     "name": "stdout",
     "output_type": "stream",
     "text": [
      "Rockies\n"
     ]
    }
   ],
   "source": [
    "if MLB_team.get('Colorado'):\n",
    "    print(MLB_team.get('Colorado'))\n",
    "else:\n",
    "    print(None)"
   ]
  },
  {
   "cell_type": "code",
   "execution_count": 26,
   "id": "4752b2f2",
   "metadata": {},
   "outputs": [
    {
     "data": {
      "text/plain": [
       "'No Key'"
      ]
     },
     "execution_count": 26,
     "metadata": {},
     "output_type": "execute_result"
    }
   ],
   "source": [
    "#adding a default so that .get() doesnt just return None\n",
    "MLB_team.get('Key', 'No Key')"
   ]
  },
  {
   "cell_type": "code",
   "execution_count": 27,
   "id": "894bca30",
   "metadata": {},
   "outputs": [
    {
     "data": {
      "text/plain": [
       "dict_items([('Colorado', 'Rockies'), ('Boston', 'Red Sox'), ('Minnesota', 'Twins'), ('Milwaukee', 'Brewers'), ('Kansas City', 'Royals')])"
      ]
     },
     "execution_count": 27,
     "metadata": {},
     "output_type": "execute_result"
    }
   ],
   "source": [
    "#.items() returns a list of tuples containing the key-value pairs...\n",
    "## first item will always be the key and the second will be the value\n",
    "MLB_team.items()"
   ]
  },
  {
   "cell_type": "code",
   "execution_count": 30,
   "id": "d0bc6da0",
   "metadata": {},
   "outputs": [
    {
     "data": {
      "text/plain": [
       "[('Colorado', 'Rockies'),\n",
       " ('Boston', 'Red Sox'),\n",
       " ('Minnesota', 'Twins'),\n",
       " ('Milwaukee', 'Brewers'),\n",
       " ('Kansas City', 'Royals')]"
      ]
     },
     "execution_count": 30,
     "metadata": {},
     "output_type": "execute_result"
    }
   ],
   "source": [
    "list(MLB_team.items())"
   ]
  },
  {
   "cell_type": "code",
   "execution_count": 43,
   "id": "d9482272",
   "metadata": {},
   "outputs": [
    {
     "name": "stdout",
     "output_type": "stream",
     "text": [
      "The key is Colorado and the value is Rockies\n",
      "The key is Boston and the value is Red Sox\n",
      "The key is Minnesota and the value is Twins\n",
      "The key is Milwaukee and the value is Brewers\n",
      "The key is Kansas City and the value is Royals\n"
     ]
    }
   ],
   "source": [
    "for key, value in list(MLB_team.items()): #unpacking the key and values\n",
    "    print(f\"The key is {key} and the value is {value}\")"
   ]
  },
  {
   "cell_type": "code",
   "execution_count": 44,
   "id": "9bc0fff6",
   "metadata": {},
   "outputs": [
    {
     "data": {
      "text/plain": [
       "'Rockies'"
      ]
     },
     "execution_count": 44,
     "metadata": {},
     "output_type": "execute_result"
    }
   ],
   "source": [
    "list(MLB_team.items())[0][1] #indexing the list of tuples"
   ]
  },
  {
   "cell_type": "code",
   "execution_count": 45,
   "id": "39023526",
   "metadata": {},
   "outputs": [
    {
     "data": {
      "text/plain": [
       "dict_keys(['Colorado', 'Boston', 'Minnesota', 'Milwaukee', 'Kansas City'])"
      ]
     },
     "execution_count": 45,
     "metadata": {},
     "output_type": "execute_result"
    }
   ],
   "source": [
    "#returns the keys in a dictionary .key()\n",
    "MLB_team.keys()"
   ]
  },
  {
   "cell_type": "code",
   "execution_count": 47,
   "id": "862fbb15",
   "metadata": {},
   "outputs": [
    {
     "data": {
      "text/plain": [
       "dict_values(['Rockies', 'Red Sox', 'Twins', 'Brewers', 'Royals'])"
      ]
     },
     "execution_count": 47,
     "metadata": {},
     "output_type": "execute_result"
    }
   ],
   "source": [
    "#returns a list of values in a dictionary .values()\n",
    "MLB_team.values()"
   ]
  },
  {
   "cell_type": "code",
   "execution_count": 49,
   "id": "559562df",
   "metadata": {},
   "outputs": [
    {
     "data": {
      "text/plain": [
       "'Rockies'"
      ]
     },
     "execution_count": 49,
     "metadata": {},
     "output_type": "execute_result"
    }
   ],
   "source": [
    "#.pop() if key is present will pop a key of the dictionary returns value\n",
    "MLB_team.pop('Colorado')"
   ]
  },
  {
   "cell_type": "code",
   "execution_count": 50,
   "id": "ccd9b81d",
   "metadata": {},
   "outputs": [
    {
     "data": {
      "text/plain": [
       "{'Boston': 'Red Sox',\n",
       " 'Minnesota': 'Twins',\n",
       " 'Milwaukee': 'Brewers',\n",
       " 'Kansas City': 'Royals'}"
      ]
     },
     "execution_count": 50,
     "metadata": {},
     "output_type": "execute_result"
    }
   ],
   "source": [
    "MLB_team"
   ]
  },
  {
   "cell_type": "code",
   "execution_count": 52,
   "id": "ca28ce82",
   "metadata": {},
   "outputs": [
    {
     "data": {
      "text/plain": [
       "('Milwaukee', 'Brewers')"
      ]
     },
     "execution_count": 52,
     "metadata": {},
     "output_type": "execute_result"
    }
   ],
   "source": [
    "#.popitem() pops a key value pair in a dictionary from the end of a dictionary\n",
    "MLB_team.popitem()"
   ]
  },
  {
   "cell_type": "code",
   "execution_count": 53,
   "id": "1ef8d6e6",
   "metadata": {},
   "outputs": [],
   "source": [
    "#.update(<obj>) updates a dictionary with a key value pair dict\n",
    "new = {'Colorado': 'Rockies'}\n",
    "MLB_team.update(new)"
   ]
  },
  {
   "cell_type": "code",
   "execution_count": 54,
   "id": "12f8e786",
   "metadata": {},
   "outputs": [
    {
     "data": {
      "text/plain": [
       "{'Boston': 'Red Sox', 'Minnesota': 'Twins', 'Colorado': 'Rockies'}"
      ]
     },
     "execution_count": 54,
     "metadata": {},
     "output_type": "execute_result"
    }
   ],
   "source": [
    "MLB_team"
   ]
  },
  {
   "cell_type": "code",
   "execution_count": 71,
   "id": "52643ca5",
   "metadata": {},
   "outputs": [],
   "source": [
    "x1 = {'foo', 'dog', 'cat','foo'}\n",
    "x2 = {'foo', 'rah', 'hah'}"
   ]
  },
  {
   "cell_type": "code",
   "execution_count": 72,
   "id": "3fce5cca",
   "metadata": {},
   "outputs": [
    {
     "data": {
      "text/plain": [
       "{'cat', 'dog', 'foo', 'hah', 'rah'}"
      ]
     },
     "execution_count": 72,
     "metadata": {},
     "output_type": "execute_result"
    }
   ],
   "source": [
    "x1 | x2"
   ]
  },
  {
   "cell_type": "code",
   "execution_count": 73,
   "id": "8eb6dd92",
   "metadata": {},
   "outputs": [
    {
     "data": {
      "text/plain": [
       "{'cat', 'dog', 'foo', 'hah', 'rah'}"
      ]
     },
     "execution_count": 73,
     "metadata": {},
     "output_type": "execute_result"
    }
   ],
   "source": [
    "x1.union(x2)"
   ]
  },
  {
   "cell_type": "code",
   "execution_count": 74,
   "id": "427f4ff6",
   "metadata": {},
   "outputs": [
    {
     "data": {
      "text/plain": [
       "{'foo'}"
      ]
     },
     "execution_count": 74,
     "metadata": {},
     "output_type": "execute_result"
    }
   ],
   "source": [
    "x1 & x2"
   ]
  },
  {
   "cell_type": "code",
   "execution_count": 75,
   "id": "d346413b",
   "metadata": {},
   "outputs": [
    {
     "data": {
      "text/plain": [
       "{'foo'}"
      ]
     },
     "execution_count": 75,
     "metadata": {},
     "output_type": "execute_result"
    }
   ],
   "source": [
    "x1.intersection(x2)"
   ]
  },
  {
   "cell_type": "code",
   "execution_count": 97,
   "id": "7f285689",
   "metadata": {},
   "outputs": [],
   "source": [
    "def make_tuple(*args):\n",
    "    x = []\n",
    "    for i in args:\n",
    "        print(i)\n",
    "        x = i\n",
    "    return tuple(x)"
   ]
  },
  {
   "cell_type": "code",
   "execution_count": 98,
   "id": "a4f0be78",
   "metadata": {},
   "outputs": [
    {
     "name": "stdout",
     "output_type": "stream",
     "text": [
      "1\n",
      "2\n",
      "3\n",
      "4\n"
     ]
    },
    {
     "ename": "TypeError",
     "evalue": "'int' object is not iterable",
     "output_type": "error",
     "traceback": [
      "\u001b[0;31m---------------------------------------------------------------------------\u001b[0m",
      "\u001b[0;31mTypeError\u001b[0m                                 Traceback (most recent call last)",
      "\u001b[0;32m/var/folders/2w/b5pcll7s7wl1dcwv2ccr3rqc0000gn/T/ipykernel_43846/3340842797.py\u001b[0m in \u001b[0;36m<module>\u001b[0;34m\u001b[0m\n\u001b[0;32m----> 1\u001b[0;31m \u001b[0mmake_tuple\u001b[0m\u001b[0;34m(\u001b[0m\u001b[0;36m1\u001b[0m\u001b[0;34m,\u001b[0m\u001b[0;36m2\u001b[0m\u001b[0;34m,\u001b[0m\u001b[0;36m3\u001b[0m\u001b[0;34m,\u001b[0m\u001b[0;36m4\u001b[0m\u001b[0;34m)\u001b[0m\u001b[0;34m\u001b[0m\u001b[0;34m\u001b[0m\u001b[0m\n\u001b[0m",
      "\u001b[0;32m/var/folders/2w/b5pcll7s7wl1dcwv2ccr3rqc0000gn/T/ipykernel_43846/3788733008.py\u001b[0m in \u001b[0;36mmake_tuple\u001b[0;34m(*args)\u001b[0m\n\u001b[1;32m      4\u001b[0m         \u001b[0mprint\u001b[0m\u001b[0;34m(\u001b[0m\u001b[0mi\u001b[0m\u001b[0;34m)\u001b[0m\u001b[0;34m\u001b[0m\u001b[0;34m\u001b[0m\u001b[0m\n\u001b[1;32m      5\u001b[0m         \u001b[0mx\u001b[0m \u001b[0;34m=\u001b[0m \u001b[0mi\u001b[0m\u001b[0;34m\u001b[0m\u001b[0;34m\u001b[0m\u001b[0m\n\u001b[0;32m----> 6\u001b[0;31m     \u001b[0;32mreturn\u001b[0m \u001b[0mtuple\u001b[0m\u001b[0;34m(\u001b[0m\u001b[0mx\u001b[0m\u001b[0;34m)\u001b[0m\u001b[0;34m\u001b[0m\u001b[0;34m\u001b[0m\u001b[0m\n\u001b[0m",
      "\u001b[0;31mTypeError\u001b[0m: 'int' object is not iterable"
     ]
    }
   ],
   "source": [
    "make_tuple(1,2,3,4)"
   ]
  },
  {
   "cell_type": "code",
   "execution_count": null,
   "id": "3fb68684",
   "metadata": {},
   "outputs": [],
   "source": []
  }
 ],
 "metadata": {
  "kernelspec": {
   "display_name": "Python 3 (ipykernel)",
   "language": "python",
   "name": "python3"
  },
  "language_info": {
   "codemirror_mode": {
    "name": "ipython",
    "version": 3
   },
   "file_extension": ".py",
   "mimetype": "text/x-python",
   "name": "python",
   "nbconvert_exporter": "python",
   "pygments_lexer": "ipython3",
   "version": "3.9.7"
  }
 },
 "nbformat": 4,
 "nbformat_minor": 5
}
