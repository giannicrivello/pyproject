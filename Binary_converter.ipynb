{
 "cells": [
  {
   "cell_type": "code",
   "execution_count": 40,
   "id": "7a5052e5",
   "metadata": {},
   "outputs": [],
   "source": [
    "def convert_to_binary(num):\n",
    "    num_list = [2**0, 2**1, 2**2, 2**3, 2**4, 2**5, 2**6, 2**7]\n",
    "    num_list.reverse()\n",
    "    binary_num = [0,0,0,0,0,0,0,0]\n",
    "    if num >= num_list[0]:\n",
    "        binary_num[0] = 1\n",
    "        updated_num = num - num_list[0]\n",
    "    else:\n",
    "        binary_num[0] = 0\n",
    "        updated_num = num\n",
    "    if updated_num >= num_list[1]:\n",
    "        binary_num[1] = 1\n",
    "        updated_num = updated_num - num_list[1]\n",
    "    else:\n",
    "        binary_num[1] = 0\n",
    "    if updated_num >= num_list[2]:\n",
    "        binary_num[2] = 1\n",
    "        updated_num = updated_num - num_list[2]\n",
    "    else:\n",
    "        binary_num[2] = 0\n",
    "    if updated_num >= num_list[3]:\n",
    "        binary_num[3] = 1\n",
    "        updated_num = updated_num - num_list[3]\n",
    "    else:\n",
    "        binary_num[3] = 0\n",
    "    if updated_num >= num_list[4]:\n",
    "        binary_num[4] = 1\n",
    "        updated_num = updated_num - num_list[4]\n",
    "    else:\n",
    "        binary_num[4] = 0\n",
    "    if updated_num >= num_list[5]:\n",
    "        binary_num[5] = 1\n",
    "        updated_num = updated_num - num_list[5]\n",
    "    else:\n",
    "        binary_num[5] = 0\n",
    "    if updated_num >= num_list[6]:\n",
    "        binary_num[6] = 1\n",
    "        updated_num = updated_num - num_list[6]\n",
    "    else:\n",
    "        binary_num[6] = 0\n",
    "    if updated_num >= num_list[7]:\n",
    "        binary_num[7] = 1\n",
    "        updated_num = updated_num - num_list[7]\n",
    "    else:\n",
    "        binary_num[7] = 0\n",
    "    \n",
    "    return binary_num\n",
    "        \n",
    "        \n"
   ]
  },
  {
   "cell_type": "code",
   "execution_count": 43,
   "id": "1306b188",
   "metadata": {},
   "outputs": [
    {
     "data": {
      "text/plain": [
       "[0, 0, 1, 1, 0, 0, 0, 1]"
      ]
     },
     "execution_count": 43,
     "metadata": {},
     "output_type": "execute_result"
    }
   ],
   "source": [
    "convert_to_binary(49)"
   ]
  },
  {
   "cell_type": "code",
   "execution_count": null,
   "id": "4874ab62",
   "metadata": {},
   "outputs": [],
   "source": []
  },
  {
   "cell_type": "code",
   "execution_count": null,
   "id": "cb244e5c",
   "metadata": {},
   "outputs": [],
   "source": []
  },
  {
   "cell_type": "code",
   "execution_count": null,
   "id": "b991eb1d",
   "metadata": {},
   "outputs": [],
   "source": []
  }
 ],
 "metadata": {
  "kernelspec": {
   "display_name": "Python 3 (ipykernel)",
   "language": "python",
   "name": "python3"
  },
  "language_info": {
   "codemirror_mode": {
    "name": "ipython",
    "version": 3
   },
   "file_extension": ".py",
   "mimetype": "text/x-python",
   "name": "python",
   "nbconvert_exporter": "python",
   "pygments_lexer": "ipython3",
   "version": "3.9.7"
  }
 },
 "nbformat": 4,
 "nbformat_minor": 5
}
