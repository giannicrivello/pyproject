{
 "cells": [
  {
   "cell_type": "code",
   "execution_count": 1,
   "id": "e0368163",
   "metadata": {},
   "outputs": [],
   "source": [
    "from typing import NamedTuple, ClassVar"
   ]
  },
  {
   "cell_type": "code",
   "execution_count": 3,
   "id": "c390c65a",
   "metadata": {},
   "outputs": [],
   "source": [
    "class Coordinate(NamedTuple):\n",
    "    \n",
    "    \n",
    "    lat: float = 0\n",
    "    long: float = 0\n",
    "        \n",
    "    reference_system = 'WGS84'\n",
    "    \n",
    "    def __str__(self):\n",
    "        ns = 'NS'[self.lat < 0]\n",
    "        ew = 'EW'[self.long < 0]\n",
    "        return f'{abs(self.lat):.1f{ns}, abs(self.long)}'"
   ]
  },
  {
   "cell_type": "code",
   "execution_count": 4,
   "id": "a41c09ac",
   "metadata": {},
   "outputs": [],
   "source": [
    "gulf_of_guinea = Coordinate()"
   ]
  },
  {
   "cell_type": "code",
   "execution_count": 14,
   "id": "e5125afd",
   "metadata": {},
   "outputs": [],
   "source": [
    "gulf_of_guinea?"
   ]
  },
  {
   "cell_type": "code",
   "execution_count": 10,
   "id": "c0fa1bf0",
   "metadata": {},
   "outputs": [
    {
     "name": "stdout",
     "output_type": "stream",
     "text": [
      "41.4 -81.85\n"
     ]
    }
   ],
   "source": [
    "cle = Coordinate(41.40, -81.85)\n",
    "print(cle.lat, cle.long)"
   ]
  },
  {
   "cell_type": "code",
   "execution_count": 12,
   "id": "b6660a24",
   "metadata": {},
   "outputs": [
    {
     "name": "stdout",
     "output_type": "stream",
     "text": [
      "cant assaign a new variable to a tuple\n"
     ]
    }
   ],
   "source": [
    "try:\n",
    "    cle.lat = 0\n",
    "except AttributeError:\n",
    "    print('cant assaign a new variable to a tuple')\n"
   ]
  },
  {
   "cell_type": "code",
   "execution_count": 13,
   "id": "319178e5",
   "metadata": {},
   "outputs": [
    {
     "data": {
      "text/plain": [
       "'WGS84'"
      ]
     },
     "execution_count": 13,
     "metadata": {},
     "output_type": "execute_result"
    }
   ],
   "source": [
    "cle.reference_system"
   ]
  },
  {
   "cell_type": "code",
   "execution_count": 19,
   "id": "016a92ad",
   "metadata": {},
   "outputs": [],
   "source": [
    "from dataclasses import dataclass, field, fields\n",
    "from typing import List"
   ]
  },
  {
   "cell_type": "code",
   "execution_count": 36,
   "id": "f96d1b58",
   "metadata": {},
   "outputs": [],
   "source": [
    "@dataclass\n",
    "class Resource:\n",
    "    identifier: str = '0' * 13\n",
    "    title: str = \"<untitled>\"\n",
    "    creators: List[str] = field(default_factory=list)\n",
    "    date: str = ''\n",
    "    type: str = \"\"\n",
    "    description: str = \"\"\n",
    "    language: str = \"\"\n",
    "    subjects: List[str] = field(default_factory=list)\n",
    "        \n",
    "    def __repr__(self):\n",
    "        cls = self.__class__\n",
    "        cls_name = cls.__name__\n",
    "        res = [f\"{cls_name}(\"]\n",
    "        for field in fields(cls):\n",
    "            value = getattr(self, field.name)\n",
    "            res.append(f'   {field.name} = {value!r},')\n",
    "        res.append(f')')\n",
    "        return '\\n'.join(res)\n",
    "        "
   ]
  },
  {
   "cell_type": "code",
   "execution_count": 37,
   "id": "ba11510d",
   "metadata": {},
   "outputs": [],
   "source": [
    "empty_book = Resource()"
   ]
  },
  {
   "cell_type": "code",
   "execution_count": 38,
   "id": "7dbed623",
   "metadata": {},
   "outputs": [
    {
     "data": {
      "text/plain": [
       "Resource(\n",
       "   identifier = '0000000000000',\n",
       "   title = '<untitled>',\n",
       "   creators = [],\n",
       "   date = '',\n",
       "   type = '',\n",
       "   description = '',\n",
       "   language = '',\n",
       "   subjects = [],\n",
       ")"
      ]
     },
     "execution_count": 38,
     "metadata": {},
     "output_type": "execute_result"
    }
   ],
   "source": [
    "empty_book"
   ]
  },
  {
   "cell_type": "code",
   "execution_count": 39,
   "id": "85200ef6",
   "metadata": {},
   "outputs": [],
   "source": [
    "empty_book.title = \"Goosebupmps\""
   ]
  },
  {
   "cell_type": "code",
   "execution_count": 40,
   "id": "6af163ee",
   "metadata": {},
   "outputs": [
    {
     "data": {
      "text/plain": [
       "Resource(\n",
       "   identifier = '0000000000000',\n",
       "   title = 'Goosebupmps',\n",
       "   creators = [],\n",
       "   date = '',\n",
       "   type = '',\n",
       "   description = '',\n",
       "   language = '',\n",
       "   subjects = [],\n",
       ")"
      ]
     },
     "execution_count": 40,
     "metadata": {},
     "output_type": "execute_result"
    }
   ],
   "source": [
    "empty_book"
   ]
  },
  {
   "cell_type": "code",
   "execution_count": 41,
   "id": "85d9339d",
   "metadata": {},
   "outputs": [],
   "source": [
    "empty_book2 = Resource()"
   ]
  },
  {
   "cell_type": "code",
   "execution_count": 42,
   "id": "dc11fe9a",
   "metadata": {},
   "outputs": [
    {
     "data": {
      "text/plain": [
       "Resource(\n",
       "   identifier = '0000000000000',\n",
       "   title = '<untitled>',\n",
       "   creators = [],\n",
       "   date = '',\n",
       "   type = '',\n",
       "   description = '',\n",
       "   language = '',\n",
       "   subjects = [],\n",
       ")"
      ]
     },
     "execution_count": 42,
     "metadata": {},
     "output_type": "execute_result"
    }
   ],
   "source": [
    "empty_book2"
   ]
  },
  {
   "cell_type": "code",
   "execution_count": null,
   "id": "b359fe4a",
   "metadata": {},
   "outputs": [],
   "source": []
  },
  {
   "cell_type": "code",
   "execution_count": null,
   "id": "3316d792",
   "metadata": {},
   "outputs": [],
   "source": []
  },
  {
   "cell_type": "code",
   "execution_count": null,
   "id": "cea5ca22",
   "metadata": {},
   "outputs": [],
   "source": []
  },
  {
   "cell_type": "code",
   "execution_count": null,
   "id": "136f9597",
   "metadata": {},
   "outputs": [],
   "source": []
  },
  {
   "cell_type": "code",
   "execution_count": null,
   "id": "26402ee2",
   "metadata": {},
   "outputs": [],
   "source": []
  },
  {
   "cell_type": "code",
   "execution_count": null,
   "id": "58a70c4f",
   "metadata": {},
   "outputs": [],
   "source": []
  },
  {
   "cell_type": "code",
   "execution_count": null,
   "id": "10b5dd5f",
   "metadata": {},
   "outputs": [],
   "source": []
  },
  {
   "cell_type": "code",
   "execution_count": null,
   "id": "c5494d4f",
   "metadata": {},
   "outputs": [],
   "source": []
  },
  {
   "cell_type": "code",
   "execution_count": null,
   "id": "9a89f791",
   "metadata": {},
   "outputs": [],
   "source": []
  },
  {
   "cell_type": "code",
   "execution_count": null,
   "id": "b904790e",
   "metadata": {},
   "outputs": [],
   "source": []
  }
 ],
 "metadata": {
  "kernelspec": {
   "display_name": "Python 3 (ipykernel)",
   "language": "python",
   "name": "python3"
  },
  "language_info": {
   "codemirror_mode": {
    "name": "ipython",
    "version": 3
   },
   "file_extension": ".py",
   "mimetype": "text/x-python",
   "name": "python",
   "nbconvert_exporter": "python",
   "pygments_lexer": "ipython3",
   "version": "3.9.7"
  }
 },
 "nbformat": 4,
 "nbformat_minor": 5
}
