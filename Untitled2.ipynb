{
 "cells": [
  {
   "cell_type": "code",
   "execution_count": 2,
   "id": "b523f4c4",
   "metadata": {},
   "outputs": [
    {
     "name": "stdout",
     "output_type": "stream",
     "text": [
      "After local assignment: test spam\n",
      "After nonlocal assignment: nonlocal spam\n",
      "After global assignment: nonlocal spam\n",
      "in global scope global spam\n"
     ]
    }
   ],
   "source": [
    "def scope_test():\n",
    "    def do_local():\n",
    "        spam = \"local spam\"\n",
    "        \n",
    "    def do_nonlocal():\n",
    "        nonlocal spam\n",
    "        spam = \"nonlocal spam\"\n",
    "    \n",
    "    def do_global():\n",
    "        global spam\n",
    "        spam = \"global spam\"\n",
    "        \n",
    "    spam = \"test spam\"\n",
    "    do_local()\n",
    "    print(\"After local assignment:\", spam)\n",
    "    do_nonlocal()\n",
    "    print(\"After nonlocal assignment:\", spam)\n",
    "    do_global()\n",
    "    print(\"After global assignment:\", spam)\n",
    "    \n",
    "scope_test()\n",
    "print(\"in global scope\",spam)\n",
    "\n",
    "    \n"
   ]
  },
  {
   "cell_type": "code",
   "execution_count": 64,
   "id": "29e79add",
   "metadata": {},
   "outputs": [],
   "source": [
    "class MyClass:\n",
    "    \"\"\"A simple example class\"\"\"\n",
    "    i = 12345\n",
    "    \n",
    "    def f(self):\n",
    "        return \"hello World\""
   ]
  },
  {
   "cell_type": "code",
   "execution_count": 65,
   "id": "f7215773",
   "metadata": {},
   "outputs": [
    {
     "data": {
      "text/plain": [
       "12345"
      ]
     },
     "execution_count": 65,
     "metadata": {},
     "output_type": "execute_result"
    }
   ],
   "source": [
    "MyClass.i"
   ]
  },
  {
   "cell_type": "code",
   "execution_count": 66,
   "id": "dd828b0c",
   "metadata": {},
   "outputs": [
    {
     "data": {
      "text/plain": [
       "<function __main__.MyClass.f(self)>"
      ]
     },
     "execution_count": 66,
     "metadata": {},
     "output_type": "execute_result"
    }
   ],
   "source": [
    "MyClass.f"
   ]
  },
  {
   "cell_type": "code",
   "execution_count": 70,
   "id": "70d01a49",
   "metadata": {},
   "outputs": [
    {
     "data": {
      "text/plain": [
       "'hello World'"
      ]
     },
     "execution_count": 70,
     "metadata": {},
     "output_type": "execute_result"
    }
   ],
   "source": [
    "MyClass.f(x)"
   ]
  },
  {
   "cell_type": "code",
   "execution_count": 80,
   "id": "a2c58da1",
   "metadata": {},
   "outputs": [],
   "source": [
    "x = MyClass()"
   ]
  },
  {
   "cell_type": "code",
   "execution_count": 81,
   "id": "b6d7d4c9",
   "metadata": {},
   "outputs": [
    {
     "data": {
      "text/plain": [
       "12345"
      ]
     },
     "execution_count": 81,
     "metadata": {},
     "output_type": "execute_result"
    }
   ],
   "source": [
    "x.i"
   ]
  },
  {
   "cell_type": "code",
   "execution_count": 82,
   "id": "d469ecba",
   "metadata": {},
   "outputs": [
    {
     "data": {
      "text/plain": [
       "'hello World'"
      ]
     },
     "execution_count": 82,
     "metadata": {},
     "output_type": "execute_result"
    }
   ],
   "source": [
    "x.f()"
   ]
  },
  {
   "cell_type": "code",
   "execution_count": 83,
   "id": "06a4919f",
   "metadata": {},
   "outputs": [],
   "source": [
    "class Complex:\n",
    "    def __init__(self, real, imag):\n",
    "        self.r = real\n",
    "        self.i = imag"
   ]
  },
  {
   "cell_type": "code",
   "execution_count": 84,
   "id": "872605cd",
   "metadata": {},
   "outputs": [],
   "source": [
    "x = Complex(3,4)"
   ]
  },
  {
   "cell_type": "code",
   "execution_count": 85,
   "id": "09f59a5b",
   "metadata": {},
   "outputs": [
    {
     "data": {
      "text/plain": [
       "<__main__.Complex at 0x102fc29d0>"
      ]
     },
     "execution_count": 85,
     "metadata": {},
     "output_type": "execute_result"
    }
   ],
   "source": [
    "x"
   ]
  },
  {
   "cell_type": "code",
   "execution_count": 86,
   "id": "0c82b93f",
   "metadata": {},
   "outputs": [
    {
     "data": {
      "text/plain": [
       "3"
      ]
     },
     "execution_count": 86,
     "metadata": {},
     "output_type": "execute_result"
    }
   ],
   "source": [
    "x.r"
   ]
  },
  {
   "cell_type": "code",
   "execution_count": 87,
   "id": "5f7cc760",
   "metadata": {},
   "outputs": [
    {
     "data": {
      "text/plain": [
       "4"
      ]
     },
     "execution_count": 87,
     "metadata": {},
     "output_type": "execute_result"
    }
   ],
   "source": [
    "x.i"
   ]
  },
  {
   "cell_type": "code",
   "execution_count": 88,
   "id": "24144360",
   "metadata": {},
   "outputs": [],
   "source": [
    "class Dog:\n",
    "    \n",
    "    kind = 'canine'\n",
    "    \n",
    "    def __init__(self, name):\n",
    "        self.name = name"
   ]
  },
  {
   "cell_type": "code",
   "execution_count": 103,
   "id": "f178feb4",
   "metadata": {},
   "outputs": [],
   "source": [
    "d = Dog('Fido')\n",
    "e = Dog('Masi')"
   ]
  },
  {
   "cell_type": "code",
   "execution_count": 91,
   "id": "928a7644",
   "metadata": {},
   "outputs": [
    {
     "data": {
      "text/plain": [
       "'canine'"
      ]
     },
     "execution_count": 91,
     "metadata": {},
     "output_type": "execute_result"
    }
   ],
   "source": [
    "d.kind # this is a shared attribute"
   ]
  },
  {
   "cell_type": "code",
   "execution_count": 92,
   "id": "6761ebeb",
   "metadata": {},
   "outputs": [
    {
     "data": {
      "text/plain": [
       "'canine'"
      ]
     },
     "execution_count": 92,
     "metadata": {},
     "output_type": "execute_result"
    }
   ],
   "source": [
    "e.kind #this is also a shared attribut"
   ]
  },
  {
   "cell_type": "code",
   "execution_count": 104,
   "id": "707a5e4d",
   "metadata": {},
   "outputs": [
    {
     "data": {
      "text/plain": [
       "'Fido'"
      ]
     },
     "execution_count": 104,
     "metadata": {},
     "output_type": "execute_result"
    }
   ],
   "source": [
    "d.name"
   ]
  },
  {
   "cell_type": "code",
   "execution_count": 105,
   "id": "1210f5a3",
   "metadata": {},
   "outputs": [
    {
     "data": {
      "text/plain": [
       "'Masi'"
      ]
     },
     "execution_count": 105,
     "metadata": {},
     "output_type": "execute_result"
    }
   ],
   "source": [
    "e.name"
   ]
  },
  {
   "cell_type": "code",
   "execution_count": 107,
   "id": "45f8268c",
   "metadata": {},
   "outputs": [],
   "source": [
    "class Cat:\n",
    "    \n",
    "    tricks = [] #mutable object in local namespace **BAD\n",
    "    \n",
    "    def __init__(self, name):\n",
    "        self.name = name\n",
    "        \n",
    "    def add_trick(self, trick):\n",
    "        self.tricks.append(trick)\n",
    "    \n",
    "    "
   ]
  },
  {
   "cell_type": "code",
   "execution_count": 108,
   "id": "fae19cfc",
   "metadata": {},
   "outputs": [],
   "source": [
    "Bella = Cat('Bella')\n",
    "Masi = Cat('Masi')"
   ]
  },
  {
   "cell_type": "code",
   "execution_count": 109,
   "id": "3dc45a19",
   "metadata": {},
   "outputs": [],
   "source": [
    "Bella.add_trick('she does nothing')"
   ]
  },
  {
   "cell_type": "code",
   "execution_count": 110,
   "id": "06b904af",
   "metadata": {},
   "outputs": [],
   "source": [
    "Masi.add_trick('jump')"
   ]
  },
  {
   "cell_type": "code",
   "execution_count": 111,
   "id": "a7b12e71",
   "metadata": {},
   "outputs": [
    {
     "data": {
      "text/plain": [
       "['she does nothing', 'jump']"
      ]
     },
     "execution_count": 111,
     "metadata": {},
     "output_type": "execute_result"
    }
   ],
   "source": [
    "Bella.tricks #bella has inherited the tricks of masi"
   ]
  },
  {
   "cell_type": "code",
   "execution_count": 112,
   "id": "c9b40303",
   "metadata": {},
   "outputs": [],
   "source": [
    "#correct design of the cat class\n",
    "class Cat:\n",
    "    def __init__(self, name):\n",
    "        self.name = name\n",
    "        self.tricks = []\n",
    "        \n",
    "    def add_trick(self, trick):\n",
    "        self.tricks.append(trick)"
   ]
  },
  {
   "cell_type": "code",
   "execution_count": 113,
   "id": "b7ec5825",
   "metadata": {},
   "outputs": [],
   "source": [
    "Bella = Cat('Bella')\n",
    "Masi = Cat('Masi')"
   ]
  },
  {
   "cell_type": "code",
   "execution_count": 125,
   "id": "e2962cf6",
   "metadata": {},
   "outputs": [],
   "source": [
    "Bella.add_trick('she does nothing')"
   ]
  },
  {
   "cell_type": "code",
   "execution_count": 132,
   "id": "419c2285",
   "metadata": {},
   "outputs": [],
   "source": [
    "Masi.add_trick('he jumps')"
   ]
  },
  {
   "cell_type": "code",
   "execution_count": 133,
   "id": "7c1f37a7",
   "metadata": {},
   "outputs": [
    {
     "data": {
      "text/plain": [
       "['she does nothing', 'she does nothing']"
      ]
     },
     "execution_count": 133,
     "metadata": {},
     "output_type": "execute_result"
    }
   ],
   "source": [
    "Bella.tricks"
   ]
  },
  {
   "cell_type": "code",
   "execution_count": 134,
   "id": "3048a4c5",
   "metadata": {},
   "outputs": [
    {
     "data": {
      "text/plain": [
       "['jump', 'he jumps']"
      ]
     },
     "execution_count": 134,
     "metadata": {},
     "output_type": "execute_result"
    }
   ],
   "source": [
    "Masi.tricks"
   ]
  },
  {
   "cell_type": "code",
   "execution_count": 137,
   "id": "f2b27ea0",
   "metadata": {},
   "outputs": [],
   "source": [
    "Masi.tricks.reverse()"
   ]
  },
  {
   "cell_type": "code",
   "execution_count": 139,
   "id": "8f812aef",
   "metadata": {},
   "outputs": [
    {
     "data": {
      "text/plain": [
       "'jump'"
      ]
     },
     "execution_count": 139,
     "metadata": {},
     "output_type": "execute_result"
    }
   ],
   "source": [
    "Masi.tricks.pop()"
   ]
  },
  {
   "cell_type": "code",
   "execution_count": 140,
   "id": "95e372a8",
   "metadata": {},
   "outputs": [
    {
     "data": {
      "text/plain": [
       "['he jumps']"
      ]
     },
     "execution_count": 140,
     "metadata": {},
     "output_type": "execute_result"
    }
   ],
   "source": [
    "Masi.tricks"
   ]
  },
  {
   "cell_type": "code",
   "execution_count": 141,
   "id": "8aa0d583",
   "metadata": {},
   "outputs": [],
   "source": [
    "#functions dont need to be wrapped in a class\n",
    "\n",
    "def f1(self, x, y):\n",
    "    return min(x, x+y)\n",
    "\n",
    "class C:\n",
    "    f = f1\n",
    "    \n",
    "    def g(self):\n",
    "        return \"hello world\"\n",
    "    h = g"
   ]
  },
  {
   "cell_type": "code",
   "execution_count": 142,
   "id": "0b3f55ea",
   "metadata": {},
   "outputs": [],
   "source": [
    "c = C()"
   ]
  },
  {
   "cell_type": "code",
   "execution_count": 156,
   "id": "3b6d7064",
   "metadata": {},
   "outputs": [
    {
     "data": {
      "text/plain": [
       "'hello world'"
      ]
     },
     "execution_count": 156,
     "metadata": {},
     "output_type": "execute_result"
    }
   ],
   "source": [
    "c.h()"
   ]
  },
  {
   "cell_type": "code",
   "execution_count": 165,
   "id": "51c5fdca",
   "metadata": {},
   "outputs": [],
   "source": [
    "class Bag:\n",
    "    \"\"\"\n",
    "    this is an efficent way of building a funciton add()\n",
    "    and calling this inner function with another inner class function addtwice()\n",
    "    \"\"\"\n",
    "    def __init__(self):\n",
    "        self.data = []\n",
    "        \n",
    "    def add(self, x):\n",
    "        self.data.append(x)\n",
    "    \n",
    "    def addtwice(self, x):\n",
    "        self.add(x)\n",
    "        self.add(x)"
   ]
  },
  {
   "cell_type": "code",
   "execution_count": 166,
   "id": "c0068b1a",
   "metadata": {},
   "outputs": [],
   "source": [
    "bag = Bag()"
   ]
  },
  {
   "cell_type": "code",
   "execution_count": 167,
   "id": "a797bdb7",
   "metadata": {},
   "outputs": [],
   "source": [
    "bag.add(4)"
   ]
  },
  {
   "cell_type": "code",
   "execution_count": 168,
   "id": "cd0f27c8",
   "metadata": {},
   "outputs": [
    {
     "data": {
      "text/plain": [
       "[4]"
      ]
     },
     "execution_count": 168,
     "metadata": {},
     "output_type": "execute_result"
    }
   ],
   "source": [
    "bag.data"
   ]
  },
  {
   "cell_type": "code",
   "execution_count": 169,
   "id": "d599d698",
   "metadata": {},
   "outputs": [],
   "source": [
    "bag.addtwice(5) "
   ]
  },
  {
   "cell_type": "code",
   "execution_count": 170,
   "id": "9e8682ad",
   "metadata": {},
   "outputs": [
    {
     "data": {
      "text/plain": [
       "[4, 5, 5]"
      ]
     },
     "execution_count": 170,
     "metadata": {},
     "output_type": "execute_result"
    }
   ],
   "source": [
    "bag.data"
   ]
  },
  {
   "cell_type": "code",
   "execution_count": 172,
   "id": "5bf292bd",
   "metadata": {},
   "outputs": [
    {
     "name": "stdout",
     "output_type": "stream",
     "text": [
      "\n",
      "    this is an efficent way of building a funciton add()\n",
      "    and calling this inner function with another inner class function addtwice()\n",
      "    \n"
     ]
    }
   ],
   "source": [
    "print(bag.__doc__)"
   ]
  },
  {
   "cell_type": "code",
   "execution_count": 193,
   "id": "2c181d44",
   "metadata": {},
   "outputs": [],
   "source": [
    "class Mapping:\n",
    "    def __init__(self, iterable):\n",
    "        self.items_list = []\n",
    "        self._update(iterable)\n",
    "        \n",
    "    def update(self, iterable):\n",
    "        for item in iterable:\n",
    "            self.items_list.append(item)\n",
    "    _update = update\n"
   ]
  },
  {
   "cell_type": "code",
   "execution_count": 291,
   "id": "fee3b9ed",
   "metadata": {},
   "outputs": [],
   "source": [
    "class MappingSubclass(Mapping):\n",
    "    \n",
    "    def update(self, key,value):\n",
    "        for item in zip(key, value):\n",
    "            self.items_list.append(item)"
   ]
  },
  {
   "cell_type": "code",
   "execution_count": 292,
   "id": "33e8b572",
   "metadata": {},
   "outputs": [],
   "source": [
    "cls = Mapping([1,2,3,4,5])"
   ]
  },
  {
   "cell_type": "code",
   "execution_count": 293,
   "id": "196c6dcf",
   "metadata": {},
   "outputs": [
    {
     "data": {
      "text/plain": [
       "[1, 2, 3, 4, 5]"
      ]
     },
     "execution_count": 293,
     "metadata": {},
     "output_type": "execute_result"
    }
   ],
   "source": [
    "cls.items_list"
   ]
  },
  {
   "cell_type": "code",
   "execution_count": 294,
   "id": "998c61a6",
   "metadata": {},
   "outputs": [],
   "source": [
    "subcls = MappingSubclass([1,2,3,4])"
   ]
  },
  {
   "cell_type": "code",
   "execution_count": 295,
   "id": "ed2fa828",
   "metadata": {},
   "outputs": [
    {
     "data": {
      "text/plain": [
       "[1, 2, 3, 4]"
      ]
     },
     "execution_count": 295,
     "metadata": {},
     "output_type": "execute_result"
    }
   ],
   "source": [
    "subcls.items_list"
   ]
  },
  {
   "cell_type": "code",
   "execution_count": 296,
   "id": "46b5d098",
   "metadata": {},
   "outputs": [],
   "source": [
    "subcls.update('x','y')"
   ]
  },
  {
   "cell_type": "code",
   "execution_count": 297,
   "id": "6d9df153",
   "metadata": {},
   "outputs": [
    {
     "data": {
      "text/plain": [
       "[1, 2, 3, 4, ('x', 'y')]"
      ]
     },
     "execution_count": 297,
     "metadata": {},
     "output_type": "execute_result"
    }
   ],
   "source": [
    "subcls.items_list"
   ]
  },
  {
   "cell_type": "code",
   "execution_count": 324,
   "id": "ea13882d",
   "metadata": {},
   "outputs": [],
   "source": [
    "def make_dict(key1, value1, key2, value2):\n",
    "    dictionary = {\n",
    "        str(key1): str(value1),\n",
    "        str(key2): str(value2)\n",
    "    }\n",
    "    return dictionary\n",
    "    \n"
   ]
  },
  {
   "cell_type": "code",
   "execution_count": 326,
   "id": "bcefc007",
   "metadata": {},
   "outputs": [
    {
     "data": {
      "text/plain": [
       "{'1': '2', '3': '4'}"
      ]
     },
     "execution_count": 326,
     "metadata": {},
     "output_type": "execute_result"
    }
   ],
   "source": [
    "make_dict(1,2,3,4)"
   ]
  },
  {
   "cell_type": "code",
   "execution_count": 332,
   "id": "975cce45",
   "metadata": {},
   "outputs": [],
   "source": [
    "# filling the feilds of a class\n",
    "\n",
    "class Employee:\n",
    "    pass"
   ]
  },
  {
   "cell_type": "code",
   "execution_count": 333,
   "id": "5cc01e15",
   "metadata": {},
   "outputs": [],
   "source": [
    "john = Employee()"
   ]
  },
  {
   "cell_type": "code",
   "execution_count": 334,
   "id": "303f299c",
   "metadata": {},
   "outputs": [],
   "source": [
    "john.job = \"engineer\""
   ]
  },
  {
   "cell_type": "code",
   "execution_count": 335,
   "id": "608fbfa9",
   "metadata": {},
   "outputs": [
    {
     "data": {
      "text/plain": [
       "'engineer'"
      ]
     },
     "execution_count": 335,
     "metadata": {},
     "output_type": "execute_result"
    }
   ],
   "source": [
    "john.job"
   ]
  },
  {
   "cell_type": "code",
   "execution_count": 346,
   "id": "6e458480",
   "metadata": {},
   "outputs": [],
   "source": [
    "a = [1,2,3]\n",
    "b = (1,2,3,4)\n",
    "c = {1:2, 3:4, 5:6}"
   ]
  },
  {
   "cell_type": "code",
   "execution_count": 387,
   "id": "d914fc46",
   "metadata": {},
   "outputs": [
    {
     "name": "stdout",
     "output_type": "stream",
     "text": [
      "this is a list iter 1\n",
      "this is a list iter 2\n",
      "this is a list iter 3\n",
      "this is a tuple iter 1\n",
      "this is a tuple iter 2\n",
      "this is a tuple iter 3\n",
      "this is a tuple iter 4\n"
     ]
    }
   ],
   "source": [
    "#iterating over container objects\n",
    "for element in list(a):\n",
    "    print(f\"this is a list iter {element}\")\n",
    "for element in tuple(b):\n",
    "    print (f\"this is a tuple iter {element}\")\n",
    "\n"
   ]
  },
  {
   "cell_type": "code",
   "execution_count": null,
   "id": "8655b411",
   "metadata": {},
   "outputs": [],
   "source": []
  },
  {
   "cell_type": "code",
   "execution_count": null,
   "id": "039b0327",
   "metadata": {},
   "outputs": [],
   "source": []
  }
 ],
 "metadata": {
  "kernelspec": {
   "display_name": "Python 3 (ipykernel)",
   "language": "python",
   "name": "python3"
  },
  "language_info": {
   "codemirror_mode": {
    "name": "ipython",
    "version": 3
   },
   "file_extension": ".py",
   "mimetype": "text/x-python",
   "name": "python",
   "nbconvert_exporter": "python",
   "pygments_lexer": "ipython3",
   "version": "3.9.7"
  }
 },
 "nbformat": 4,
 "nbformat_minor": 5
}
