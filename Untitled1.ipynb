{
 "cells": [
  {
   "cell_type": "code",
   "execution_count": 1,
   "id": "09a1ecd7",
   "metadata": {},
   "outputs": [],
   "source": [
    "import collections"
   ]
  },
  {
   "cell_type": "code",
   "execution_count": null,
   "id": "20cedc33",
   "metadata": {},
   "outputs": [],
   "source": []
  },
  {
   "cell_type": "code",
   "execution_count": null,
   "id": "611eebaf",
   "metadata": {},
   "outputs": [],
   "source": []
  },
  {
   "cell_type": "code",
   "execution_count": 61,
   "id": "ea0e1c0e",
   "metadata": {},
   "outputs": [
    {
     "data": {
      "text/plain": [
       "Tech(rank='black', name='legdrag')"
      ]
     },
     "execution_count": 61,
     "metadata": {},
     "output_type": "execute_result"
    }
   ],
   "source": [
    "technique1"
   ]
  },
  {
   "cell_type": "code",
   "execution_count": 7,
   "id": "1911c626",
   "metadata": {},
   "outputs": [],
   "source": [
    "technique2 = Technique('purple', 'berimbolo')"
   ]
  },
  {
   "cell_type": "code",
   "execution_count": 8,
   "id": "6e15919d",
   "metadata": {},
   "outputs": [
    {
     "data": {
      "text/plain": [
       "Tech(rank='purple', name='berimbolo')"
      ]
     },
     "execution_count": 8,
     "metadata": {},
     "output_type": "execute_result"
    }
   ],
   "source": [
    "technique2"
   ]
  },
  {
   "cell_type": "code",
   "execution_count": 9,
   "id": "628504f9",
   "metadata": {},
   "outputs": [
    {
     "data": {
      "text/plain": [
       "'The two techniques we are doing today are legdrag and berimbolo'"
      ]
     },
     "execution_count": 9,
     "metadata": {},
     "output_type": "execute_result"
    }
   ],
   "source": [
    "f\"The two techniques we are doing today are {technique1.name} and {technique2.name}\""
   ]
  },
  {
   "cell_type": "code",
   "execution_count": 10,
   "id": "b7d44ca4",
   "metadata": {},
   "outputs": [],
   "source": [
    "Card = collections.namedtuple('Card',['suit', 'rank'])"
   ]
  },
  {
   "cell_type": "code",
   "execution_count": 22,
   "id": "59052ae0",
   "metadata": {},
   "outputs": [],
   "source": [
    "class FrenchDeck:\n",
    "    ranks = [str(n) for n in range(2,11)] + list(\"KQJA\")\n",
    "    suits = 'diamond,spade,hearts,clubs'.split(',')\n",
    "    \n",
    "    def __init__(self):\n",
    "        self._cards = [Card(rank,suit) for rank in self.ranks for suit in self.suits]\n",
    "    \n",
    "    def __len__(self):\n",
    "        return len(self._cards)\n",
    "    \n",
    "    def __getitem__(self, position):\n",
    "        return self._cards[position]\n",
    "    \n",
    "    def __call__(self):\n",
    "        print('this is a deck of cards')\n",
    "        \n",
    "    "
   ]
  },
  {
   "cell_type": "code",
   "execution_count": 23,
   "id": "75148a21",
   "metadata": {},
   "outputs": [],
   "source": [
    "deck = FrenchDeck()"
   ]
  },
  {
   "cell_type": "code",
   "execution_count": 24,
   "id": "17665491",
   "metadata": {},
   "outputs": [
    {
     "data": {
      "text/plain": [
       "52"
      ]
     },
     "execution_count": 24,
     "metadata": {},
     "output_type": "execute_result"
    }
   ],
   "source": [
    "len(deck)"
   ]
  },
  {
   "cell_type": "code",
   "execution_count": 25,
   "id": "c23a36d9",
   "metadata": {},
   "outputs": [
    {
     "data": {
      "text/plain": [
       "Card(suit='2', rank='spade')"
      ]
     },
     "execution_count": 25,
     "metadata": {},
     "output_type": "execute_result"
    }
   ],
   "source": [
    "deck[1]"
   ]
  },
  {
   "cell_type": "code",
   "execution_count": 26,
   "id": "e0240c67",
   "metadata": {},
   "outputs": [],
   "source": [
    "from random import choice"
   ]
  },
  {
   "cell_type": "code",
   "execution_count": 30,
   "id": "9c0bbc09",
   "metadata": {},
   "outputs": [
    {
     "data": {
      "text/plain": [
       "Card(suit='K', rank='hearts')"
      ]
     },
     "execution_count": 30,
     "metadata": {},
     "output_type": "execute_result"
    }
   ],
   "source": [
    "choice(deck)"
   ]
  },
  {
   "cell_type": "code",
   "execution_count": 48,
   "id": "aaf031cb",
   "metadata": {},
   "outputs": [],
   "source": [
    "def dealer():\n",
    "    count=0\n",
    "    while True:\n",
    "        x = [choice(deck) for _ in range(10)]\n",
    "        count += 1\n",
    "        print(count)\n",
    "        yield x\n",
    "            "
   ]
  },
  {
   "cell_type": "code",
   "execution_count": 49,
   "id": "81a85231",
   "metadata": {},
   "outputs": [],
   "source": [
    "deal = dealer()"
   ]
  },
  {
   "cell_type": "code",
   "execution_count": 60,
   "id": "ceded534",
   "metadata": {},
   "outputs": [
    {
     "name": "stdout",
     "output_type": "stream",
     "text": [
      "11\n"
     ]
    },
    {
     "data": {
      "text/plain": [
       "[Card(suit='J', rank='clubs'),\n",
       " Card(suit='9', rank='spade'),\n",
       " Card(suit='7', rank='diamond'),\n",
       " Card(suit='4', rank='hearts'),\n",
       " Card(suit='10', rank='spade'),\n",
       " Card(suit='5', rank='spade'),\n",
       " Card(suit='3', rank='diamond'),\n",
       " Card(suit='2', rank='diamond'),\n",
       " Card(suit='10', rank='diamond'),\n",
       " Card(suit='K', rank='spade')]"
      ]
     },
     "execution_count": 60,
     "metadata": {},
     "output_type": "execute_result"
    }
   ],
   "source": [
    "next(deal)"
   ]
  },
  {
   "cell_type": "code",
   "execution_count": 81,
   "id": "dee7b262",
   "metadata": {},
   "outputs": [],
   "source": [
    "Technique = collections.namedtuple('Tech',['name','rank'])"
   ]
  },
  {
   "cell_type": "code",
   "execution_count": 83,
   "id": "32a90e7e",
   "metadata": {},
   "outputs": [],
   "source": [
    "armbar_mount = Technique('armbar','All')"
   ]
  },
  {
   "cell_type": "code",
   "execution_count": 84,
   "id": "81fef757",
   "metadata": {},
   "outputs": [
    {
     "data": {
      "text/plain": [
       "Tech(name='armbar', rank='All')"
      ]
     },
     "execution_count": 84,
     "metadata": {},
     "output_type": "execute_result"
    }
   ],
   "source": [
    "armbar_mount"
   ]
  },
  {
   "cell_type": "code",
   "execution_count": 96,
   "id": "0cd4653e",
   "metadata": {},
   "outputs": [],
   "source": [
    "class Curriculum:\n",
    "    names = ['armbar','footlock', 'berimbolo','rear naked choke']\n",
    "    ranks = ['Black', 'Brown', 'Purple', 'Blue']\n",
    "    positions = ['Top', 'Bottom']\n",
    "    \n",
    "    def __init__(self):\n",
    "        self._technique = [Technique(name,rank) for name in self.names for rank in self.ranks]\n",
    "    \n",
    "    def __len__(self):\n",
    "        return len(self._technique)\n",
    "    \n",
    "    def __getitem__(self,position):\n",
    "        return self._technique[position]\n",
    "    \n",
    "    def __call__(self):\n",
    "        return f'This is tonights curriculum'\n",
    "    "
   ]
  },
  {
   "cell_type": "code",
   "execution_count": 97,
   "id": "e937eeb2",
   "metadata": {},
   "outputs": [],
   "source": [
    "class1 = Curriculum()"
   ]
  },
  {
   "cell_type": "code",
   "execution_count": 98,
   "id": "e053f481",
   "metadata": {},
   "outputs": [
    {
     "data": {
      "text/plain": [
       "'This is tonights curriculum'"
      ]
     },
     "execution_count": 98,
     "metadata": {},
     "output_type": "execute_result"
    }
   ],
   "source": [
    "class1()"
   ]
  },
  {
   "cell_type": "code",
   "execution_count": 99,
   "id": "73ca57d9",
   "metadata": {},
   "outputs": [],
   "source": [
    "from random import choice"
   ]
  },
  {
   "cell_type": "code",
   "execution_count": 103,
   "id": "1cd1ab2f",
   "metadata": {},
   "outputs": [
    {
     "data": {
      "text/plain": [
       "Tech(name='rear naked choke', rank='Blue')"
      ]
     },
     "execution_count": 103,
     "metadata": {},
     "output_type": "execute_result"
    }
   ],
   "source": [
    "choice(class1)"
   ]
  },
  {
   "cell_type": "code",
   "execution_count": 111,
   "id": "6c18af9c",
   "metadata": {},
   "outputs": [],
   "source": [
    "def teacher():\n",
    "    class_number=0\n",
    "    while True:\n",
    "        x = [choice(class1) for _ in range(5)]\n",
    "        class_number +=1\n",
    "        print(f\"class number:{class_number} gets this curriculum for today:\")\n",
    "        yield x"
   ]
  },
  {
   "cell_type": "code",
   "execution_count": 112,
   "id": "c10ee398",
   "metadata": {},
   "outputs": [],
   "source": [
    "teacher = teacher()"
   ]
  },
  {
   "cell_type": "code",
   "execution_count": 114,
   "id": "5744a7a9",
   "metadata": {},
   "outputs": [
    {
     "name": "stdout",
     "output_type": "stream",
     "text": [
      "class number:2 gets this curriculum for today:\n"
     ]
    },
    {
     "data": {
      "text/plain": [
       "[Tech(name='armbar', rank='Blue'),\n",
       " Tech(name='berimbolo', rank='Purple'),\n",
       " Tech(name='berimbolo', rank='Purple'),\n",
       " Tech(name='footlock', rank='Purple'),\n",
       " Tech(name='footlock', rank='Purple')]"
      ]
     },
     "execution_count": 114,
     "metadata": {},
     "output_type": "execute_result"
    }
   ],
   "source": [
    "next(teacher)"
   ]
  },
  {
   "cell_type": "code",
   "execution_count": 115,
   "id": "8e5a5bd7",
   "metadata": {},
   "outputs": [
    {
     "name": "stdout",
     "output_type": "stream",
     "text": [
      "class number:3 gets this curriculum for today:\n"
     ]
    },
    {
     "data": {
      "text/plain": [
       "[Tech(name='footlock', rank='Purple'),\n",
       " Tech(name='berimbolo', rank='Brown'),\n",
       " Tech(name='armbar', rank='Blue'),\n",
       " Tech(name='footlock', rank='Black'),\n",
       " Tech(name='berimbolo', rank='Brown')]"
      ]
     },
     "execution_count": 115,
     "metadata": {},
     "output_type": "execute_result"
    }
   ],
   "source": [
    "next(teacher)"
   ]
  },
  {
   "cell_type": "code",
   "execution_count": 116,
   "id": "71b874a1",
   "metadata": {},
   "outputs": [
    {
     "name": "stdout",
     "output_type": "stream",
     "text": [
      "class number:4 gets this curriculum for today:\n"
     ]
    },
    {
     "data": {
      "text/plain": [
       "[Tech(name='rear naked choke', rank='Blue'),\n",
       " Tech(name='footlock', rank='Brown'),\n",
       " Tech(name='armbar', rank='Brown'),\n",
       " Tech(name='berimbolo', rank='Blue'),\n",
       " Tech(name='footlock', rank='Blue')]"
      ]
     },
     "execution_count": 116,
     "metadata": {},
     "output_type": "execute_result"
    }
   ],
   "source": [
    "next(teacher)"
   ]
  },
  {
   "cell_type": "code",
   "execution_count": 117,
   "id": "768f3c77",
   "metadata": {},
   "outputs": [
    {
     "name": "stdout",
     "output_type": "stream",
     "text": [
      "class number:5 gets this curriculum for today:\n"
     ]
    },
    {
     "data": {
      "text/plain": [
       "[Tech(name='berimbolo', rank='Brown'),\n",
       " Tech(name='armbar', rank='Black'),\n",
       " Tech(name='armbar', rank='Blue'),\n",
       " Tech(name='footlock', rank='Purple'),\n",
       " Tech(name='armbar', rank='Purple')]"
      ]
     },
     "execution_count": 117,
     "metadata": {},
     "output_type": "execute_result"
    }
   ],
   "source": [
    "next(teacher)"
   ]
  },
  {
   "cell_type": "code",
   "execution_count": 118,
   "id": "364123a6",
   "metadata": {},
   "outputs": [
    {
     "name": "stdout",
     "output_type": "stream",
     "text": [
      "class number:6 gets this curriculum for today:\n"
     ]
    },
    {
     "data": {
      "text/plain": [
       "[Tech(name='armbar', rank='Brown'),\n",
       " Tech(name='berimbolo', rank='Purple'),\n",
       " Tech(name='footlock', rank='Black'),\n",
       " Tech(name='rear naked choke', rank='Purple'),\n",
       " Tech(name='armbar', rank='Brown')]"
      ]
     },
     "execution_count": 118,
     "metadata": {},
     "output_type": "execute_result"
    }
   ],
   "source": [
    "next(teacher)"
   ]
  },
  {
   "cell_type": "code",
   "execution_count": 119,
   "id": "067585f2",
   "metadata": {},
   "outputs": [
    {
     "name": "stdout",
     "output_type": "stream",
     "text": [
      "class number:7 gets this curriculum for today:\n"
     ]
    },
    {
     "data": {
      "text/plain": [
       "[Tech(name='rear naked choke', rank='Purple'),\n",
       " Tech(name='footlock', rank='Purple'),\n",
       " Tech(name='rear naked choke', rank='Purple'),\n",
       " Tech(name='rear naked choke', rank='Black'),\n",
       " Tech(name='rear naked choke', rank='Purple')]"
      ]
     },
     "execution_count": 119,
     "metadata": {},
     "output_type": "execute_result"
    }
   ],
   "source": [
    "next(teacher)"
   ]
  },
  {
   "cell_type": "code",
   "execution_count": 120,
   "id": "64230783",
   "metadata": {},
   "outputs": [
    {
     "name": "stdout",
     "output_type": "stream",
     "text": [
      "class number:8 gets this curriculum for today:\n"
     ]
    },
    {
     "data": {
      "text/plain": [
       "[Tech(name='footlock', rank='Black'),\n",
       " Tech(name='armbar', rank='Purple'),\n",
       " Tech(name='berimbolo', rank='Black'),\n",
       " Tech(name='footlock', rank='Purple'),\n",
       " Tech(name='footlock', rank='Black')]"
      ]
     },
     "execution_count": 120,
     "metadata": {},
     "output_type": "execute_result"
    }
   ],
   "source": [
    "next(teacher)"
   ]
  },
  {
   "cell_type": "code",
   "execution_count": 121,
   "id": "509959fb",
   "metadata": {},
   "outputs": [
    {
     "name": "stdout",
     "output_type": "stream",
     "text": [
      "class number:9 gets this curriculum for today:\n"
     ]
    },
    {
     "data": {
      "text/plain": [
       "[Tech(name='armbar', rank='Brown'),\n",
       " Tech(name='rear naked choke', rank='Brown'),\n",
       " Tech(name='armbar', rank='Black'),\n",
       " Tech(name='berimbolo', rank='Black'),\n",
       " Tech(name='armbar', rank='Black')]"
      ]
     },
     "execution_count": 121,
     "metadata": {},
     "output_type": "execute_result"
    }
   ],
   "source": [
    "next(teacher)"
   ]
  },
  {
   "cell_type": "code",
   "execution_count": 123,
   "id": "10c12050",
   "metadata": {},
   "outputs": [
    {
     "name": "stdout",
     "output_type": "stream",
     "text": [
      "class number:11 gets this curriculum for today:\n"
     ]
    },
    {
     "data": {
      "text/plain": [
       "[Tech(name='rear naked choke', rank='Purple'),\n",
       " Tech(name='footlock', rank='Blue'),\n",
       " Tech(name='armbar', rank='Purple'),\n",
       " Tech(name='armbar', rank='Black'),\n",
       " Tech(name='footlock', rank='Blue')]"
      ]
     },
     "execution_count": 123,
     "metadata": {},
     "output_type": "execute_result"
    }
   ],
   "source": [
    "next(teacher)"
   ]
  },
  {
   "cell_type": "code",
   "execution_count": 124,
   "id": "b0bee0ee",
   "metadata": {},
   "outputs": [
    {
     "name": "stdout",
     "output_type": "stream",
     "text": [
      "class number:12 gets this curriculum for today:\n"
     ]
    },
    {
     "data": {
      "text/plain": [
       "[Tech(name='footlock', rank='Purple'),\n",
       " Tech(name='armbar', rank='Black'),\n",
       " Tech(name='rear naked choke', rank='Blue'),\n",
       " Tech(name='rear naked choke', rank='Purple'),\n",
       " Tech(name='rear naked choke', rank='Purple')]"
      ]
     },
     "execution_count": 124,
     "metadata": {},
     "output_type": "execute_result"
    }
   ],
   "source": [
    "next(teacher)"
   ]
  },
  {
   "cell_type": "code",
   "execution_count": null,
   "id": "af0ef056",
   "metadata": {},
   "outputs": [],
   "source": []
  }
 ],
 "metadata": {
  "kernelspec": {
   "display_name": "Python 3 (ipykernel)",
   "language": "python",
   "name": "python3"
  },
  "language_info": {
   "codemirror_mode": {
    "name": "ipython",
    "version": 3
   },
   "file_extension": ".py",
   "mimetype": "text/x-python",
   "name": "python",
   "nbconvert_exporter": "python",
   "pygments_lexer": "ipython3",
   "version": "3.9.7"
  }
 },
 "nbformat": 4,
 "nbformat_minor": 5
}
