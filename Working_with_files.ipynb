{
 "cells": [
  {
   "cell_type": "code",
   "execution_count": 2,
   "id": "f3e6f06c",
   "metadata": {},
   "outputs": [],
   "source": [
    "import pathlib"
   ]
  },
  {
   "cell_type": "code",
   "execution_count": 3,
   "id": "a5dc7e7c",
   "metadata": {},
   "outputs": [
    {
     "data": {
      "text/plain": [
       "PosixPath('/Users/giannicrivello/dev_projects/py_projects')"
      ]
     },
     "execution_count": 3,
     "metadata": {},
     "output_type": "execute_result"
    }
   ],
   "source": [
    "pathlib.Path.cwd()"
   ]
  },
  {
   "cell_type": "code",
   "execution_count": 5,
   "id": "1c401f69",
   "metadata": {},
   "outputs": [
    {
     "data": {
      "text/plain": [
       "PosixPath('/Users/giannicrivello')"
      ]
     },
     "execution_count": 5,
     "metadata": {},
     "output_type": "execute_result"
    }
   ],
   "source": [
    "pathlib.Path.home()"
   ]
  },
  {
   "cell_type": "code",
   "execution_count": 10,
   "id": "698d95fe",
   "metadata": {},
   "outputs": [],
   "source": [
    "#creating file paths and reading those files\n",
    "path = pathlib.Path.cwd() / 'decorators.py'"
   ]
  },
  {
   "cell_type": "code",
   "execution_count": 12,
   "id": "2fcc3cd6",
   "metadata": {},
   "outputs": [
    {
     "data": {
      "text/plain": [
       "'def do_twice(func):\\n    def wrapper_do_twice(*args, **kwargs):\\n        func(*args, **kwargs)\\n        func(*args, **kwargs)\\n    return wrapper_do_twice'"
      ]
     },
     "execution_count": 12,
     "metadata": {},
     "output_type": "execute_result"
    }
   ],
   "source": [
    "path.read_text()"
   ]
  },
  {
   "cell_type": "code",
   "execution_count": 14,
   "id": "050a5b4e",
   "metadata": {},
   "outputs": [
    {
     "data": {
      "text/plain": [
       "PosixPath('/Users/giannicrivello/dev_projects/py_projects/decorators.py')"
      ]
     },
     "execution_count": 14,
     "metadata": {},
     "output_type": "execute_result"
    }
   ],
   "source": [
    "path.resolve()"
   ]
  },
  {
   "cell_type": "code",
   "execution_count": 15,
   "id": "0417eea9",
   "metadata": {},
   "outputs": [
    {
     "data": {
      "text/plain": [
       "PosixPath('/Users/giannicrivello/dev_projects/py_projects')"
      ]
     },
     "execution_count": 15,
     "metadata": {},
     "output_type": "execute_result"
    }
   ],
   "source": [
    "path.parent"
   ]
  },
  {
   "cell_type": "code",
   "execution_count": 16,
   "id": "21bb358a",
   "metadata": {},
   "outputs": [
    {
     "data": {
      "text/plain": [
       "True"
      ]
     },
     "execution_count": 16,
     "metadata": {},
     "output_type": "execute_result"
    }
   ],
   "source": [
    "path.resolve().parent == pathlib.Path.cwd()"
   ]
  },
  {
   "cell_type": "code",
   "execution_count": 17,
   "id": "9cf8c643",
   "metadata": {},
   "outputs": [
    {
     "data": {
      "text/plain": [
       "True"
      ]
     },
     "execution_count": 17,
     "metadata": {},
     "output_type": "execute_result"
    }
   ],
   "source": [
    "path.parent == pathlib.Path.cwd()"
   ]
  },
  {
   "cell_type": "code",
   "execution_count": 18,
   "id": "77011866",
   "metadata": {},
   "outputs": [],
   "source": [
    "#the different parts of path are conveinently available as properties of path object\n",
    "#.name - the file name without any directory\n",
    "#.parent - the file name without the suffix\n",
    "#.stem - the file name without the suffix\n",
    "#.suffix - the file extension\n",
    "#.anchor - the part of the path before the directories"
   ]
  },
  {
   "cell_type": "code",
   "execution_count": 20,
   "id": "69a702a7",
   "metadata": {},
   "outputs": [
    {
     "data": {
      "text/plain": [
       "PosixPath('/Users/giannicrivello/dev_projects/py_projects/decorators.py')"
      ]
     },
     "execution_count": 20,
     "metadata": {},
     "output_type": "execute_result"
    }
   ],
   "source": [
    "path"
   ]
  },
  {
   "cell_type": "code",
   "execution_count": 21,
   "id": "be079f96",
   "metadata": {},
   "outputs": [
    {
     "data": {
      "text/plain": [
       "'decorators.py'"
      ]
     },
     "execution_count": 21,
     "metadata": {},
     "output_type": "execute_result"
    }
   ],
   "source": [
    "path.name"
   ]
  },
  {
   "cell_type": "code",
   "execution_count": 22,
   "id": "ff89ea3c",
   "metadata": {},
   "outputs": [
    {
     "data": {
      "text/plain": [
       "'decorators'"
      ]
     },
     "execution_count": 22,
     "metadata": {},
     "output_type": "execute_result"
    }
   ],
   "source": [
    "path.stem"
   ]
  },
  {
   "cell_type": "code",
   "execution_count": 23,
   "id": "01f09541",
   "metadata": {},
   "outputs": [
    {
     "data": {
      "text/plain": [
       "'.py'"
      ]
     },
     "execution_count": 23,
     "metadata": {},
     "output_type": "execute_result"
    }
   ],
   "source": [
    "path.suffix"
   ]
  },
  {
   "cell_type": "code",
   "execution_count": 24,
   "id": "9f695011",
   "metadata": {},
   "outputs": [
    {
     "data": {
      "text/plain": [
       "PosixPath('/Users/giannicrivello/dev_projects/py_projects')"
      ]
     },
     "execution_count": 24,
     "metadata": {},
     "output_type": "execute_result"
    }
   ],
   "source": [
    "path.parent"
   ]
  },
  {
   "cell_type": "code",
   "execution_count": 25,
   "id": "9ce781fc",
   "metadata": {},
   "outputs": [
    {
     "data": {
      "text/plain": [
       "PosixPath('/Users/giannicrivello/dev_projects')"
      ]
     },
     "execution_count": 25,
     "metadata": {},
     "output_type": "execute_result"
    }
   ],
   "source": [
    "path.parent.parent"
   ]
  },
  {
   "cell_type": "code",
   "execution_count": 26,
   "id": "77607841",
   "metadata": {},
   "outputs": [
    {
     "data": {
      "text/plain": [
       "'/'"
      ]
     },
     "execution_count": 26,
     "metadata": {},
     "output_type": "execute_result"
    }
   ],
   "source": [
    "path.anchor"
   ]
  },
  {
   "cell_type": "code",
   "execution_count": 28,
   "id": "1366c76c",
   "metadata": {},
   "outputs": [
    {
     "data": {
      "text/plain": [
       "Counter({'.ipynb': 16, '.json': 3, '': 8, '.py': 1})"
      ]
     },
     "execution_count": 28,
     "metadata": {},
     "output_type": "execute_result"
    }
   ],
   "source": [
    "#counting files\n",
    "import collections\n",
    "\n",
    "\n",
    "collections.Counter(p.suffix for p in pathlib.Path.cwd().iterdir())"
   ]
  },
  {
   "cell_type": "code",
   "execution_count": 34,
   "id": "ce4e34d7",
   "metadata": {},
   "outputs": [],
   "source": [
    "x = [i.suffix for i in pathlib.Path.cwd().iterdir()]"
   ]
  },
  {
   "cell_type": "code",
   "execution_count": 36,
   "id": "7c796eb3",
   "metadata": {},
   "outputs": [
    {
     "data": {
      "text/plain": [
       "PosixPath('/Users/giannicrivello/dev_projects/py_projects')"
      ]
     },
     "execution_count": 36,
     "metadata": {},
     "output_type": "execute_result"
    }
   ],
   "source": [
    "pathlib.Path.cwd()"
   ]
  },
  {
   "cell_type": "code",
   "execution_count": 41,
   "id": "5ab72fe8",
   "metadata": {},
   "outputs": [
    {
     "name": "stdout",
     "output_type": "stream",
     "text": [
      " Dictionaries.ipynb\n",
      "Decorators_demistified.ipynb\n",
      "Binary_converter.ipynb\n",
      "Untitled1.ipynb\n",
      "filtered_data_file.json\n",
      "py_testing\n",
      "*args_and_**kwargs_demistified.ipynb\n",
      ".pytest_cache\n",
      "Fibonaci.ipynb\n",
      "Class_practice.ipynb\n",
      "ds\n",
      "Untitled3.ipynb\n",
      "chapter 2_array_of_sequences.ipynb\n",
      "Untitled.ipynb\n",
      "French_Deck_Example.ipynb\n",
      "working_with_json.ipynb\n",
      "Untitled2.ipynb\n",
      "__pycache__\n",
      "filter_data_file.json\n",
      ".env\n",
      "data_file.json\n",
      "working_with_json\n",
      ".ipynb_checkpoints\n",
      "VectorExample.ipynb\n",
      "pyspark.ipynb\n",
      ".git\n",
      "py_practice.ipynb\n",
      "decorators.py\n"
     ]
    }
   ],
   "source": [
    "for i in pathlib.Path.cwd().iterdir():\n",
    "    print(i.name)"
   ]
  },
  {
   "cell_type": "code",
   "execution_count": 62,
   "id": "24ccb077",
   "metadata": {},
   "outputs": [],
   "source": [
    "def tree(directory):\n",
    "    print(f'+ {directory}')\n",
    "    for path in sorted(directory.rglob('*')):\n",
    "        depth = len(path.relative_to(directory).parts)\n",
    "        spacer = \"  \" * depth\n",
    "        print(f\"{spacer}+ {path.name}\")"
   ]
  },
  {
   "cell_type": "code",
   "execution_count": 63,
   "id": "678f5462",
   "metadata": {},
   "outputs": [
    {
     "data": {
      "text/plain": [
       "3274"
      ]
     },
     "execution_count": 63,
     "metadata": {},
     "output_type": "execute_result"
    }
   ],
   "source": [
    "len(list(pathlib.Path.cwd().rglob('*')))"
   ]
  },
  {
   "cell_type": "code",
   "execution_count": 68,
   "id": "4df531da",
   "metadata": {},
   "outputs": [
    {
     "name": "stdout",
     "output_type": "stream",
     "text": [
      "2021-10-29 18:14:40.512265 /Users/giannicrivello/dev_projects/py_projects/Untitled3.ipynb\n"
     ]
    }
   ],
   "source": [
    "from datetime import datetime\n",
    "time, file_path = max((f.stat().st_mtime, f) for f in pathlib.Path.cwd().iterdir())\n",
    "print(datetime.fromtimestamp(time), file_path)"
   ]
  },
  {
   "cell_type": "code",
   "execution_count": 83,
   "id": "4a464e27",
   "metadata": {},
   "outputs": [
    {
     "data": {
      "text/plain": [
       "PosixPath('/Users/giannicrivello/dev_projects/py_projects/Untitled3.ipynb')"
      ]
     },
     "execution_count": 83,
     "metadata": {},
     "output_type": "execute_result"
    }
   ],
   "source": [
    "max((f.stat().st_mtime, f) for f in pathlib.Path.cwd().iterdir())[1]"
   ]
  },
  {
   "cell_type": "code",
   "execution_count": 79,
   "id": "e1bf3595",
   "metadata": {},
   "outputs": [
    {
     "name": "stdout",
     "output_type": "stream",
     "text": [
      "2021-10-29 18:16:40.501825 /Users/giannicrivello/dev_projects/py_projects/Untitled3.ipynb\n"
     ]
    }
   ],
   "source": [
    "print(datetime.fromtimestamp(time), file_path)"
   ]
  },
  {
   "cell_type": "code",
   "execution_count": 86,
   "id": "c6d36820",
   "metadata": {},
   "outputs": [],
   "source": [
    "import os"
   ]
  },
  {
   "cell_type": "code",
   "execution_count": 87,
   "id": "4792a3de",
   "metadata": {},
   "outputs": [
    {
     "data": {
      "text/plain": [
       "[' Dictionaries.ipynb',\n",
       " 'Decorators_demistified.ipynb',\n",
       " 'Binary_converter.ipynb',\n",
       " 'Untitled1.ipynb',\n",
       " 'filtered_data_file.json',\n",
       " 'py_testing',\n",
       " '*args_and_**kwargs_demistified.ipynb',\n",
       " '.pytest_cache',\n",
       " 'Fibonaci.ipynb',\n",
       " 'Class_practice.ipynb',\n",
       " 'ds',\n",
       " 'Working_with_files.ipynb',\n",
       " 'chapter 2_array_of_sequences.ipynb',\n",
       " 'Untitled.ipynb',\n",
       " 'French_Deck_Example.ipynb',\n",
       " 'working_with_json.ipynb',\n",
       " 'Untitled2.ipynb',\n",
       " '__pycache__',\n",
       " 'filter_data_file.json',\n",
       " '.env',\n",
       " 'data_file.json',\n",
       " 'working_with_json',\n",
       " '.ipynb_checkpoints',\n",
       " 'VectorExample.ipynb',\n",
       " 'pyspark.ipynb',\n",
       " '.git',\n",
       " 'py_practice.ipynb',\n",
       " 'decorators.py']"
      ]
     },
     "execution_count": 87,
     "metadata": {},
     "output_type": "execute_result"
    }
   ],
   "source": [
    "#os.listdir() returns a list of all the files in the current working directory\n",
    "os.listdir()"
   ]
  },
  {
   "cell_type": "markdown",
   "id": "57b1f3ab",
   "metadata": {},
   "source": [
    "\n",
    "# Function\tDescription\n",
    "os.listdir()\tReturns a list of all files and folders in a directory\n",
    "os.scandir()\tReturns an iterator of all the objects in a directory including file attribute information\n",
    "pathlib.Path.iterdir()\tReturns an iterator of all the objects in a directory including file attribute information"
   ]
  },
  {
   "cell_type": "code",
   "execution_count": 88,
   "id": "64f025b7",
   "metadata": {},
   "outputs": [
    {
     "name": "stdout",
     "output_type": "stream",
     "text": [
      " Dictionaries.ipynb\n",
      "Decorators_demistified.ipynb\n",
      "Binary_converter.ipynb\n",
      "Untitled1.ipynb\n",
      "filtered_data_file.json\n",
      "*args_and_**kwargs_demistified.ipynb\n",
      "Fibonaci.ipynb\n",
      "Class_practice.ipynb\n",
      "Working_with_files.ipynb\n",
      "chapter 2_array_of_sequences.ipynb\n",
      "Untitled.ipynb\n",
      "French_Deck_Example.ipynb\n",
      "working_with_json.ipynb\n",
      "Untitled2.ipynb\n",
      "filter_data_file.json\n",
      "data_file.json\n",
      "VectorExample.ipynb\n",
      "pyspark.ipynb\n",
      "py_practice.ipynb\n",
      "decorators.py\n"
     ]
    }
   ],
   "source": [
    "from pathlib import Path\n",
    "\n",
    "basepath = Path().cwd()\n",
    "files_in_basepath = basepath.iterdir()\n",
    "for item in files_in_basepath:\n",
    "    if item.is_file():\n",
    "        print(item.name)"
   ]
  },
  {
   "cell_type": "code",
   "execution_count": 89,
   "id": "74303bd8",
   "metadata": {},
   "outputs": [
    {
     "name": "stdout",
     "output_type": "stream",
     "text": [
      " Dictionaries.ipynb\n",
      "Decorators_demistified.ipynb\n",
      "Binary_converter.ipynb\n",
      "Untitled1.ipynb\n",
      "filtered_data_file.json\n",
      "*args_and_**kwargs_demistified.ipynb\n",
      "Fibonaci.ipynb\n",
      "Class_practice.ipynb\n",
      "Working_with_files.ipynb\n",
      "chapter 2_array_of_sequences.ipynb\n",
      "Untitled.ipynb\n",
      "French_Deck_Example.ipynb\n",
      "working_with_json.ipynb\n",
      "Untitled2.ipynb\n",
      "filter_data_file.json\n",
      "data_file.json\n",
      "VectorExample.ipynb\n",
      "pyspark.ipynb\n",
      "py_practice.ipynb\n",
      "decorators.py\n"
     ]
    }
   ],
   "source": [
    "#same code as above but demonstrated as a generator expression\n",
    "\n",
    "basepath = Path().cwd()\n",
    "files_in_basepath = (entry for entry in basepath.iterdir() if entry.is_file())\n",
    "for item in files_in_basepath:\n",
    "    print(item.name)"
   ]
  },
  {
   "cell_type": "code",
   "execution_count": 108,
   "id": "035fa4c4",
   "metadata": {},
   "outputs": [
    {
     "name": "stdout",
     "output_type": "stream",
     "text": [
      "py_testing\n",
      ".pytest_cache\n",
      "ds\n",
      "__pycache__\n",
      ".env\n",
      "working_with_json\n",
      ".ipynb_checkpoints\n",
      ".git\n",
      "would you like to see the files?y\n",
      " Dictionaries.ipynb\n",
      "Decorators_demistified.ipynb\n",
      "Binary_converter.ipynb\n",
      "Untitled1.ipynb\n",
      "filtered_data_file.json\n",
      "*args_and_**kwargs_demistified.ipynb\n",
      "Fibonaci.ipynb\n",
      "Class_practice.ipynb\n",
      "Working_with_files.ipynb\n",
      "chapter 2_array_of_sequences.ipynb\n",
      "Untitled.ipynb\n",
      "French_Deck_Example.ipynb\n",
      "working_with_json.ipynb\n",
      "Untitled2.ipynb\n",
      "filter_data_file.json\n",
      "data_file.json\n",
      "VectorExample.ipynb\n",
      "pyspark.ipynb\n",
      "py_practice.ipynb\n",
      "decorators.py\n"
     ]
    }
   ],
   "source": [
    "#listing subdirectories and filtering files\n",
    "baspaht = pathlib.Path.cwd()\n",
    "is_dir = []\n",
    "is_file = []\n",
    "for entry in basepath.iterdir():\n",
    "    if entry.is_dir():\n",
    "        is_dir.append(entry.name)\n",
    "    else:\n",
    "        is_file.append(entry.name)\n",
    "if len(is_dir) > 0:\n",
    "    for i in is_dir:\n",
    "        print(i)\n",
    "else:\n",
    "    print('no directories found')\n",
    "\n",
    "def worker():\n",
    "    x = input(\"would you like to see the files?\")\n",
    "    if x == \"y\":\n",
    "        for i in is_file:\n",
    "            print(i)\n",
    "    elif x == \"n\":\n",
    "        print('ok!')\n",
    "    \n",
    "    else:\n",
    "        print('Try again! only takes Y/N')\n",
    "        worker()\n",
    "\n",
    "worker()"
   ]
  },
  {
   "cell_type": "code",
   "execution_count": 123,
   "id": "f8ebe97b",
   "metadata": {},
   "outputs": [],
   "source": [
    "#using scandir for modified times on files\n",
    "\n",
    "from datetime import datetime\n",
    "from os import scandir\n",
    "\n",
    "def convert_date(timestamp):\n",
    "    d = datetime.utcfromtimestamp(timestamp)\n",
    "    formated_date = d.strftime('%d %b %Y')\n",
    "    return formated_date\n",
    "\n",
    "\n",
    "def get_files():\n",
    "    dir_entries = scandir(str(pathlib.Path.cwd()))\n",
    "    for entry in dir_entries:\n",
    "        if entry.is_file():\n",
    "            info = entry.stat()\n",
    "            print(f\"{entry.name}\\t Last Modified: {convert_date(info.st_mtime)}\")\n",
    "        "
   ]
  },
  {
   "cell_type": "code",
   "execution_count": 124,
   "id": "43a3d299",
   "metadata": {},
   "outputs": [
    {
     "name": "stdout",
     "output_type": "stream",
     "text": [
      " Dictionaries.ipynb\t Last Modified: 27 Oct 2021\n",
      "Decorators_demistified.ipynb\t Last Modified: 15 Oct 2021\n",
      "Binary_converter.ipynb\t Last Modified: 21 Oct 2021\n",
      "Untitled1.ipynb\t Last Modified: 17 Oct 2021\n",
      "filtered_data_file.json\t Last Modified: 24 Oct 2021\n",
      "*args_and_**kwargs_demistified.ipynb\t Last Modified: 15 Oct 2021\n",
      "Fibonaci.ipynb\t Last Modified: 25 Oct 2021\n",
      "Class_practice.ipynb\t Last Modified: 19 Oct 2021\n",
      "Working_with_files.ipynb\t Last Modified: 30 Oct 2021\n",
      "chapter 2_array_of_sequences.ipynb\t Last Modified: 19 Oct 2021\n",
      "Untitled.ipynb\t Last Modified: 17 Oct 2021\n",
      "French_Deck_Example.ipynb\t Last Modified: 14 Oct 2021\n",
      "working_with_json.ipynb\t Last Modified: 24 Oct 2021\n",
      "Untitled2.ipynb\t Last Modified: 26 Oct 2021\n",
      "filter_data_file.json\t Last Modified: 24 Oct 2021\n",
      "data_file.json\t Last Modified: 24 Oct 2021\n",
      "VectorExample.ipynb\t Last Modified: 14 Oct 2021\n",
      "pyspark.ipynb\t Last Modified: 27 Oct 2021\n",
      "py_practice.ipynb\t Last Modified: 15 Oct 2021\n",
      "decorators.py\t Last Modified: 15 Oct 2021\n"
     ]
    }
   ],
   "source": [
    "get_files()"
   ]
  },
  {
   "cell_type": "code",
   "execution_count": 126,
   "id": "b838d64a",
   "metadata": {},
   "outputs": [
    {
     "ename": "OSError",
     "evalue": "[Errno 30] Read-only file system: '/py_projects'",
     "output_type": "error",
     "traceback": [
      "\u001b[0;31m---------------------------------------------------------------------------\u001b[0m",
      "\u001b[0;31mOSError\u001b[0m                                   Traceback (most recent call last)",
      "\u001b[0;32m/var/folders/2w/b5pcll7s7wl1dcwv2ccr3rqc0000gn/T/ipykernel_6588/546743886.py\u001b[0m in \u001b[0;36m<module>\u001b[0;34m\u001b[0m\n\u001b[1;32m      3\u001b[0m \u001b[0mp\u001b[0m \u001b[0;34m=\u001b[0m \u001b[0mpathlib\u001b[0m\u001b[0;34m.\u001b[0m\u001b[0mPath\u001b[0m\u001b[0;34m(\u001b[0m\u001b[0;34m'/py_projects'\u001b[0m\u001b[0;34m)\u001b[0m\u001b[0;34m\u001b[0m\u001b[0;34m\u001b[0m\u001b[0m\n\u001b[1;32m      4\u001b[0m \u001b[0;34m\u001b[0m\u001b[0m\n\u001b[0;32m----> 5\u001b[0;31m \u001b[0mp\u001b[0m\u001b[0;34m.\u001b[0m\u001b[0mmkdir\u001b[0m\u001b[0;34m(\u001b[0m\u001b[0;34m)\u001b[0m\u001b[0;34m\u001b[0m\u001b[0;34m\u001b[0m\u001b[0m\n\u001b[0m\u001b[1;32m      6\u001b[0m \u001b[0;34m\u001b[0m\u001b[0m\n\u001b[1;32m      7\u001b[0m \u001b[0;34m\u001b[0m\u001b[0m\n",
      "\u001b[0;32m/opt/homebrew/Cellar/python@3.9/3.9.7_1/Frameworks/Python.framework/Versions/3.9/lib/python3.9/pathlib.py\u001b[0m in \u001b[0;36mmkdir\u001b[0;34m(self, mode, parents, exist_ok)\u001b[0m\n\u001b[1;32m   1321\u001b[0m         \"\"\"\n\u001b[1;32m   1322\u001b[0m         \u001b[0;32mtry\u001b[0m\u001b[0;34m:\u001b[0m\u001b[0;34m\u001b[0m\u001b[0;34m\u001b[0m\u001b[0m\n\u001b[0;32m-> 1323\u001b[0;31m             \u001b[0mself\u001b[0m\u001b[0;34m.\u001b[0m\u001b[0m_accessor\u001b[0m\u001b[0;34m.\u001b[0m\u001b[0mmkdir\u001b[0m\u001b[0;34m(\u001b[0m\u001b[0mself\u001b[0m\u001b[0;34m,\u001b[0m \u001b[0mmode\u001b[0m\u001b[0;34m)\u001b[0m\u001b[0;34m\u001b[0m\u001b[0;34m\u001b[0m\u001b[0m\n\u001b[0m\u001b[1;32m   1324\u001b[0m         \u001b[0;32mexcept\u001b[0m \u001b[0mFileNotFoundError\u001b[0m\u001b[0;34m:\u001b[0m\u001b[0;34m\u001b[0m\u001b[0;34m\u001b[0m\u001b[0m\n\u001b[1;32m   1325\u001b[0m             \u001b[0;32mif\u001b[0m \u001b[0;32mnot\u001b[0m \u001b[0mparents\u001b[0m \u001b[0;32mor\u001b[0m \u001b[0mself\u001b[0m\u001b[0;34m.\u001b[0m\u001b[0mparent\u001b[0m \u001b[0;34m==\u001b[0m \u001b[0mself\u001b[0m\u001b[0;34m:\u001b[0m\u001b[0;34m\u001b[0m\u001b[0;34m\u001b[0m\u001b[0m\n",
      "\u001b[0;31mOSError\u001b[0m: [Errno 30] Read-only file system: '/py_projects'"
     ]
    }
   ],
   "source": [
    "#making directories with pathlib.Path.mkdir()\n",
    "\n",
    "p = pathlib.Path('/py_projects')\n",
    "\n",
    "p.mkdir()\n",
    "\n",
    "\n",
    "\n",
    "\n",
    "\n"
   ]
  },
  {
   "cell_type": "code",
   "execution_count": 127,
   "id": "8dd7bb3f",
   "metadata": {},
   "outputs": [
    {
     "name": "stdout",
     "output_type": "stream",
     "text": [
      "\u001b[01;34m.\u001b[00m\r\n",
      "[-rw-r--r--]  \\ Dictionaries.ipynb\r\n",
      "[-rw-r--r--]  *args_and_**kwargs_demistified.ipynb\r\n",
      "[-rw-r--r--]  Binary_converter.ipynb\r\n",
      "[-rw-r--r--]  Class_practice.ipynb\r\n",
      "[-rw-r--r--]  Decorators_demistified.ipynb\r\n",
      "[-rw-r--r--]  Fibonaci.ipynb\r\n",
      "[-rw-r--r--]  French_Deck_Example.ipynb\r\n",
      "[-rw-r--r--]  Untitled.ipynb\r\n",
      "[-rw-r--r--]  Untitled1.ipynb\r\n",
      "[-rw-r--r--]  Untitled2.ipynb\r\n",
      "[-rw-r--r--]  VectorExample.ipynb\r\n",
      "[-rw-r--r--]  Working_with_files.ipynb\r\n",
      "[drwxr-xr-x]  \u001b[01;34m__pycache__\u001b[00m\r\n",
      "[-rw-r--r--]  decorators.cpython-39.pyc\r\n",
      "[-rw-r--r--]  chapter\\ 2_array_of_sequences.ipynb\r\n",
      "[-rw-r--r--]  data_file.json\r\n",
      "[-rw-r--r--]  decorators.py\r\n",
      "[drwxr-xr-x]  \u001b[01;34mds\u001b[00m\r\n",
      "[drwxr-xr-x]  \u001b[01;34mds\u001b[00m\r\n",
      "[-rw-r--r--]  __init__.py\r\n",
      "[-rw-r--r--]  stack.py\r\n",
      "[drwxr-xr-x]  \u001b[01;34mtests\u001b[00m\r\n",
      "[drwxr-xr-x]  \u001b[01;34m__pycache__\u001b[00m\r\n",
      "[-rw-r--r--]  test_stack.cpython-39-pytest-6.2.5.pyc\r\n",
      "[-rw-r--r--]  test_stack.py\r\n",
      "[-rw-r--r--]  filter_data_file.json\r\n",
      "[-rw-r--r--]  filtered_data_file.json\r\n",
      "[-rw-r--r--]  py_practice.ipynb\r\n",
      "[drwxr-xr-x]  \u001b[01;34mpy_testing\u001b[00m\r\n",
      "[drwxr-xr-x]  \u001b[01;34mpy_testing\u001b[00m\r\n",
      "[-rw-r--r--]  __init__.py\r\n",
      "[-rw-r--r--]  code.py\r\n",
      "[drwxr-xr-x]  \u001b[01;34mtests\u001b[00m\r\n",
      "[drwxr-xr-x]  \u001b[01;34m__pycache__\u001b[00m\r\n",
      "[-rw-r--r--]  test_with_pytest.cpython-39-pytest-6.2.5.pyc\r\n",
      "[-rw-r--r--]  test_with_pytest.py\r\n",
      "[-rw-r--r--]  pyspark.ipynb\r\n",
      "[drwxr-xr-x]  \u001b[01;34mworking_with_json\u001b[00m\r\n",
      "[-rw-r--r--]  Working_with_json.ipynb\r\n",
      "[drwxr-xr-x]  \u001b[01;34mcode\u001b[00m\r\n",
      "[-rw-r--r--]  Working_with_json.py\r\n",
      "[-rw-r--r--]  __init__.py\r\n",
      "[drwxr-xr-x]  \u001b[01;34m__pycache__\u001b[00m\r\n",
      "[-rw-r--r--]  __init__.cpython-39.pyc\r\n",
      "[drwxr-xr-x]  \u001b[01;34mtests\u001b[00m\r\n",
      "[drwxr-xr-x]  \u001b[01;34m__pycache__\u001b[00m\r\n",
      "[-rw-r--r--]  test_with_pytest.cpython-39-pytest-6.2.5.pyc\r\n",
      "[-rw-r--r--]  test_with_pytest.py\r\n",
      "[-rw-r--r--]  working_with_json.ipynb\r\n",
      "\r\n",
      "14 directories, 35 files\r\n"
     ]
    }
   ],
   "source": [
    "!tree -p -i"
   ]
  },
  {
   "cell_type": "code",
   "execution_count": null,
   "id": "8fa10a17",
   "metadata": {},
   "outputs": [],
   "source": []
  },
  {
   "cell_type": "code",
   "execution_count": null,
   "id": "1746b6a9",
   "metadata": {},
   "outputs": [],
   "source": []
  }
 ],
 "metadata": {
  "kernelspec": {
   "display_name": "Python 3 (ipykernel)",
   "language": "python",
   "name": "python3"
  },
  "language_info": {
   "codemirror_mode": {
    "name": "ipython",
    "version": 3
   },
   "file_extension": ".py",
   "mimetype": "text/x-python",
   "name": "python",
   "nbconvert_exporter": "python",
   "pygments_lexer": "ipython3",
   "version": "3.9.7"
  }
 },
 "nbformat": 4,
 "nbformat_minor": 5
}
