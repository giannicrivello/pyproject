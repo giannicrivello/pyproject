{
 "cells": [
  {
   "cell_type": "code",
   "execution_count": 1,
   "id": "13b80f0d",
   "metadata": {},
   "outputs": [
    {
     "data": {
      "text/plain": [
       "'\\npythons built in set tpye has the following characteristics:\\n    - sets are unordered\\n    - set elements are unique. Duplicate elements are not allowed\\n    - A set itself may be modified, but the elements contained in the set\\n    must be of a immutable type\\n'"
      ]
     },
     "execution_count": 1,
     "metadata": {},
     "output_type": "execute_result"
    }
   ],
   "source": [
    "#defining a set\n",
    "\"\"\"\n",
    "pythons built in set tpye has the following characteristics:\n",
    "    - sets are unordered\n",
    "    - set elements are unique. Duplicate elements are not allowed\n",
    "    - A set itself may be modified, but the elements contained in the set\n",
    "    must be of a immutable type\n",
    "\"\"\""
   ]
  },
  {
   "cell_type": "code",
   "execution_count": 2,
   "id": "13b99d14",
   "metadata": {},
   "outputs": [
    {
     "data": {
      "text/plain": [
       "{'bar', 'baz', 'foo', 'qux'}"
      ]
     },
     "execution_count": 2,
     "metadata": {},
     "output_type": "execute_result"
    }
   ],
   "source": [
    "# s = set(<iter>)\n",
    "\n",
    "x = set(['foo', 'bar', 'baz', 'foo', 'qux'])\n",
    "x"
   ]
  },
  {
   "cell_type": "code",
   "execution_count": 3,
   "id": "5e8e1c7b",
   "metadata": {},
   "outputs": [],
   "source": [
    "tuple_to_set = set(('foo', 'bar', 'baz', 'foo', 'qux'))"
   ]
  },
  {
   "cell_type": "code",
   "execution_count": 4,
   "id": "3acfc18a",
   "metadata": {},
   "outputs": [
    {
     "data": {
      "text/plain": [
       "{'bar', 'baz', 'foo', 'qux'}"
      ]
     },
     "execution_count": 4,
     "metadata": {},
     "output_type": "execute_result"
    }
   ],
   "source": [
    "tuple_to_set"
   ]
  },
  {
   "cell_type": "code",
   "execution_count": 5,
   "id": "10e0cd64",
   "metadata": {},
   "outputs": [
    {
     "name": "stdout",
     "output_type": "stream",
     "text": [
      "['q', 'u', 'u', 'x']\n",
      "{'q', 'x', 'u'}\n"
     ]
    }
   ],
   "source": [
    "string_to_set = 'quux'\n",
    "print(list(string_to_set))\n",
    "print(set(string_to_set))"
   ]
  },
  {
   "cell_type": "code",
   "execution_count": 7,
   "id": "8923c7a7",
   "metadata": {},
   "outputs": [
    {
     "data": {
      "text/plain": [
       "{'bar', 'baz', 'foo', 'qux'}"
      ]
     },
     "execution_count": 7,
     "metadata": {},
     "output_type": "execute_result"
    }
   ],
   "source": [
    "# a set can also be defined with curly braces({}):\n",
    "# x = {<obj>, <obj>....,<obj>}\n",
    "x = {'foo', 'bar', 'baz', 'foo', 'qux'}\n",
    "x"
   ]
  },
  {
   "cell_type": "code",
   "execution_count": 8,
   "id": "b87f0498",
   "metadata": {},
   "outputs": [
    {
     "data": {
      "text/plain": [
       "set"
      ]
     },
     "execution_count": 8,
     "metadata": {},
     "output_type": "execute_result"
    }
   ],
   "source": [
    "#you can define an empty set, however the only way to do this is with set()\n",
    "#empty curly braces defines an empty dict\n",
    "x = set()\n",
    "type(x)"
   ]
  },
  {
   "cell_type": "code",
   "execution_count": 10,
   "id": "a9ee95b7",
   "metadata": {},
   "outputs": [
    {
     "data": {
      "text/plain": [
       "dict"
      ]
     },
     "execution_count": 10,
     "metadata": {},
     "output_type": "execute_result"
    }
   ],
   "source": [
    "x = {}\n",
    "type(x)"
   ]
  },
  {
   "cell_type": "code",
   "execution_count": 11,
   "id": "d8c52ca1",
   "metadata": {},
   "outputs": [
    {
     "data": {
      "text/plain": [
       "False"
      ]
     },
     "execution_count": 11,
     "metadata": {},
     "output_type": "execute_result"
    }
   ],
   "source": [
    "#an empty set is falsy in a boolean context\n",
    "x = set()\n",
    "bool(x)"
   ]
  },
  {
   "cell_type": "code",
   "execution_count": 12,
   "id": "bbbc456f",
   "metadata": {},
   "outputs": [
    {
     "data": {
      "text/plain": [
       "1"
      ]
     },
     "execution_count": 12,
     "metadata": {},
     "output_type": "execute_result"
    }
   ],
   "source": [
    "x or 1"
   ]
  },
  {
   "cell_type": "code",
   "execution_count": 13,
   "id": "787d34f9",
   "metadata": {},
   "outputs": [
    {
     "data": {
      "text/plain": [
       "set()"
      ]
     },
     "execution_count": 13,
     "metadata": {},
     "output_type": "execute_result"
    }
   ],
   "source": [
    "x and 1"
   ]
  },
  {
   "cell_type": "code",
   "execution_count": 14,
   "id": "5c3a9e02",
   "metadata": {},
   "outputs": [],
   "source": [
    "# len() returns the number of elements in the set\n",
    "# the in and not in operators can be used to test for membership\n",
    "x = {'foo', 'bar', 'baz'}"
   ]
  },
  {
   "cell_type": "code",
   "execution_count": 15,
   "id": "ce1d10c6",
   "metadata": {},
   "outputs": [
    {
     "data": {
      "text/plain": [
       "3"
      ]
     },
     "execution_count": 15,
     "metadata": {},
     "output_type": "execute_result"
    }
   ],
   "source": [
    "len(x)"
   ]
  },
  {
   "cell_type": "code",
   "execution_count": 16,
   "id": "30bcb1c7",
   "metadata": {},
   "outputs": [
    {
     "data": {
      "text/plain": [
       "True"
      ]
     },
     "execution_count": 16,
     "metadata": {},
     "output_type": "execute_result"
    }
   ],
   "source": [
    "'bar' in x"
   ]
  },
  {
   "cell_type": "code",
   "execution_count": 17,
   "id": "8e7496de",
   "metadata": {},
   "outputs": [
    {
     "data": {
      "text/plain": [
       "False"
      ]
     },
     "execution_count": 17,
     "metadata": {},
     "output_type": "execute_result"
    }
   ],
   "source": [
    "'qux' in x"
   ]
  },
  {
   "cell_type": "code",
   "execution_count": 18,
   "id": "2b891d18",
   "metadata": {},
   "outputs": [
    {
     "data": {
      "text/plain": [
       "{'bar', 'baz', 'foo', 'quux', 'qux'}"
      ]
     },
     "execution_count": 18,
     "metadata": {},
     "output_type": "execute_result"
    }
   ],
   "source": [
    "#operating on a set\n",
    "# sets cannot be indexed\n",
    "#using the pipe | operator to create a union between two sets\n",
    "\n",
    "x1 = {'foo', 'bar', 'baz'}\n",
    "x2 = {'baz', 'qux', 'quux'}\n",
    "\n",
    "x1 | x2\n",
    "\n"
   ]
  },
  {
   "cell_type": "code",
   "execution_count": 19,
   "id": "e5f67b47",
   "metadata": {},
   "outputs": [
    {
     "data": {
      "text/plain": [
       "{'bar', 'baz', 'foo', 'quux', 'qux'}"
      ]
     },
     "execution_count": 19,
     "metadata": {},
     "output_type": "execute_result"
    }
   ],
   "source": [
    "#using the .union() method to create a union between two sets\n",
    "\n",
    "x1.union(x2)"
   ]
  },
  {
   "cell_type": "code",
   "execution_count": 20,
   "id": "92085f37",
   "metadata": {},
   "outputs": [
    {
     "data": {
      "text/plain": [
       "{'baz'}"
      ]
     },
     "execution_count": 20,
     "metadata": {},
     "output_type": "execute_result"
    }
   ],
   "source": [
    "# compute the intersetions between two sets with .intersetion() method\n",
    "#and the & operator\n",
    "\n",
    "x1 = {'foo', 'bar', 'baz'}\n",
    "x2 = {'baz', 'qux', 'quux'}\n",
    "\n",
    "x1.intersection(x2)"
   ]
  },
  {
   "cell_type": "code",
   "execution_count": 21,
   "id": "32d967fb",
   "metadata": {},
   "outputs": [
    {
     "data": {
      "text/plain": [
       "{'baz'}"
      ]
     },
     "execution_count": 21,
     "metadata": {},
     "output_type": "execute_result"
    }
   ],
   "source": [
    "x1 & x2"
   ]
  },
  {
   "cell_type": "code",
   "execution_count": 22,
   "id": "837a7437",
   "metadata": {},
   "outputs": [
    {
     "data": {
      "text/plain": [
       "{'bar', 'foo'}"
      ]
     },
     "execution_count": 22,
     "metadata": {},
     "output_type": "execute_result"
    }
   ],
   "source": [
    "\"\"\"\n",
    "x1.difference(x2) and x1 - x2 return the set of all elements that are in x1 \n",
    "but not in x2\n",
    "\"\"\"\n",
    "x1.difference(x2)"
   ]
  },
  {
   "cell_type": "code",
   "execution_count": 23,
   "id": "0c093a10",
   "metadata": {},
   "outputs": [
    {
     "data": {
      "text/plain": [
       "{'bar', 'foo'}"
      ]
     },
     "execution_count": 23,
     "metadata": {},
     "output_type": "execute_result"
    }
   ],
   "source": [
    "x1 - x2"
   ]
  },
  {
   "cell_type": "code",
   "execution_count": 25,
   "id": "f97ba06a",
   "metadata": {},
   "outputs": [
    {
     "data": {
      "text/plain": [
       "{'bar', 'foo', 'quux', 'qux'}"
      ]
     },
     "execution_count": 25,
     "metadata": {},
     "output_type": "execute_result"
    }
   ],
   "source": [
    "\"\"\"\n",
    "x1.symetric_difference(x2) and x1 ^ x2 return all the elements in either x1 and x2\n",
    "but not in both\n",
    "\"\"\"\n",
    "x1.symmetric_difference(x2)"
   ]
  },
  {
   "cell_type": "code",
   "execution_count": 26,
   "id": "76ac486c",
   "metadata": {},
   "outputs": [
    {
     "data": {
      "text/plain": [
       "{'bar', 'foo', 'quux', 'qux'}"
      ]
     },
     "execution_count": 26,
     "metadata": {},
     "output_type": "execute_result"
    }
   ],
   "source": [
    "x1 ^ x2"
   ]
  },
  {
   "cell_type": "code",
   "execution_count": 27,
   "id": "1c108438",
   "metadata": {},
   "outputs": [
    {
     "data": {
      "text/plain": [
       "'\\nx1.isdisjoint(x2) determines whether or not two sets have any elements in common\\n'"
      ]
     },
     "execution_count": 27,
     "metadata": {},
     "output_type": "execute_result"
    }
   ],
   "source": [
    "\"\"\"\n",
    "x1.isdisjoint(x2) determines whether or not two sets have any elements in common\n",
    "\"\"\""
   ]
  },
  {
   "cell_type": "code",
   "execution_count": 29,
   "id": "4a0e9c0a",
   "metadata": {},
   "outputs": [
    {
     "data": {
      "text/plain": [
       "False"
      ]
     },
     "execution_count": 29,
     "metadata": {},
     "output_type": "execute_result"
    }
   ],
   "source": [
    "x1.isdisjoint(x2)"
   ]
  },
  {
   "cell_type": "code",
   "execution_count": 30,
   "id": "dd8eb9c0",
   "metadata": {},
   "outputs": [
    {
     "data": {
      "text/plain": [
       "{'quux', 'qux'}"
      ]
     },
     "execution_count": 30,
     "metadata": {},
     "output_type": "execute_result"
    }
   ],
   "source": [
    "x2 - {'baz'}"
   ]
  },
  {
   "cell_type": "code",
   "execution_count": 31,
   "id": "f219da8f",
   "metadata": {},
   "outputs": [
    {
     "data": {
      "text/plain": [
       "True"
      ]
     },
     "execution_count": 31,
     "metadata": {},
     "output_type": "execute_result"
    }
   ],
   "source": [
    "x1.isdisjoint(x2 - {'baz'})"
   ]
  },
  {
   "cell_type": "code",
   "execution_count": null,
   "id": "c70cfd18",
   "metadata": {},
   "outputs": [],
   "source": [
    "\"\"\"\n",
    "x1.issubset(x2)\n",
    "\n",
    "in set theory, a set x1 is considered a subset of another set x2 if every element of x1 is in x2\n",
    "x1.issubset(x2) and x1<= x2 return True if x1 is a subset of x2\n",
    "\"\"\""
   ]
  },
  {
   "cell_type": "code",
   "execution_count": 32,
   "id": "8ec890ab",
   "metadata": {},
   "outputs": [
    {
     "data": {
      "text/plain": [
       "True"
      ]
     },
     "execution_count": 32,
     "metadata": {},
     "output_type": "execute_result"
    }
   ],
   "source": [
    "x1 = {'foo', 'bar', 'baz'}\n",
    "x1.issubset({'foo', 'bar', 'baz', 'qux', 'quux'})"
   ]
  },
  {
   "cell_type": "code",
   "execution_count": 33,
   "id": "01a6a458",
   "metadata": {},
   "outputs": [
    {
     "data": {
      "text/plain": [
       "False"
      ]
     },
     "execution_count": 33,
     "metadata": {},
     "output_type": "execute_result"
    }
   ],
   "source": [
    "x2 = {'baz', 'qux', 'quux'}\n",
    "x1 <= x2"
   ]
  },
  {
   "cell_type": "code",
   "execution_count": 35,
   "id": "0fcfad6e",
   "metadata": {},
   "outputs": [
    {
     "data": {
      "text/plain": [
       "True"
      ]
     },
     "execution_count": 35,
     "metadata": {},
     "output_type": "execute_result"
    }
   ],
   "source": [
    "# a set is considered to be a subset of itself\n",
    "\n",
    "x = {1,2,3,4,5}\n",
    "x.issubset(x)"
   ]
  },
  {
   "cell_type": "code",
   "execution_count": 36,
   "id": "26c393a4",
   "metadata": {},
   "outputs": [
    {
     "data": {
      "text/plain": [
       "True"
      ]
     },
     "execution_count": 36,
     "metadata": {},
     "output_type": "execute_result"
    }
   ],
   "source": [
    "\"\"\"\n",
    "proper subset is the same as subset, except that\n",
    "the sets cant be identical.\n",
    "a set x1 is considered a proper subset of another \n",
    "set x2 if every element of x1 is in x2, and x1 and x2 are not equal/\n",
    "\n",
    "x1 < x2 returns True is x1 is a proper subset of x2\n",
    "\"\"\"\n",
    "x1 = {'foo', 'bar'}\n",
    "x2 = {'foo', 'bar', 'baz'}\n",
    "\n",
    "x1 < x2"
   ]
  },
  {
   "cell_type": "code",
   "execution_count": 37,
   "id": "9843c3c1",
   "metadata": {},
   "outputs": [],
   "source": [
    "x1 = {'foo', 'bar', 'baz'}\n",
    "x2 = {'foo', 'bar', 'baz'}"
   ]
  },
  {
   "cell_type": "code",
   "execution_count": 38,
   "id": "523752ad",
   "metadata": {},
   "outputs": [
    {
     "data": {
      "text/plain": [
       "False"
      ]
     },
     "execution_count": 38,
     "metadata": {},
     "output_type": "execute_result"
    }
   ],
   "source": [
    "x1 < x2"
   ]
  },
  {
   "cell_type": "code",
   "execution_count": 39,
   "id": "14623957",
   "metadata": {},
   "outputs": [
    {
     "data": {
      "text/plain": [
       "False"
      ]
     },
     "execution_count": 39,
     "metadata": {},
     "output_type": "execute_result"
    }
   ],
   "source": [
    "x1 < x1"
   ]
  },
  {
   "cell_type": "code",
   "execution_count": 40,
   "id": "51542e42",
   "metadata": {},
   "outputs": [
    {
     "data": {
      "text/plain": [
       "True"
      ]
     },
     "execution_count": 40,
     "metadata": {},
     "output_type": "execute_result"
    }
   ],
   "source": [
    "\"\"\"\n",
    "x1.issuperset(x2)\n",
    "a superset is the reverse of a subset. a set x1 is considered a superset of another set x2\n",
    "if x1 contains every element of x2\n",
    "\"\"\"\n",
    "x1 = {'foo', 'bar', 'baz'}\n",
    "x1.issuperset({'foo', 'bar'})"
   ]
  },
  {
   "cell_type": "code",
   "execution_count": 41,
   "id": "d99a16da",
   "metadata": {},
   "outputs": [
    {
     "data": {
      "text/plain": [
       "False"
      ]
     },
     "execution_count": 41,
     "metadata": {},
     "output_type": "execute_result"
    }
   ],
   "source": [
    "x2 = {'baz', 'qux', 'quux'}\n",
    "x1.issuperset(x2)"
   ]
  },
  {
   "cell_type": "code",
   "execution_count": 42,
   "id": "1be97175",
   "metadata": {},
   "outputs": [
    {
     "data": {
      "text/plain": [
       "True"
      ]
     },
     "execution_count": 42,
     "metadata": {},
     "output_type": "execute_result"
    }
   ],
   "source": [
    "\"\"\"\n",
    "a proper superset is the same as a superset, except that the sets cant be identical.\n",
    "a set x1 is considered a proper superset of another set x2 if x1 contains every element of x2, and x1 and x2 are not equal\n",
    "\n",
    "\"\"\"\n",
    "x1 = {'foo', 'bar', 'baz'}\n",
    "x2 = {'foo', 'bar'}\n",
    "x1 > x2"
   ]
  },
  {
   "cell_type": "code",
   "execution_count": 63,
   "id": "d29218f7",
   "metadata": {},
   "outputs": [
    {
     "data": {
      "text/plain": [
       "False"
      ]
     },
     "execution_count": 63,
     "metadata": {},
     "output_type": "execute_result"
    }
   ],
   "source": [
    "x1 = {'foo', 'bar', 'baz'}\n",
    "x2 = {'foo', 'boo', 'baz'}\n",
    "x1 > x2"
   ]
  },
  {
   "cell_type": "code",
   "execution_count": 64,
   "id": "b3851578",
   "metadata": {},
   "outputs": [],
   "source": [
    "#modify a set by union and assignment\n",
    "# use the |= and update\n",
    "x1 |= x2"
   ]
  },
  {
   "cell_type": "code",
   "execution_count": 65,
   "id": "5e11545f",
   "metadata": {},
   "outputs": [
    {
     "data": {
      "text/plain": [
       "{'bar', 'baz', 'boo', 'foo'}"
      ]
     },
     "execution_count": 65,
     "metadata": {},
     "output_type": "execute_result"
    }
   ],
   "source": [
    "x1"
   ]
  },
  {
   "cell_type": "code",
   "execution_count": 66,
   "id": "6da19dfc",
   "metadata": {},
   "outputs": [],
   "source": [
    "x1.update(['gianni', 'crivello'])"
   ]
  },
  {
   "cell_type": "code",
   "execution_count": 67,
   "id": "ce006c7d",
   "metadata": {},
   "outputs": [
    {
     "data": {
      "text/plain": [
       "{'bar', 'baz', 'boo', 'crivello', 'foo', 'gianni'}"
      ]
     },
     "execution_count": 67,
     "metadata": {},
     "output_type": "execute_result"
    }
   ],
   "source": [
    "x1"
   ]
  },
  {
   "cell_type": "code",
   "execution_count": 68,
   "id": "5050a8f5",
   "metadata": {},
   "outputs": [
    {
     "data": {
      "text/plain": [
       "{'baz', 'boo', 'foo'}"
      ]
     },
     "execution_count": 68,
     "metadata": {},
     "output_type": "execute_result"
    }
   ],
   "source": [
    "\"\"\"\n",
    "intersection update:\n",
    "retaining only elements found in both x1 and x2\n",
    "x1.intersection(x2) and x1 &= x2 \n",
    "\"\"\"\n",
    "x1 &= x2\n",
    "x1.intersection_update(x2)\n",
    "x1"
   ]
  },
  {
   "cell_type": "code",
   "execution_count": 69,
   "id": "39b1f3f8",
   "metadata": {},
   "outputs": [
    {
     "data": {
      "text/plain": [
       "set()"
      ]
     },
     "execution_count": 69,
     "metadata": {},
     "output_type": "execute_result"
    }
   ],
   "source": [
    "\"\"\"\n",
    "x1.difference_update(x2) and x1 -= x2 update x1, removing elements\n",
    "found in x2\n",
    "\"\"\"\n",
    "x1 -= x2\n",
    "x1"
   ]
  },
  {
   "cell_type": "code",
   "execution_count": 72,
   "id": "55d1bcac",
   "metadata": {},
   "outputs": [
    {
     "data": {
      "text/plain": [
       "{'bar', 'qux'}"
      ]
     },
     "execution_count": 72,
     "metadata": {},
     "output_type": "execute_result"
    }
   ],
   "source": [
    "\"\"\"\n",
    "x1.symetric_difference_update(x2)\n",
    " and x1 ^= x2 update x1 retaining elements found in either x1 or x2\"\"\"\n",
    "\n",
    "\n",
    "x1 = {'foo', 'bar', 'baz'}\n",
    "x2 = {'foo', 'baz', 'qux'}\n",
    "x1 ^= x2\n",
    "x1"
   ]
  },
  {
   "cell_type": "code",
   "execution_count": 73,
   "id": "1ccd1f0a",
   "metadata": {},
   "outputs": [],
   "source": [
    "x1.symmetric_difference_update(['qux', 'corge'])"
   ]
  },
  {
   "cell_type": "code",
   "execution_count": 74,
   "id": "73ac771a",
   "metadata": {},
   "outputs": [
    {
     "data": {
      "text/plain": [
       "{'bar', 'corge'}"
      ]
     },
     "execution_count": 74,
     "metadata": {},
     "output_type": "execute_result"
    }
   ],
   "source": [
    "x1"
   ]
  },
  {
   "cell_type": "code",
   "execution_count": 75,
   "id": "5759187b",
   "metadata": {},
   "outputs": [],
   "source": [
    "\"\"\"\n",
    "aside from the augmented operators above, python supports several additional methods\n",
    "that modify sets.\n",
    "x.add(<elm>)\n",
    "\"\"\"\n",
    "\n",
    "x = {'foo', 'baz', 'bat'}\n",
    "\n",
    "x.add('qux')"
   ]
  },
  {
   "cell_type": "code",
   "execution_count": 76,
   "id": "aaa9eacf",
   "metadata": {},
   "outputs": [
    {
     "data": {
      "text/plain": [
       "{'bat', 'baz', 'foo', 'qux'}"
      ]
     },
     "execution_count": 76,
     "metadata": {},
     "output_type": "execute_result"
    }
   ],
   "source": [
    "x"
   ]
  },
  {
   "cell_type": "code",
   "execution_count": null,
   "id": "f94cf714",
   "metadata": {},
   "outputs": [],
   "source": [
    "# x.remove(<elem>)"
   ]
  },
  {
   "cell_type": "code",
   "execution_count": 77,
   "id": "13f22792",
   "metadata": {},
   "outputs": [],
   "source": [
    "x.remove('baz')"
   ]
  },
  {
   "cell_type": "code",
   "execution_count": 78,
   "id": "5ab4cb24",
   "metadata": {},
   "outputs": [
    {
     "data": {
      "text/plain": [
       "{'bat', 'foo', 'qux'}"
      ]
     },
     "execution_count": 78,
     "metadata": {},
     "output_type": "execute_result"
    }
   ],
   "source": [
    "x"
   ]
  },
  {
   "cell_type": "code",
   "execution_count": 79,
   "id": "9efe75bd",
   "metadata": {},
   "outputs": [],
   "source": [
    "\"\"\"\n",
    "x.discard(<elem>) also removes <elem> from x. However, if <elem> is not in x, this method quietly does nothing instead of raising an exception:\n",
    "\"\"\"\n",
    "\n",
    "\n",
    "x.discard('zpp')"
   ]
  },
  {
   "cell_type": "code",
   "execution_count": 80,
   "id": "d85d44df",
   "metadata": {},
   "outputs": [
    {
     "data": {
      "text/plain": [
       "{'bat', 'foo', 'qux'}"
      ]
     },
     "execution_count": 80,
     "metadata": {},
     "output_type": "execute_result"
    }
   ],
   "source": [
    "x"
   ]
  },
  {
   "cell_type": "code",
   "execution_count": 81,
   "id": "e44340c4",
   "metadata": {},
   "outputs": [
    {
     "data": {
      "text/plain": [
       "'qux'"
      ]
     },
     "execution_count": 81,
     "metadata": {},
     "output_type": "execute_result"
    }
   ],
   "source": [
    "\"\"\"\n",
    "use x.pop() to remove a random element from a set\n",
    "\"\"\"\n",
    "\n",
    "x.pop()"
   ]
  },
  {
   "cell_type": "code",
   "execution_count": 82,
   "id": "5cff01e3",
   "metadata": {},
   "outputs": [
    {
     "data": {
      "text/plain": [
       "'bat'"
      ]
     },
     "execution_count": 82,
     "metadata": {},
     "output_type": "execute_result"
    }
   ],
   "source": [
    "x.pop()"
   ]
  },
  {
   "cell_type": "code",
   "execution_count": 83,
   "id": "c40dd439",
   "metadata": {},
   "outputs": [
    {
     "data": {
      "text/plain": [
       "'foo'"
      ]
     },
     "execution_count": 83,
     "metadata": {},
     "output_type": "execute_result"
    }
   ],
   "source": [
    "x.pop()"
   ]
  },
  {
   "cell_type": "code",
   "execution_count": 84,
   "id": "4334e344",
   "metadata": {},
   "outputs": [
    {
     "ename": "KeyError",
     "evalue": "'pop from an empty set'",
     "output_type": "error",
     "traceback": [
      "\u001b[0;31m---------------------------------------------------------------------------\u001b[0m",
      "\u001b[0;31mKeyError\u001b[0m                                  Traceback (most recent call last)",
      "\u001b[0;32m/var/folders/2w/b5pcll7s7wl1dcwv2ccr3rqc0000gn/T/ipykernel_14678/3390390248.py\u001b[0m in \u001b[0;36m<module>\u001b[0;34m\u001b[0m\n\u001b[0;32m----> 1\u001b[0;31m \u001b[0mx\u001b[0m\u001b[0;34m.\u001b[0m\u001b[0mpop\u001b[0m\u001b[0;34m(\u001b[0m\u001b[0;34m)\u001b[0m\u001b[0;34m\u001b[0m\u001b[0;34m\u001b[0m\u001b[0m\n\u001b[0m",
      "\u001b[0;31mKeyError\u001b[0m: 'pop from an empty set'"
     ]
    }
   ],
   "source": [
    "x.pop()"
   ]
  },
  {
   "cell_type": "code",
   "execution_count": 85,
   "id": "93f3c6ab",
   "metadata": {},
   "outputs": [
    {
     "data": {
      "text/plain": [
       "'\\n\\n'"
      ]
     },
     "execution_count": 85,
     "metadata": {},
     "output_type": "execute_result"
    }
   ],
   "source": [
    "\"\"\"\n",
    "x.clear() clears a set\n",
    "\n",
    "\"\"\""
   ]
  },
  {
   "cell_type": "code",
   "execution_count": 86,
   "id": "c3c828e5",
   "metadata": {},
   "outputs": [],
   "source": [
    "x = {'foo', 'dog', 'yes', 'ohhhh'}"
   ]
  },
  {
   "cell_type": "code",
   "execution_count": 87,
   "id": "b7a97fb3",
   "metadata": {},
   "outputs": [
    {
     "data": {
      "text/plain": [
       "{'dog', 'foo', 'ohhhh', 'yes'}"
      ]
     },
     "execution_count": 87,
     "metadata": {},
     "output_type": "execute_result"
    }
   ],
   "source": [
    "x"
   ]
  },
  {
   "cell_type": "code",
   "execution_count": 88,
   "id": "5e68b90d",
   "metadata": {},
   "outputs": [],
   "source": [
    "x.clear()"
   ]
  },
  {
   "cell_type": "code",
   "execution_count": 89,
   "id": "d008d2f4",
   "metadata": {},
   "outputs": [
    {
     "data": {
      "text/plain": [
       "set()"
      ]
     },
     "execution_count": 89,
     "metadata": {},
     "output_type": "execute_result"
    }
   ],
   "source": [
    "x"
   ]
  },
  {
   "cell_type": "code",
   "execution_count": 90,
   "id": "f529364e",
   "metadata": {},
   "outputs": [],
   "source": [
    "\"\"\"\n",
    "frozensets are the same as sets but immutable\n",
    "\"\"\"\n",
    "\n",
    "x = frozenset(['foo', 'bar', 'baz'])"
   ]
  },
  {
   "cell_type": "code",
   "execution_count": 91,
   "id": "1bb576a9",
   "metadata": {},
   "outputs": [
    {
     "data": {
      "text/plain": [
       "frozenset({'bar', 'baz', 'foo'})"
      ]
     },
     "execution_count": 91,
     "metadata": {},
     "output_type": "execute_result"
    }
   ],
   "source": [
    "x"
   ]
  },
  {
   "cell_type": "code",
   "execution_count": 92,
   "id": "e63f123e",
   "metadata": {},
   "outputs": [
    {
     "data": {
      "text/plain": [
       "3"
      ]
     },
     "execution_count": 92,
     "metadata": {},
     "output_type": "execute_result"
    }
   ],
   "source": [
    "len(x)"
   ]
  },
  {
   "cell_type": "code",
   "execution_count": 93,
   "id": "473db1bd",
   "metadata": {},
   "outputs": [
    {
     "ename": "AttributeError",
     "evalue": "'frozenset' object has no attribute 'add'",
     "output_type": "error",
     "traceback": [
      "\u001b[0;31m---------------------------------------------------------------------------\u001b[0m",
      "\u001b[0;31mAttributeError\u001b[0m                            Traceback (most recent call last)",
      "\u001b[0;32m/var/folders/2w/b5pcll7s7wl1dcwv2ccr3rqc0000gn/T/ipykernel_14678/3649189524.py\u001b[0m in \u001b[0;36m<module>\u001b[0;34m\u001b[0m\n\u001b[0;32m----> 1\u001b[0;31m \u001b[0mx\u001b[0m\u001b[0;34m.\u001b[0m\u001b[0madd\u001b[0m\u001b[0;34m(\u001b[0m\u001b[0;34m'hellp'\u001b[0m\u001b[0;34m)\u001b[0m\u001b[0;34m\u001b[0m\u001b[0;34m\u001b[0m\u001b[0m\n\u001b[0m",
      "\u001b[0;31mAttributeError\u001b[0m: 'frozenset' object has no attribute 'add'"
     ]
    }
   ],
   "source": [
    "x.add('hellp')"
   ]
  },
  {
   "cell_type": "code",
   "execution_count": null,
   "id": "e16eb2ed",
   "metadata": {},
   "outputs": [],
   "source": []
  },
  {
   "cell_type": "code",
   "execution_count": null,
   "id": "ab192d41",
   "metadata": {},
   "outputs": [],
   "source": []
  },
  {
   "cell_type": "code",
   "execution_count": null,
   "id": "3711041a",
   "metadata": {},
   "outputs": [],
   "source": []
  }
 ],
 "metadata": {
  "kernelspec": {
   "display_name": "Python 3 (ipykernel)",
   "language": "python",
   "name": "python3"
  },
  "language_info": {
   "codemirror_mode": {
    "name": "ipython",
    "version": 3
   },
   "file_extension": ".py",
   "mimetype": "text/x-python",
   "name": "python",
   "nbconvert_exporter": "python",
   "pygments_lexer": "ipython3",
   "version": "3.9.7"
  }
 },
 "nbformat": 4,
 "nbformat_minor": 5
}
