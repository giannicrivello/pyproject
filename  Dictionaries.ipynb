{
 "cells": [
  {
   "cell_type": "code",
   "execution_count": 25,
   "id": "b25630d2",
   "metadata": {},
   "outputs": [],
   "source": [
    "MLB_team = {\n",
    "...     'Colorado' : 'Rockies',\n",
    "...     'Boston'   : 'Red Sox',\n",
    "...     'Minnesota': 'Twins',\n",
    "...     'Milwaukee': 'Brewers',\n",
    "...     'Seattle'  : 'Mariners'\n",
    "... }"
   ]
  },
  {
   "cell_type": "code",
   "execution_count": 26,
   "id": "701f35ce",
   "metadata": {},
   "outputs": [
    {
     "data": {
      "text/plain": [
       "{'Colorado': 'Rockies',\n",
       " 'Boston': 'Red Sox',\n",
       " 'Minnesota': 'Twins',\n",
       " 'Milwaukee': 'Brewers',\n",
       " 'Seattle': 'Mariners'}"
      ]
     },
     "execution_count": 26,
     "metadata": {},
     "output_type": "execute_result"
    }
   ],
   "source": [
    "MLB_team"
   ]
  },
  {
   "cell_type": "code",
   "execution_count": 27,
   "id": "d2bb8476",
   "metadata": {},
   "outputs": [],
   "source": [
    "#using the built in dict function pass in a list of tuples\n",
    "MLB_team = dict([\n",
    "    ('Colorado', 'Rockies'),\n",
    "    ('Boston', 'Red Sox'),\n",
    "    ('Minnesota', 'Twins'),\n",
    "    ('Milwaukee', 'Brewers'),\n",
    "    ('Seattle', 'Mariners')])"
   ]
  },
  {
   "cell_type": "code",
   "execution_count": 28,
   "id": "1bd6ffee",
   "metadata": {},
   "outputs": [
    {
     "data": {
      "text/plain": [
       "{'Colorado': 'Rockies',\n",
       " 'Boston': 'Red Sox',\n",
       " 'Minnesota': 'Twins',\n",
       " 'Milwaukee': 'Brewers',\n",
       " 'Seattle': 'Mariners'}"
      ]
     },
     "execution_count": 28,
     "metadata": {},
     "output_type": "execute_result"
    }
   ],
   "source": [
    "MLB_team"
   ]
  },
  {
   "cell_type": "code",
   "execution_count": 29,
   "id": "bbedb39d",
   "metadata": {},
   "outputs": [
    {
     "data": {
      "text/plain": [
       "dict"
      ]
     },
     "execution_count": 29,
     "metadata": {},
     "output_type": "execute_result"
    }
   ],
   "source": [
    "type(MLB_team)"
   ]
  },
  {
   "cell_type": "code",
   "execution_count": 30,
   "id": "aa55b2d6",
   "metadata": {},
   "outputs": [
    {
     "data": {
      "text/plain": [
       "'Brewers'"
      ]
     },
     "execution_count": 30,
     "metadata": {},
     "output_type": "execute_result"
    }
   ],
   "source": [
    "MLB_team[\"Milwaukee\"] #accessing the dict with [<key>]"
   ]
  },
  {
   "cell_type": "code",
   "execution_count": 31,
   "id": "9e5c464c",
   "metadata": {},
   "outputs": [],
   "source": [
    "#adding an entry\n",
    "MLB_team['Kansas City'] = \"Royals\""
   ]
  },
  {
   "cell_type": "code",
   "execution_count": 32,
   "id": "a3fe213b",
   "metadata": {},
   "outputs": [
    {
     "data": {
      "text/plain": [
       "{'Colorado': 'Rockies',\n",
       " 'Boston': 'Red Sox',\n",
       " 'Minnesota': 'Twins',\n",
       " 'Milwaukee': 'Brewers',\n",
       " 'Seattle': 'Mariners',\n",
       " 'Kansas City': 'Royals'}"
      ]
     },
     "execution_count": 32,
     "metadata": {},
     "output_type": "execute_result"
    }
   ],
   "source": [
    "MLB_team"
   ]
  },
  {
   "cell_type": "code",
   "execution_count": 33,
   "id": "66f8c921",
   "metadata": {},
   "outputs": [],
   "source": [
    "#Updating an entry assigning a new value to an existing key\n",
    "MLB_team['Seattle'] = \"Seahawks\""
   ]
  },
  {
   "cell_type": "code",
   "execution_count": 34,
   "id": "18049bae",
   "metadata": {},
   "outputs": [
    {
     "data": {
      "text/plain": [
       "{'Colorado': 'Rockies',\n",
       " 'Boston': 'Red Sox',\n",
       " 'Minnesota': 'Twins',\n",
       " 'Milwaukee': 'Brewers',\n",
       " 'Seattle': 'Seahawks',\n",
       " 'Kansas City': 'Royals'}"
      ]
     },
     "execution_count": 34,
     "metadata": {},
     "output_type": "execute_result"
    }
   ],
   "source": [
    "MLB_team"
   ]
  },
  {
   "cell_type": "code",
   "execution_count": 35,
   "id": "0b4415ed",
   "metadata": {},
   "outputs": [],
   "source": [
    "#deleting an entry with the del key word\n",
    "del MLB_team['Seattle']"
   ]
  },
  {
   "cell_type": "code",
   "execution_count": 36,
   "id": "e97ee44b",
   "metadata": {},
   "outputs": [
    {
     "data": {
      "text/plain": [
       "{'Colorado': 'Rockies',\n",
       " 'Boston': 'Red Sox',\n",
       " 'Minnesota': 'Twins',\n",
       " 'Milwaukee': 'Brewers',\n",
       " 'Kansas City': 'Royals'}"
      ]
     },
     "execution_count": 36,
     "metadata": {},
     "output_type": "execute_result"
    }
   ],
   "source": [
    "MLB_team"
   ]
  },
  {
   "cell_type": "code",
   "execution_count": 37,
   "id": "29bb83cc",
   "metadata": {},
   "outputs": [
    {
     "data": {
      "text/plain": [
       "5"
      ]
     },
     "execution_count": 37,
     "metadata": {},
     "output_type": "execute_result"
    }
   ],
   "source": [
    "len(MLB_team) #returns the length of the key value pairs"
   ]
  },
  {
   "cell_type": "code",
   "execution_count": 38,
   "id": "14000ea8",
   "metadata": {},
   "outputs": [
    {
     "data": {
      "text/plain": [
       "'Rockies'"
      ]
     },
     "execution_count": 38,
     "metadata": {},
     "output_type": "execute_result"
    }
   ],
   "source": [
    "#.clear() clears a dictionary\n",
    "#.get() provides a conveinent way of getting the value of a key...\n",
    "## from a dictionary without checking ahead of time whether the key...\n",
    "### exist without raising an error\n",
    "MLB_team.get('Colorado')"
   ]
  },
  {
   "cell_type": "code",
   "execution_count": 39,
   "id": "da8cb905",
   "metadata": {},
   "outputs": [
    {
     "name": "stdout",
     "output_type": "stream",
     "text": [
      "Rockies\n"
     ]
    }
   ],
   "source": [
    "if MLB_team.get('Colorado'):\n",
    "    print(MLB_team.get('Colorado'))\n",
    "else:\n",
    "    print(None)"
   ]
  },
  {
   "cell_type": "code",
   "execution_count": 40,
   "id": "b0bd3e31",
   "metadata": {},
   "outputs": [
    {
     "data": {
      "text/plain": [
       "'No Key'"
      ]
     },
     "execution_count": 40,
     "metadata": {},
     "output_type": "execute_result"
    }
   ],
   "source": [
    "#adding a default so that .get() doesnt just return None\n",
    "MLB_team.get('Key', 'No Key')"
   ]
  },
  {
   "cell_type": "code",
   "execution_count": 41,
   "id": "96d34768",
   "metadata": {},
   "outputs": [
    {
     "data": {
      "text/plain": [
       "dict_items([('Colorado', 'Rockies'), ('Boston', 'Red Sox'), ('Minnesota', 'Twins'), ('Milwaukee', 'Brewers'), ('Kansas City', 'Royals')])"
      ]
     },
     "execution_count": 41,
     "metadata": {},
     "output_type": "execute_result"
    }
   ],
   "source": [
    "#.items() returns a list of tuples containing the key-value pairs...\n",
    "## first item will always be the key and the second will be the value\n",
    "MLB_team.items()"
   ]
  },
  {
   "cell_type": "code",
   "execution_count": 42,
   "id": "d6910c96",
   "metadata": {},
   "outputs": [
    {
     "data": {
      "text/plain": [
       "[('Colorado', 'Rockies'),\n",
       " ('Boston', 'Red Sox'),\n",
       " ('Minnesota', 'Twins'),\n",
       " ('Milwaukee', 'Brewers'),\n",
       " ('Kansas City', 'Royals')]"
      ]
     },
     "execution_count": 42,
     "metadata": {},
     "output_type": "execute_result"
    }
   ],
   "source": [
    "list(MLB_team.items())"
   ]
  },
  {
   "cell_type": "code",
   "execution_count": 43,
   "id": "8ace6c06",
   "metadata": {},
   "outputs": [
    {
     "name": "stdout",
     "output_type": "stream",
     "text": [
      "The key is Colorado and the value is Rockies\n",
      "The key is Boston and the value is Red Sox\n",
      "The key is Minnesota and the value is Twins\n",
      "The key is Milwaukee and the value is Brewers\n",
      "The key is Kansas City and the value is Royals\n"
     ]
    }
   ],
   "source": [
    "for key, value in list(MLB_team.items()): #unpacking the key and values\n",
    "    print(f\"The key is {key} and the value is {value}\")"
   ]
  },
  {
   "cell_type": "code",
   "execution_count": 44,
   "id": "4e8a2227",
   "metadata": {},
   "outputs": [
    {
     "data": {
      "text/plain": [
       "'Rockies'"
      ]
     },
     "execution_count": 44,
     "metadata": {},
     "output_type": "execute_result"
    }
   ],
   "source": [
    "list(MLB_team.items())[0][1] #indexing the list of tuples"
   ]
  },
  {
   "cell_type": "code",
   "execution_count": 45,
   "id": "de72d73a",
   "metadata": {},
   "outputs": [
    {
     "data": {
      "text/plain": [
       "dict_keys(['Colorado', 'Boston', 'Minnesota', 'Milwaukee', 'Kansas City'])"
      ]
     },
     "execution_count": 45,
     "metadata": {},
     "output_type": "execute_result"
    }
   ],
   "source": [
    "#returns the keys in a dictionary .key()\n",
    "MLB_team.keys()"
   ]
  },
  {
   "cell_type": "code",
   "execution_count": 46,
   "id": "e74cc726",
   "metadata": {},
   "outputs": [
    {
     "data": {
      "text/plain": [
       "dict_values(['Rockies', 'Red Sox', 'Twins', 'Brewers', 'Royals'])"
      ]
     },
     "execution_count": 46,
     "metadata": {},
     "output_type": "execute_result"
    }
   ],
   "source": [
    "#returns a list of values in a dictionary .values()\n",
    "MLB_team.values()"
   ]
  },
  {
   "cell_type": "code",
   "execution_count": 47,
   "id": "1df983ae",
   "metadata": {},
   "outputs": [
    {
     "data": {
      "text/plain": [
       "'Rockies'"
      ]
     },
     "execution_count": 47,
     "metadata": {},
     "output_type": "execute_result"
    }
   ],
   "source": [
    "#.pop() if key is present will pop a key of the dictionary returns value\n",
    "MLB_team.pop('Colorado')"
   ]
  },
  {
   "cell_type": "code",
   "execution_count": 48,
   "id": "8bc1028f",
   "metadata": {},
   "outputs": [
    {
     "data": {
      "text/plain": [
       "{'Boston': 'Red Sox',\n",
       " 'Minnesota': 'Twins',\n",
       " 'Milwaukee': 'Brewers',\n",
       " 'Kansas City': 'Royals'}"
      ]
     },
     "execution_count": 48,
     "metadata": {},
     "output_type": "execute_result"
    }
   ],
   "source": [
    "MLB_team"
   ]
  },
  {
   "cell_type": "code",
   "execution_count": 49,
   "id": "2f0b3837",
   "metadata": {},
   "outputs": [
    {
     "data": {
      "text/plain": [
       "('Kansas City', 'Royals')"
      ]
     },
     "execution_count": 49,
     "metadata": {},
     "output_type": "execute_result"
    }
   ],
   "source": [
    "#.popitem() pops a key value pair in a dictionary from the end of a dictionary\n",
    "MLB_team.popitem()"
   ]
  },
  {
   "cell_type": "code",
   "execution_count": 50,
   "id": "7952c08a",
   "metadata": {},
   "outputs": [],
   "source": [
    "#.update(<obj>) updates a dictionary with a key value pair dict\n",
    "new = {'Colorado': 'Rockies'}\n",
    "MLB_team.update(new)"
   ]
  },
  {
   "cell_type": "code",
   "execution_count": 51,
   "id": "f720401b",
   "metadata": {},
   "outputs": [
    {
     "data": {
      "text/plain": [
       "{'Boston': 'Red Sox',\n",
       " 'Minnesota': 'Twins',\n",
       " 'Milwaukee': 'Brewers',\n",
       " 'Colorado': 'Rockies'}"
      ]
     },
     "execution_count": 51,
     "metadata": {},
     "output_type": "execute_result"
    }
   ],
   "source": [
    "MLB_team"
   ]
  },
  {
   "cell_type": "code",
   "execution_count": 52,
   "id": "af6afaf3",
   "metadata": {},
   "outputs": [],
   "source": [
    "x1 = {'foo', 'dog', 'cat','foo'}\n",
    "x2 = {'foo', 'rah', 'hah'}"
   ]
  },
  {
   "cell_type": "code",
   "execution_count": 53,
   "id": "116f0b87",
   "metadata": {},
   "outputs": [
    {
     "data": {
      "text/plain": [
       "{'cat', 'dog', 'foo', 'hah', 'rah'}"
      ]
     },
     "execution_count": 53,
     "metadata": {},
     "output_type": "execute_result"
    }
   ],
   "source": [
    "x1 | x2"
   ]
  },
  {
   "cell_type": "code",
   "execution_count": 54,
   "id": "e0f75f04",
   "metadata": {},
   "outputs": [
    {
     "data": {
      "text/plain": [
       "{'cat', 'dog', 'foo', 'hah', 'rah'}"
      ]
     },
     "execution_count": 54,
     "metadata": {},
     "output_type": "execute_result"
    }
   ],
   "source": [
    "x1.union(x2)"
   ]
  },
  {
   "cell_type": "code",
   "execution_count": 55,
   "id": "0c90f395",
   "metadata": {},
   "outputs": [
    {
     "data": {
      "text/plain": [
       "{'foo'}"
      ]
     },
     "execution_count": 55,
     "metadata": {},
     "output_type": "execute_result"
    }
   ],
   "source": [
    "x1 & x2"
   ]
  },
  {
   "cell_type": "code",
   "execution_count": 56,
   "id": "9037f878",
   "metadata": {},
   "outputs": [
    {
     "data": {
      "text/plain": [
       "{'foo'}"
      ]
     },
     "execution_count": 56,
     "metadata": {},
     "output_type": "execute_result"
    }
   ],
   "source": [
    "x1.intersection(x2)"
   ]
  },
  {
   "cell_type": "code",
   "execution_count": 57,
   "id": "b9e1028f",
   "metadata": {},
   "outputs": [],
   "source": [
    "def make_tuple(*args):\n",
    "    x = []\n",
    "    for i in args:\n",
    "        x.append(i)\n",
    "    return tuple(x)"
   ]
  },
  {
   "cell_type": "code",
   "execution_count": 58,
   "id": "abe916ac",
   "metadata": {},
   "outputs": [
    {
     "data": {
      "text/plain": [
       "(1, 2, 3, 4)"
      ]
     },
     "execution_count": 58,
     "metadata": {},
     "output_type": "execute_result"
    }
   ],
   "source": [
    "make_tuple(1,2,3,4)"
   ]
  },
  {
   "cell_type": "code",
   "execution_count": 59,
   "id": "2a4fb200",
   "metadata": {},
   "outputs": [],
   "source": [
    "def splitting_dict_to_list(**kwargs):\n",
    "    keys = []\n",
    "    values = []\n",
    "    for key, value in list(kwargs.items()):\n",
    "        keys.append(key)\n",
    "        values.append(value)\n",
    "    return f\"keys {keys} values {values}\""
   ]
  },
  {
   "cell_type": "code",
   "execution_count": 60,
   "id": "a47c8c47",
   "metadata": {},
   "outputs": [
    {
     "data": {
      "text/plain": [
       "\"keys ['a', 'b'] values ['hello', 'world']\""
      ]
     },
     "execution_count": 60,
     "metadata": {},
     "output_type": "execute_result"
    }
   ],
   "source": [
    "splitting_dict_to_list(a=\"hello\", b=\"world\")"
   ]
  },
  {
   "cell_type": "code",
   "execution_count": 61,
   "id": "3bdfe7be",
   "metadata": {},
   "outputs": [],
   "source": [
    "kwargs = {\n",
    "    \"key1\": \"value1\",\n",
    "    \"key2\": \"value2\",\n",
    "}"
   ]
  },
  {
   "cell_type": "code",
   "execution_count": 62,
   "id": "1c120cd8",
   "metadata": {},
   "outputs": [
    {
     "data": {
      "text/plain": [
       "\"keys ['key1', 'key2', 'key3'] values [1, 2, 3]\""
      ]
     },
     "execution_count": 62,
     "metadata": {},
     "output_type": "execute_result"
    }
   ],
   "source": [
    "splitting_dict_to_list(key1=1, key2=2, key3=3)"
   ]
  },
  {
   "cell_type": "code",
   "execution_count": 63,
   "id": "7d712f8a",
   "metadata": {},
   "outputs": [
    {
     "data": {
      "text/plain": [
       "\"keys ['key1', 'key2', 'key3'] values ['value1', 'value2', 'value3']\""
      ]
     },
     "execution_count": 63,
     "metadata": {},
     "output_type": "execute_result"
    }
   ],
   "source": [
    "splitting_dict_to_list(key1=\"value1\", key2='value2', key3='value3')"
   ]
  },
  {
   "cell_type": "code",
   "execution_count": 64,
   "id": "119e0063",
   "metadata": {},
   "outputs": [
    {
     "data": {
      "text/plain": [
       "<function __main__.my_decorator.<locals>.wrapper()>"
      ]
     },
     "execution_count": 64,
     "metadata": {},
     "output_type": "execute_result"
    }
   ],
   "source": [
    "def my_decorator(func):\n",
    "    def wrapper():\n",
    "        print(\"something is happening before the fuction\")\n",
    "        func()\n",
    "        print(\"something is happening after the function\")\n",
    "    return wrapper\n",
    "def say_whee():\n",
    "    print(\"whee\")\n",
    "    \n",
    "my_decorator(say_whee)"
   ]
  },
  {
   "cell_type": "code",
   "execution_count": 65,
   "id": "3853872e",
   "metadata": {},
   "outputs": [
    {
     "name": "stdout",
     "output_type": "stream",
     "text": [
      "something is happening before the fuction\n",
      "whee\n",
      "something is happening after the function\n"
     ]
    }
   ],
   "source": [
    "my_decorator(say_whee)()"
   ]
  },
  {
   "cell_type": "code",
   "execution_count": 66,
   "id": "90e9d925",
   "metadata": {},
   "outputs": [],
   "source": [
    "say_whee = my_decorator(say_whee)"
   ]
  },
  {
   "cell_type": "code",
   "execution_count": 67,
   "id": "76f99c57",
   "metadata": {},
   "outputs": [
    {
     "name": "stdout",
     "output_type": "stream",
     "text": [
      "something is happening before the fuction\n",
      "whee\n",
      "something is happening after the function\n"
     ]
    }
   ],
   "source": [
    "say_whee()"
   ]
  },
  {
   "cell_type": "code",
   "execution_count": 68,
   "id": "58bea4de",
   "metadata": {},
   "outputs": [],
   "source": [
    "#sytactic sugar\n",
    "\n",
    "def decorator(func):\n",
    "    def wrapper(*args):\n",
    "        print(\"do something before the function\")\n",
    "        func(*args) # call the function\n",
    "        print(\"do something after the function\")\n",
    "    return wrapper #return the inner function\n",
    "\n",
    "def do_twice(func):\n",
    "    def wrapper_do_twice(*args):\n",
    "        func(*args)\n",
    "        func(*args)\n",
    "    return wrapper_do_twice\n",
    "        "
   ]
  },
  {
   "cell_type": "code",
   "execution_count": 69,
   "id": "0a5661d9",
   "metadata": {},
   "outputs": [],
   "source": [
    "@decorator\n",
    "def do_something(num):\n",
    "    x = num + num\n",
    "    print(x)"
   ]
  },
  {
   "cell_type": "code",
   "execution_count": 70,
   "id": "80197446",
   "metadata": {},
   "outputs": [
    {
     "name": "stdout",
     "output_type": "stream",
     "text": [
      "do something before the function\n",
      "4\n",
      "do something after the function\n"
     ]
    }
   ],
   "source": [
    "do_something(2)"
   ]
  },
  {
   "cell_type": "code",
   "execution_count": 71,
   "id": "2abdd8e5",
   "metadata": {},
   "outputs": [],
   "source": [
    "@do_twice\n",
    "def do_something_twice(num):\n",
    "    x = num + num\n",
    "    print(x)"
   ]
  },
  {
   "cell_type": "code",
   "execution_count": 72,
   "id": "f8119c67",
   "metadata": {},
   "outputs": [
    {
     "name": "stdout",
     "output_type": "stream",
     "text": [
      "8\n",
      "8\n"
     ]
    }
   ],
   "source": [
    "do_something_twice(4)"
   ]
  },
  {
   "cell_type": "code",
   "execution_count": 73,
   "id": "7088cf2b",
   "metadata": {},
   "outputs": [],
   "source": [
    "\"\"\"\n",
    "generally all functions will follow this design pattern, learn this pattern\n",
    "\n",
    "import functools\n",
    "\n",
    "def decorators(func):\n",
    "    @functools..wraps(func)\n",
    "    def wrapper_decorator(*args, **kwargs):\n",
    "        #Do something before function\n",
    "        value = func(*args, **kwargs)\n",
    "        #Do something after funciton\n",
    "        return value\n",
    "    return wrapper_decorator\n",
    "\"\"\"\n",
    "\n",
    "#slowing down code example\n",
    "\n",
    "import functools\n",
    "import time\n",
    "\n",
    "def slowdown(func):\n",
    "    @functools.wraps(func)\n",
    "    def wrapper_slow_down(*args, **kwargs):\n",
    "        time.sleep(1)\n",
    "        return func(*args, **kwargs)\n",
    "    return wrapper_slow_down\n"
   ]
  },
  {
   "cell_type": "code",
   "execution_count": 74,
   "id": "9da8008b",
   "metadata": {},
   "outputs": [],
   "source": [
    "@slowdown\n",
    "def countdown(num):\n",
    "    if num < 1:\n",
    "        print(\"Liftoff!\")\n",
    "    else:\n",
    "        print(num)\n",
    "        countdown(num - 1)\n",
    "        "
   ]
  },
  {
   "cell_type": "code",
   "execution_count": 75,
   "id": "5b989444",
   "metadata": {},
   "outputs": [
    {
     "name": "stdout",
     "output_type": "stream",
     "text": [
      "6\n",
      "5\n",
      "4\n",
      "3\n",
      "2\n",
      "1\n",
      "Liftoff!\n"
     ]
    }
   ],
   "source": [
    "countdown(6)"
   ]
  },
  {
   "cell_type": "code",
   "execution_count": 76,
   "id": "2bec0a1d",
   "metadata": {},
   "outputs": [],
   "source": [
    "\"\"\"\n",
    "This next fuction will generate a random list of data\n",
    "starting with a predefined lsit of data\n",
    "\"\"\"\n",
    "def slowdown(func):\n",
    "    def wrapper(*args):\n",
    "        time.sleep(1)\n",
    "        return func(*args)\n",
    "    return wrapper"
   ]
  },
  {
   "cell_type": "code",
   "execution_count": 108,
   "id": "29331801",
   "metadata": {},
   "outputs": [],
   "source": [
    "from random import choice\n",
    "import sys\n",
    "\n",
    "@slowdown\n",
    "def generator(epochs):\n",
    "    x = [choice([random.randint(1,20)]) for _ in range(3)]        \n",
    "    if epochs < 1:\n",
    "        print('finished with generator')\n",
    "    else:\n",
    "        print(x),loader()\n",
    "        generator(epochs - 1)\n",
    "        \n",
    "        \n",
    "def loader():\n",
    "    for i in range(20):\n",
    "        time.sleep(0.1)\n",
    "        sys.stdout.write('=')\n",
    "    sys.stdout.write('>')\n",
    "    return ''\n",
    "      "
   ]
  },
  {
   "cell_type": "code",
   "execution_count": null,
   "id": "b034bd50",
   "metadata": {},
   "outputs": [
    {
     "name": "stdout",
     "output_type": "stream",
     "text": [
      "[9, 12, 13]\n",
      "====================>[4, 13, 8]\n",
      "====================>[5, 14, 13]\n",
      "====================>[12, 1, 16]\n",
      "==================="
     ]
    }
   ],
   "source": [
    "generator(8)"
   ]
  },
  {
   "cell_type": "code",
   "execution_count": null,
   "id": "86908b36",
   "metadata": {},
   "outputs": [],
   "source": []
  },
  {
   "cell_type": "code",
   "execution_count": null,
   "id": "14dd9152",
   "metadata": {},
   "outputs": [],
   "source": []
  },
  {
   "cell_type": "code",
   "execution_count": null,
   "id": "b50f52bb",
   "metadata": {},
   "outputs": [],
   "source": []
  },
  {
   "cell_type": "code",
   "execution_count": null,
   "id": "4ba5c0ef",
   "metadata": {},
   "outputs": [],
   "source": []
  },
  {
   "cell_type": "code",
   "execution_count": null,
   "id": "8aae0384",
   "metadata": {},
   "outputs": [],
   "source": []
  },
  {
   "cell_type": "code",
   "execution_count": 87,
   "id": "c5cb3ff5",
   "metadata": {},
   "outputs": [
    {
     "name": "stdout",
     "output_type": "stream",
     "text": [
      "[                                        ----------------------------------------]\n"
     ]
    },
    {
     "data": {
      "text/plain": [
       "2"
      ]
     },
     "execution_count": 87,
     "metadata": {},
     "output_type": "execute_result"
    }
   ],
   "source": [
    "import time\n",
    "import sys\n",
    "\n",
    "toolbar_width = 40\n",
    "\n",
    "# setup toolbar\n",
    "sys.stdout.write(\"[%s]\" % (\" \" * toolbar_width))\n",
    "sys.stdout.flush()\n",
    "sys.stdout.write(\"\\b\" * (toolbar_width+1)) # return to start of line, after '['\n",
    "\n",
    "for i in range(toolbar_width):\n",
    "    time.sleep(0.1) # do real work here\n",
    "    # update the bar\n",
    "    sys.stdout.write(\"-\")\n",
    "    sys.stdout.flush()\n",
    "\n",
    "sys.stdout.write(\"]\\n\") # this ends the progress bar"
   ]
  },
  {
   "cell_type": "code",
   "execution_count": 88,
   "id": "26371721",
   "metadata": {},
   "outputs": [
    {
     "name": "stdout",
     "output_type": "stream",
     "text": [
      "====================>"
     ]
    },
    {
     "data": {
      "text/plain": [
       "1"
      ]
     },
     "execution_count": 88,
     "metadata": {},
     "output_type": "execute_result"
    }
   ],
   "source": [
    "for i in range(20):\n",
    "    time.sleep(0.1)\n",
    "    sys.stdout.write('=')\n",
    "sys.stdout.write('>')"
   ]
  },
  {
   "cell_type": "code",
   "execution_count": null,
   "id": "9e9cfca5",
   "metadata": {},
   "outputs": [],
   "source": []
  }
 ],
 "metadata": {
  "kernelspec": {
   "display_name": "Python 3 (ipykernel)",
   "language": "python",
   "name": "python3"
  },
  "language_info": {
   "codemirror_mode": {
    "name": "ipython",
    "version": 3
   },
   "file_extension": ".py",
   "mimetype": "text/x-python",
   "name": "python",
   "nbconvert_exporter": "python",
   "pygments_lexer": "ipython3",
   "version": "3.9.7"
  }
 },
 "nbformat": 4,
 "nbformat_minor": 5
}
