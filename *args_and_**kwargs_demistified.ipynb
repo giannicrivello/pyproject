{
 "cells": [
  {
   "cell_type": "code",
   "execution_count": 31,
   "id": "59e0b489",
   "metadata": {},
   "outputs": [],
   "source": [
    "def my_sum(*args):\n",
    "    result=0\n",
    "    for x in args:\n",
    "        result += x\n",
    "    return result"
   ]
  },
  {
   "cell_type": "code",
   "execution_count": 32,
   "id": "0e08942f",
   "metadata": {},
   "outputs": [
    {
     "name": "stdout",
     "output_type": "stream",
     "text": [
      "10\n"
     ]
    }
   ],
   "source": [
    "print(my_sum(1,2,3,4))"
   ]
  },
  {
   "cell_type": "code",
   "execution_count": 38,
   "id": "2c08d3dd",
   "metadata": {},
   "outputs": [],
   "source": [
    "def concatnate(**kwargs):\n",
    "    result =\"\"\n",
    "    for arg in kwargs.values():\n",
    "        result += arg\n",
    "    return result\n"
   ]
  },
  {
   "cell_type": "code",
   "execution_count": 39,
   "id": "5e17c54f",
   "metadata": {},
   "outputs": [
    {
     "name": "stdout",
     "output_type": "stream",
     "text": [
      "abc\n"
     ]
    }
   ],
   "source": [
    "print(concatnate(a='a', b='b',c='c'))"
   ]
  },
  {
   "cell_type": "code",
   "execution_count": 40,
   "id": "c1dfbac7",
   "metadata": {},
   "outputs": [],
   "source": [
    "my_list = [1,2,3]"
   ]
  },
  {
   "cell_type": "code",
   "execution_count": 41,
   "id": "531c5143",
   "metadata": {},
   "outputs": [
    {
     "name": "stdout",
     "output_type": "stream",
     "text": [
      "1 2 3\n"
     ]
    }
   ],
   "source": [
    "print(*my_list)"
   ]
  },
  {
   "cell_type": "code",
   "execution_count": 42,
   "id": "2c228ee6",
   "metadata": {},
   "outputs": [
    {
     "name": "stdout",
     "output_type": "stream",
     "text": [
      "[1, 2, 3]\n"
     ]
    }
   ],
   "source": [
    "print(my_list)"
   ]
  },
  {
   "cell_type": "code",
   "execution_count": 44,
   "id": "651b2b35",
   "metadata": {},
   "outputs": [
    {
     "name": "stdout",
     "output_type": "stream",
     "text": [
      "6\n"
     ]
    }
   ],
   "source": [
    "def my_sum(a,b,c):\n",
    "    print(a+b+c)\n",
    "    \n",
    "my_list=[1,2,3]\n",
    "my_sum(*my_list)"
   ]
  },
  {
   "cell_type": "code",
   "execution_count": 45,
   "id": "a8c0261b",
   "metadata": {},
   "outputs": [
    {
     "name": "stdout",
     "output_type": "stream",
     "text": [
      "45\n"
     ]
    }
   ],
   "source": [
    "def my_sum(*args):\n",
    "    result=0\n",
    "    for x in args:\n",
    "        result += x\n",
    "    return result\n",
    "\n",
    "list1 = [1,2,3]\n",
    "list2 = [4,5]\n",
    "list3 = [6,7,8,9]\n",
    "\n",
    "print(my_sum(*list1,*list2, *list3))"
   ]
  },
  {
   "cell_type": "code",
   "execution_count": null,
   "id": "a7cab4fc",
   "metadata": {},
   "outputs": [],
   "source": []
  }
 ],
 "metadata": {
  "kernelspec": {
   "display_name": "Python 3 (ipykernel)",
   "language": "python",
   "name": "python3"
  },
  "language_info": {
   "codemirror_mode": {
    "name": "ipython",
    "version": 3
   },
   "file_extension": ".py",
   "mimetype": "text/x-python",
   "name": "python",
   "nbconvert_exporter": "python",
   "pygments_lexer": "ipython3",
   "version": "3.9.7"
  }
 },
 "nbformat": 4,
 "nbformat_minor": 5
}
