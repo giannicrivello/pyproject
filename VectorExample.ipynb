{
 "cells": [
  {
   "cell_type": "code",
   "execution_count": 2,
   "id": "298ce667",
   "metadata": {},
   "outputs": [
    {
     "data": {
      "text/plain": [
       "'\\nsimple example of demonstrating special methods \\nused for simple vecotr transformations\\n\\nAddition:\\n>> v1 = Vector(2,4)\\n>> v2 = Vecotr(2,1)\\n>> v1 + v2\\nVector(4,5)\\n\\nAbsolute value:\\n>> v = Vector(3,4)\\n>>abs(v)\\n5.0\\n\\nScalar multiplication:\\n>> v * 3\\nVector(9,12)\\n>>abs(v * 3)\\n15.0\\n'"
      ]
     },
     "execution_count": 2,
     "metadata": {},
     "output_type": "execute_result"
    }
   ],
   "source": [
    "\"\"\"\n",
    "simple example of demonstrating special methods \n",
    "used for simple vecotr transformations\n",
    "\n",
    "Addition:\n",
    ">> v1 = Vector(2,4)\n",
    ">> v2 = Vecotr(2,1)\n",
    ">> v1 + v2\n",
    "Vector(4,5)\n",
    "\n",
    "Absolute value:\n",
    ">> v = Vector(3,4)\n",
    ">>abs(v)\n",
    "5.0\n",
    "\n",
    "Scalar multiplication:\n",
    ">> v * 3\n",
    "Vector(9,12)\n",
    ">>abs(v * 3)\n",
    "15.0\n",
    "\"\"\""
   ]
  },
  {
   "cell_type": "code",
   "execution_count": 3,
   "id": "8cb3891e",
   "metadata": {},
   "outputs": [],
   "source": [
    "import math"
   ]
  },
  {
   "cell_type": "code",
   "execution_count": 4,
   "id": "1c24134c",
   "metadata": {},
   "outputs": [],
   "source": [
    "class Vector:\n",
    "    \n",
    "    def __init__(self, x=0,y=0):\n",
    "        self.x = x\n",
    "        self.y = y\n",
    "        \n",
    "    def __repr__(self):\n",
    "        return f'Vector({self.x!r}, {self.y!r})'\n",
    "    \n",
    "    def __abs__(self):\n",
    "        return math.hypot(self.x, self.y)\n",
    "    \n",
    "    def __bool__(self):\n",
    "        return bool(abs(self))\n",
    "    \n",
    "    def __add__(self, other):\n",
    "        x = self.x + other.x\n",
    "        y = self.y + other.y\n",
    "        return Vector(x,y)\n",
    "    \n",
    "    def __mul__(self, scalar):\n",
    "        return Vector(self.x * scalar, self.y * scalar)"
   ]
  },
  {
   "cell_type": "code",
   "execution_count": null,
   "id": "cfeca675",
   "metadata": {},
   "outputs": [],
   "source": []
  },
  {
   "cell_type": "code",
   "execution_count": null,
   "id": "bc9eca6e",
   "metadata": {},
   "outputs": [],
   "source": []
  },
  {
   "cell_type": "code",
   "execution_count": null,
   "id": "3a6408b8",
   "metadata": {},
   "outputs": [],
   "source": []
  },
  {
   "cell_type": "code",
   "execution_count": null,
   "id": "31a44bd8",
   "metadata": {},
   "outputs": [],
   "source": []
  }
 ],
 "metadata": {
  "kernelspec": {
   "display_name": "Python 3 (ipykernel)",
   "language": "python",
   "name": "python3"
  },
  "language_info": {
   "codemirror_mode": {
    "name": "ipython",
    "version": 3
   },
   "file_extension": ".py",
   "mimetype": "text/x-python",
   "name": "python",
   "nbconvert_exporter": "python",
   "pygments_lexer": "ipython3",
   "version": "3.9.7"
  }
 },
 "nbformat": 4,
 "nbformat_minor": 5
}
