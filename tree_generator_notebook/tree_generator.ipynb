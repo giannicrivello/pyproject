{
 "cells": [
  {
   "cell_type": "code",
   "execution_count": 96,
   "id": "acc86fb4",
   "metadata": {},
   "outputs": [],
   "source": [
    "import os\n",
    "import pathlib\n",
    "\n",
    "\n",
    "PIPE = \"|\"\n",
    "ELBOW = '|____'\n",
    "TEE = \"|--->\"\n",
    "PIPE_PREFIX = \"|    \"\n",
    "SPACE_PREFIX = \"    \"\n",
    "\n"
   ]
  },
  {
   "cell_type": "code",
   "execution_count": 112,
   "id": "492f0580",
   "metadata": {},
   "outputs": [],
   "source": [
    "class DirectoryTree:\n",
    "    def __init__(self, root_dir):\n",
    "        self._generator = _TreeGenerator(root_dir)\n",
    "    \n",
    "    def generate(self):\n",
    "        tree = self._generator.build_tree()"
   ]
  },
  {
   "cell_type": "code",
   "execution_count": 115,
   "id": "02ab5606",
   "metadata": {},
   "outputs": [],
   "source": [
    "class _TreeGenerator:\n",
    "    def __init__(self, root_dir):\n",
    "        self._root_dir = pathlib.Path(root_dir)\n",
    "        self._tree = []\n",
    "    \n",
    "    def build_tree(self):\n",
    "        self._tree_head()\n",
    "        self._tree_body(self._root_dir)\n",
    "        return self._tree\n",
    "    \n",
    "    def _tree_head(self):\n",
    "        self._tree.append(f\"{self._root_dir}{os.sep}\")\n",
    "        self._tree.append(PIPE)\n",
    "    \n",
    "    def _tree_body(self, directory, prefix=\"\"):\n",
    "        entries = directory.iterdir()\n",
    "        entries = sorted(entries, key=lambda entry: entry.is_file())\n",
    "        entries_count = len(entries)\n",
    "        for index, entry in enumerate(entries):\n",
    "            connector = ELBOW if index == entries_count - 1 else TEE\n",
    "            if entry.is_dir():\n",
    "                self._add_directory(\n",
    "                    entry, index, entries_count, prefix, connector\n",
    "                )\n",
    "            else:\n",
    "                self._add_file(entry, prefix, connector)\n",
    "                \n",
    "    def _add_directory(\n",
    "        self, directory, index, entries_count, prefix, connector\n",
    "    ):\n",
    "        self._tree.append(f\"{prefix}{connector} {directory.name} {os.sep}\")\n",
    "        if index != entries_count - 1:\n",
    "            prefix += PIPE_PREFIX\n",
    "        else:\n",
    "            prefix += SPACE_PREFIX\n",
    "        self._tree_body(\n",
    "            directory=directory,\n",
    "            prefix=prefix\n",
    "        )\n",
    "        self._tree.append(prefix.rstrip())\n",
    "        \n",
    "    def _add_file(self, file, prefix, connector):\n",
    "        self._tree.append(f\"{prefix}{connector} {file.name}\")"
   ]
  },
  {
   "cell_type": "code",
   "execution_count": 121,
   "id": "5cd1168b",
   "metadata": {},
   "outputs": [
    {
     "name": "stdout",
     "output_type": "stream",
     "text": [
      "\u001b[1m\u001b[36mhello\u001b[m\u001b[m                \u001b[1m\u001b[36mtree\u001b[m\u001b[m\r\n",
      "\u001b[1m\u001b[36mpathlib_dir\u001b[m\u001b[m          tree_generator.ipynb\r\n"
     ]
    }
   ],
   "source": [
    "!ls\n",
    "tree = DirectoryTree('hello')"
   ]
  },
  {
   "cell_type": "code",
   "execution_count": 123,
   "id": "6759768d",
   "metadata": {},
   "outputs": [],
   "source": [
    "tree.generate()"
   ]
  },
  {
   "cell_type": "code",
   "execution_count": null,
   "id": "68d2d7b8",
   "metadata": {},
   "outputs": [],
   "source": []
  },
  {
   "cell_type": "code",
   "execution_count": null,
   "id": "8d86bdda",
   "metadata": {},
   "outputs": [],
   "source": []
  },
  {
   "cell_type": "code",
   "execution_count": null,
   "id": "50976e09",
   "metadata": {},
   "outputs": [],
   "source": [
    "p = pathlib.Path('pathlib_dir')"
   ]
  },
  {
   "cell_type": "code",
   "execution_count": null,
   "id": "eb418871",
   "metadata": {},
   "outputs": [],
   "source": []
  },
  {
   "cell_type": "code",
   "execution_count": 7,
   "id": "4e7a949e",
   "metadata": {},
   "outputs": [],
   "source": [
    "!mkdir hello"
   ]
  },
  {
   "cell_type": "code",
   "execution_count": 15,
   "id": "cce4ff0b",
   "metadata": {},
   "outputs": [
    {
     "name": "stdout",
     "output_type": "stream",
     "text": [
      "hello1.txt hello2.txt hello3.txt\r\n"
     ]
    }
   ],
   "source": [
    "!cd hello; touch hello.txt; mkdir child; cd child; touch hello1.txt hello2.txt hello3.txt; ls"
   ]
  },
  {
   "cell_type": "code",
   "execution_count": 89,
   "id": "8f1d08be",
   "metadata": {},
   "outputs": [],
   "source": [
    "!mkdir tree"
   ]
  },
  {
   "cell_type": "code",
   "execution_count": 90,
   "id": "97318ff2",
   "metadata": {},
   "outputs": [
    {
     "name": "stdout",
     "output_type": "stream",
     "text": [
      "hello1.txt hello2.txt hello3.txt\r\n"
     ]
    }
   ],
   "source": [
    "!cd tree; touch tree.txt; mkdir child; cd child; touch hello1.txt hello2.txt hello3.txt; ls"
   ]
  },
  {
   "cell_type": "code",
   "execution_count": 91,
   "id": "24e909bb",
   "metadata": {},
   "outputs": [
    {
     "name": "stdout",
     "output_type": "stream",
     "text": [
      "\u001b[01;34m.\u001b[00m\r\n",
      "├── \u001b[01;34mhello\u001b[00m\r\n",
      "│   ├── \u001b[01;34mchild\u001b[00m\r\n",
      "│   │   ├── hello1.txt\r\n",
      "│   │   ├── hello2.txt\r\n",
      "│   │   └── hello3.txt\r\n",
      "│   └── hello.txt\r\n",
      "├── \u001b[01;34mpathlib_dir\u001b[00m\r\n",
      "├── \u001b[01;34mtree\u001b[00m\r\n",
      "│   ├── \u001b[01;34mchild\u001b[00m\r\n",
      "│   │   ├── hello1.txt\r\n",
      "│   │   ├── hello2.txt\r\n",
      "│   │   └── hello3.txt\r\n",
      "│   └── tree.txt\r\n",
      "└── tree_generator.ipynb\r\n",
      "\r\n",
      "5 directories, 9 files\r\n"
     ]
    }
   ],
   "source": [
    "!tree"
   ]
  },
  {
   "cell_type": "code",
   "execution_count": 94,
   "id": "1259d855",
   "metadata": {},
   "outputs": [],
   "source": [
    "tree = DirectoryTree('tree')"
   ]
  },
  {
   "cell_type": "code",
   "execution_count": 95,
   "id": "1f8edffe",
   "metadata": {},
   "outputs": [
    {
     "name": "stdout",
     "output_type": "stream",
     "text": [
      "tree/\n",
      "|\n",
      "|---> child /\n",
      "|    |--->hello3.txt\n",
      "|    |--->hello2.txt\n",
      "|    |____hello1.txt\n",
      "|\n",
      "|____tree.txt\n"
     ]
    }
   ],
   "source": [
    "tree.generate()"
   ]
  },
  {
   "cell_type": "code",
   "execution_count": null,
   "id": "c8581dfe",
   "metadata": {},
   "outputs": [],
   "source": []
  },
  {
   "cell_type": "code",
   "execution_count": null,
   "id": "8af2f23c",
   "metadata": {},
   "outputs": [],
   "source": []
  },
  {
   "cell_type": "code",
   "execution_count": null,
   "id": "9bc612b8",
   "metadata": {},
   "outputs": [],
   "source": []
  },
  {
   "cell_type": "code",
   "execution_count": null,
   "id": "08461ef9",
   "metadata": {},
   "outputs": [],
   "source": []
  },
  {
   "cell_type": "code",
   "execution_count": null,
   "id": "12cfd69d",
   "metadata": {},
   "outputs": [],
   "source": []
  }
 ],
 "metadata": {
  "kernelspec": {
   "display_name": "Python 3 (ipykernel)",
   "language": "python",
   "name": "python3"
  },
  "language_info": {
   "codemirror_mode": {
    "name": "ipython",
    "version": 3
   },
   "file_extension": ".py",
   "mimetype": "text/x-python",
   "name": "python",
   "nbconvert_exporter": "python",
   "pygments_lexer": "ipython3",
   "version": "3.9.7"
  }
 },
 "nbformat": 4,
 "nbformat_minor": 5
}
